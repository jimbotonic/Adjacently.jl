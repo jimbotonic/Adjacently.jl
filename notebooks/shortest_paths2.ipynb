{
 "cells": [
  {
   "cell_type": "code",
   "execution_count": 4,
   "metadata": {},
   "outputs": [
    {
     "data": {
      "text/plain": [
       "Graphs"
      ]
     },
     "execution_count": 4,
     "metadata": {},
     "output_type": "execute_result"
    }
   ],
   "source": [
    "include(\"../src/util.jl\")\n",
    "include(\"../src/io.jl\")\n",
    "include(\"../src/graph.jl\")\n",
    "include(\"../src/pr.jl\")\n",
    "include(\"../src/rw.jl\")\n",
    "\n",
    "using Graphs\n",
    "\n",
    "const G = Graphs"
   ]
  },
  {
   "cell_type": "code",
   "execution_count": 2,
   "metadata": {},
   "outputs": [
    {
     "name": "stderr",
     "output_type": "stream",
     "text": [
      "┌ Info: loading graph\n",
      "└ @ Main In[2]:1\n"
     ]
    },
    {
     "data": {
      "text/plain": [
       "false"
      ]
     },
     "execution_count": 2,
     "metadata": {},
     "output_type": "execute_result"
    }
   ],
   "source": [
    "@info(\"loading graph\")\n",
    "core = adjlist(UInt32, is_directed=true)\n",
    "load_mgs3_graph(core, \"../datasets/Arxiv_HEP-PH/Arxiv_HEP-PH_core.mgs\")\n",
    "#load_mgs4_graph(core, \"../datasets/Arxiv_HEP-PH/Arxiv_HEP-PH_core.mgz\")\n",
    "\n",
    "EPSILON = 1e-8\n",
    "BOOST = true\n",
    "PROBA = false"
   ]
  },
  {
   "cell_type": "code",
   "execution_count": 3,
   "metadata": {},
   "outputs": [
    {
     "name": "stderr",
     "output_type": "stream",
     "text": [
      "┌ Info: getting rcore\n",
      "└ @ Main In[3]:1\n",
      "┌ Info: transforming core from adj to inc list\n",
      "└ @ Main In[3]:4\n"
     ]
    },
    {
     "data": {
      "text/plain": [
       "Directed Graph (12711 vertices, 139981 edges)"
      ]
     },
     "execution_count": 3,
     "metadata": {},
     "output_type": "execute_result"
    }
   ],
   "source": [
    "@info(\"getting rcore\")\n",
    "rcore = get_reverse_graph(core)\n",
    "\n",
    "@info(\"transforming core from adj to inc list\")\n",
    "core2 = get_inclist_from_adjlist(core)\n",
    "#serialize_to_jld(core2, \"core\", \"Arxiv_HEP-PH_core_inclist\")"
   ]
  },
  {
   "cell_type": "code",
   "execution_count": 5,
   "metadata": {},
   "outputs": [
    {
     "name": "stderr",
     "output_type": "stream",
     "text": [
      "┌ Info: computing Djikstra from vertex 1\n",
      "└ @ Main In[5]:1\n",
      "┌ Warning: `mutable_binary_minheap(::Type{T}) where T` is deprecated, use `MutableBinaryMinHeap{T}()` instead.\n",
      "│   caller = create_dijkstra_states(::GenericIncidenceList{UInt32,Graphs.Edge{UInt32},Array{UInt32,1},Array{Array{Graphs.Edge{UInt32},1},1}}, ::Type{Float64}) at dijkstra_spath.jl:33\n",
      "└ @ Graphs /home/jimmy/.julia/packages/Graphs/GQCid/src/dijkstra_spath.jl:33\n"
     ]
    },
    {
     "name": "stdout",
     "output_type": "stream",
     "text": [
      "  1.014404 seconds (938.18 k allocations: 43.430 MiB, 1.07% gc time)\n"
     ]
    },
    {
     "data": {
      "text/plain": [
       "DijkstraStates{UInt32,Float64,MutableBinaryHeap{Graphs.DijkstraHEntry{UInt32,Float64},DataStructures.LessThan},Int64}(UInt32[0x00000001, 0x00000001, 0x00000001, 0x00000001, 0x00000001, 0x00000001, 0x00000004, 0x00000004, 0x00000003, 0x00000005  …  0x00002f80, 0x000022c2, 0x00002eb5, 0x00000df6, 0x00001501, 0x00001194, 0x00001986, 0x00002ceb, 0x00002da2, 0x000028ad], [1, 1, 1, 1, 1, 1, 4, 4, 3, 5  …  12160, 8898, 11957, 3574, 5377, 4500, 6534, 11499, 11682, 10413], [0.0, 1.0, 1.0, 1.0, 1.0, 1.0, 2.0, 2.0, 2.0, 2.0  …  18.0, 19.0, 17.0, 9.0, 8.0, 15.0, 18.0, 19.0, 22.0, 8.0], [2, 2, 2, 2, 2, 2, 2, 2, 2, 2  …  2, 2, 2, 2, 2, 2, 2, 2, 2, 2], MutableBinaryHeap(), [0, 1, 2, 3, 4, 5, 14, 15, 12, 13  …  10855, 11267, 10286, 4423, 2875, 8515, 11033, 11426, 12138, 3542])"
      ]
     },
     "execution_count": 5,
     "metadata": {},
     "output_type": "execute_result"
    }
   ],
   "source": [
    "@info(\"computing Djikstra from vertex 1\")\n",
    "dists = ones(num_edges(core2))\n",
    "s = convert(UInt32,1)\n",
    "n = num_vertices(core)\n",
    "@time r = G.dijkstra_shortest_paths(core2, dists, s)"
   ]
  },
  {
   "cell_type": "code",
   "execution_count": 6,
   "metadata": {},
   "outputs": [
    {
     "name": "stderr",
     "output_type": "stream",
     "text": [
      "┌ Info: getting P matrix for core and rcore\n",
      "└ @ Main In[6]:1\n"
     ]
    },
    {
     "data": {
      "text/plain": [
       "12711×12711 SparseMatrixCSC{Float64,UInt32} with 139981 stored entries:\n",
       "  [2   ,     1]  =  0.125\n",
       "  [3   ,     1]  =  0.0333333\n",
       "  [4   ,     1]  =  0.333333\n",
       "  [5   ,     1]  =  0.125\n",
       "  [6   ,     1]  =  0.111111\n",
       "  [11  ,     2]  =  0.0181818\n",
       "  [12  ,     2]  =  0.0117647\n",
       "  [13  ,     2]  =  0.0384615\n",
       "  [9   ,     3]  =  0.00909091\n",
       "  [2   ,     4]  =  0.125\n",
       "  [7   ,     4]  =  0.0140845\n",
       "  [8   ,     4]  =  1.0\n",
       "  ⋮\n",
       "  [5392, 12709]  =  0.0192308\n",
       "  [5538, 12709]  =  0.0163934\n",
       "  [6579, 12709]  =  0.0322581\n",
       "  [7836, 12709]  =  0.0769231\n",
       "  [7837, 12709]  =  0.0344828\n",
       "  [7838, 12709]  =  0.047619\n",
       "  [7840, 12709]  =  0.0526316\n",
       "  [7849, 12709]  =  0.0588235\n",
       "  [7859, 12709]  =  0.142857\n",
       "  [8326, 12709]  =  0.25\n",
       "  [7367, 12710]  =  0.0833333\n",
       "  [7788, 12710]  =  0.333333\n",
       "  [8642, 12711]  =  0.125"
      ]
     },
     "execution_count": 6,
     "metadata": {},
     "output_type": "execute_result"
    }
   ],
   "source": [
    "@info(\"getting P matrix for core and rcore\")\n",
    "P_core = get_sparse_P_matrix(core)\n",
    "P_rcore = get_sparse_P_matrix(rcore)"
   ]
  },
  {
   "cell_type": "code",
   "execution_count": 7,
   "metadata": {},
   "outputs": [
    {
     "name": "stderr",
     "output_type": "stream",
     "text": [
      "┌ Info: computing Pagerank of core and rcore\n",
      "└ @ Main In[7]:1\n"
     ]
    },
    {
     "name": "stdout",
     "output_type": "stream",
     "text": [
      "  0.599078 seconds (1.11 M allocations: 181.019 MiB, 4.27% gc time)\n",
      "  0.103850 seconds (967 allocations: 140.410 MiB, 2.32% gc time)\n"
     ]
    },
    {
     "data": {
      "text/plain": [
       "12711-element Array{Float64,1}:\n",
       " 2.3505615977076433e-5 \n",
       " 1.3190501279784496e-5 \n",
       " 1.268836152005474e-5  \n",
       " 2.458261144463023e-5  \n",
       " 1.3945504354185438e-5 \n",
       " 1.5850964468656007e-5 \n",
       " 1.3228455096610861e-5 \n",
       " 1.320229327092151e-5  \n",
       " 0.00011485953817227452\n",
       " 1.470163024214687e-5  \n",
       " 1.5560329912330046e-5 \n",
       " 1.3615841249955967e-5 \n",
       " 3.0987785100539105e-5 \n",
       " ⋮                     \n",
       " 2.711504625541744e-5  \n",
       " 1.2899968765995246e-5 \n",
       " 5.61684743012662e-5   \n",
       " 1.2350273743958091e-5 \n",
       " 1.896742629953733e-5  \n",
       " 2.3855135015700085e-5 \n",
       " 7.770824667543093e-5  \n",
       " 1.3970387566164537e-5 \n",
       " 1.441524836153917e-5  \n",
       " 2.2738114470200135e-5 \n",
       " 1.736855042808143e-5  \n",
       " 1.3206918517539172e-5 "
      ]
     },
     "execution_count": 7,
     "metadata": {},
     "output_type": "execute_result"
    }
   ],
   "source": [
    "@info(\"computing Pagerank of core and rcore\")\n",
    "@time pr_core = PR(P_core, epsilon=EPSILON)\n",
    "@time pr_rcore = PR(P_rcore, epsilon=EPSILON)"
   ]
  },
  {
   "cell_type": "code",
   "execution_count": 8,
   "metadata": {},
   "outputs": [
    {
     "name": "stderr",
     "output_type": "stream",
     "text": [
      "┌ Info: computing personalized Pagerank for node source s\n",
      "└ @ Main In[8]:1\n"
     ]
    },
    {
     "name": "stdout",
     "output_type": "stream",
     "text": [
      "  0.127563 seconds (14.21 k allocations: 155.716 MiB, 9.78% gc time)\n"
     ]
    },
    {
     "data": {
      "text/plain": [
       "12711-element Array{Float64,1}:\n",
       " 0.1500000373140895    \n",
       " 0.038866759371310663  \n",
       " 0.0502303787434875    \n",
       " 0.025500006346261178  \n",
       " 0.029835053242744648  \n",
       " 0.025500045506734154  \n",
       " 0.017127885807347993  \n",
       " 0.007225001798068898  \n",
       " 0.04550639726657923   \n",
       " 0.013936024634079603  \n",
       " 0.018528017640231396  \n",
       " 0.011869254571801213  \n",
       " 0.011013387374327055  \n",
       " ⋮                     \n",
       " 9.433803134062814e-23 \n",
       " 2.670463569510678e-23 \n",
       " 2.0652286462432903e-22\n",
       " 6.596224416333753e-24 \n",
       " 7.741244197190032e-21 \n",
       " 5.388169643275001e-10 \n",
       " 4.4206360264780184e-8 \n",
       " 6.445668045774992e-19 \n",
       " 3.597116718135773e-24 \n",
       " 2.1857973950397982e-23\n",
       " 2.3369666367604332e-24\n",
       " 8.291685482056304e-8  "
      ]
     },
     "execution_count": 8,
     "metadata": {},
     "output_type": "execute_result"
    }
   ],
   "source": [
    "@info(\"computing personalized Pagerank for node source s\")\n",
    "ppr_s = zeros(Float64,n)\n",
    "ppr_s[s] = 1.\n",
    "@time pr_s = PR(P_core, ppr=ppr_s, init_pr=pr_core, epsilon=EPSILON)\n",
    "\n",
    "#ppr_t = zeros(Float64,n)\n",
    "#ppr_t[t] = 1.\n",
    "#@time pr_t = PR(P_rcore, ppr=ppr_t, init_pr=pr_rcore, epsilon=EPSILON)"
   ]
  },
  {
   "cell_type": "code",
   "execution_count": 9,
   "metadata": {},
   "outputs": [
    {
     "name": "stderr",
     "output_type": "stream",
     "text": [
      "┌ Info: applying boost if required\n",
      "└ @ Main In[9]:1\n"
     ]
    },
    {
     "data": {
      "text/plain": [
       "12711-element Array{Float64,1}:\n",
       " 2.863084669466441e-10 \n",
       " 7.356292910032481e-10 \n",
       " 1.9324620678687924e-9 \n",
       " 4.624789869248175e-10 \n",
       " 3.75357789268416e-10  \n",
       " 4.788803586664615e-10 \n",
       " 3.5887420747885594e-8 \n",
       " 2.2617146065676662e-10\n",
       " 2.3548815849123775e-7 \n",
       " 6.499745476300865e-10 \n",
       " 2.226067627104092e-8  \n",
       " 1.1063986637716895e-8 \n",
       " 4.4384057224646605e-9 \n",
       " ⋮                     \n",
       " 6.539943427095924e-10 \n",
       " 2.4038559647673934e-10\n",
       " 6.84235049227616e-10  \n",
       " 1.6038721232546403e-10\n",
       " 2.7080722015422885e-10\n",
       " 3.304049663272998e-10 \n",
       " 9.591089092327543e-10 \n",
       " 2.0056446797438082e-10\n",
       " 1.7457466935159035e-10\n",
       " 3.020386577417105e-10 \n",
       " 2.305601422035389e-10 \n",
       " 2.1108801654481663e-10"
      ]
     },
     "execution_count": 9,
     "metadata": {},
     "output_type": "execute_result"
    }
   ],
   "source": [
    "@info(\"applying boost if required\")\n",
    "pr_boost = Float64[]\n",
    "if BOOST\n",
    "\tpr_boost = pr_core .* pr_rcore\n",
    "end"
   ]
  },
  {
   "cell_type": "code",
   "execution_count": 10,
   "metadata": {},
   "outputs": [
    {
     "data": {
      "text/plain": [
       "get_sp_proba (generic function with 1 method)"
      ]
     },
     "execution_count": 10,
     "metadata": {},
     "output_type": "execute_result"
    }
   ],
   "source": [
    "function get_sp_greedy(s::T, t::T, g::GenericAdjacencyList{T,Array{T,1},Array{Array{T,1},1}}, df::Array{Float64,1}, max_length::Int64) where {T<:Unsigned}\n",
    "\t@info(\"searching shortest path (greedy approach) between vertices $s and $t\")\n",
    "\t# current vertex\n",
    "\tcv = s\n",
    "\t# current path\n",
    "\tsp = T[]\n",
    "\twhile length(sp) < max_length\n",
    "\t\tpush!(sp,cv)\n",
    "\t\tnei = out_neighbors(cv,g)\n",
    "\t\tnnei = setdiff(nei,sp)\n",
    "\t\tif length(nnei) == 0\n",
    "\t\t\t@info(\"--- exploration reached a dead end\")\n",
    "\t\t\t@info(\"--- explored path: \", sp)\n",
    "\t\t\tbreak\n",
    "\t\tend\n",
    "\t\tcv = nnei[findmax(df[nnei])[2]]\n",
    "\n",
    "\t\t# a path was found\n",
    "\t\tif cv == t\n",
    "\t\t\tpush!(sp,t)\n",
    "\t\t\t@info(\"path found: \", sp)\n",
    "\t\t\tbreak\n",
    "\t\tend\n",
    "\tend\n",
    "\treturn sp\n",
    "end\n",
    "\n",
    "function get_sp_proba(s::T, t::T, g::GenericAdjacencyList{T,Array{T,1},Array{Array{T,1},1}}, df::Array{Float64,1}, max_length::Int64, max_iter::Int64) where {T<:Unsigned}\n",
    "\t@info(\"searching shortest path (probabilistic approach) between vertices $s and $t\")\n",
    "\t# array of paths\n",
    "\tsps = Array{Array{T,1},1}()\n",
    "\t# current path\n",
    "\tsp = T[]\n",
    "\t# search in a probabilistic way shortest paths between s and t\n",
    "\tcv = s\n",
    "\tc = 0\n",
    "\t# shortest length found so far\n",
    "\tmin_length = Inf\n",
    "\twhile c < max_iter\n",
    "\t\tsp = T[]\n",
    "\t\tcv = s\n",
    "\t\t# path length\n",
    "\t\tpl = 1\n",
    "\t\twhile pl < max_length && pl < (min_length-1)\n",
    "\t\t\tpush!(sp,cv)\n",
    "\t\t\tnei = out_neighbors(cv, g)\n",
    "\t\t\tnnei = setdiff(nei,sp)\n",
    "\t\t\tif length(nnei) == 0\n",
    "\t\t\t\t@debug(\"--- exploration reached a dead end\")\n",
    "\t\t\t\t@debug(\"--- explored path: \", sp)\n",
    "\t\t\t\tbreak\n",
    "\t\t\tend\n",
    "\t\t\tpos = get_flying_index(df[nnei] / sum(df[nnei]))\n",
    "\t\t\tcv = nnei[pos]\n",
    "\n",
    "\t\t\t# we found a path\n",
    "\t\t\tif cv == t\n",
    "\t\t\t\tpush!(sp,t)\n",
    "\t\t\t\tpl += 1\n",
    "\t\t\t\tif !(sp in sps)\n",
    "\t\t\t\t\t@info(\"path found between $s and $t (length $pl): \", sp)\n",
    "\t\t\t\t\tpush!(sps,sp)\n",
    "\t\t\t\t\t# update min_length if necessary\n",
    "\t\t\t\t\tif pl < min_length\n",
    "\t\t\t\t\t\tmin_length = pl\n",
    "\t\t\t\t\tend\n",
    "\t\t\t\tend\n",
    "\t\t\t\tbreak\n",
    "\t\t\tend\n",
    "\t\t\tpl += 1\n",
    "\t\tend\n",
    "\t\tc += 1\n",
    "\tend\n",
    "\treturn sps\n",
    "end"
   ]
  },
  {
   "cell_type": "code",
   "execution_count": 11,
   "metadata": {},
   "outputs": [
    {
     "name": "stderr",
     "output_type": "stream",
     "text": [
      "┌ Info: computing personalized Pagerank for target node source t: \n",
      "│   t = 2\n",
      "└ @ Main In[11]:18\n"
     ]
    },
    {
     "name": "stdout",
     "output_type": "stream",
     "text": [
      "  0.177189 seconds (1.91 k allocations: 250.916 MiB, 8.87% gc time)\n"
     ]
    },
    {
     "name": "stderr",
     "output_type": "stream",
     "text": [
      "┌ Info: computing DF\n",
      "└ @ Main In[11]:23\n",
      "┌ Info: searching shortest path (greedy approach) between vertices 1 and 2\n",
      "└ @ Main In[9]:2\n",
      "┌ Info: path found: \n",
      "│   sp = UInt32[0x00000001, 0x00000002]\n",
      "└ @ Main In[9]:21\n",
      "┌ Info: ----- SP (Djikstra): \n",
      "│   convert(Array{Int64, 1}, paths[1]) = [1, 2]\n",
      "└ @ Main In[11]:36\n",
      "┌ Info: ----- SP (DF): \n",
      "│   convert(Array{Int64, 1}, sp) = [1, 2]\n",
      "└ @ Main In[11]:46\n",
      "┌ Info: computing personalized Pagerank for target node source t: \n",
      "│   t = 3\n",
      "└ @ Main In[11]:18\n"
     ]
    },
    {
     "name": "stdout",
     "output_type": "stream",
     "text": [
      "  0.173661 seconds (1.91 k allocations: 250.916 MiB, 4.65% gc time)\n"
     ]
    },
    {
     "name": "stderr",
     "output_type": "stream",
     "text": [
      "┌ Info: computing DF\n",
      "└ @ Main In[11]:23\n",
      "┌ Info: searching shortest path (greedy approach) between vertices 1 and 3\n",
      "└ @ Main In[9]:2\n",
      "┌ Info: path found: \n",
      "│   sp = UInt32[0x00000001, 0x00000003]\n",
      "└ @ Main In[9]:21\n",
      "┌ Info: ----- SP (Djikstra): \n",
      "│   convert(Array{Int64, 1}, paths[1]) = [1, 3]\n",
      "└ @ Main In[11]:36\n",
      "┌ Info: ----- SP (DF): \n",
      "│   convert(Array{Int64, 1}, sp) = [1, 3]\n",
      "└ @ Main In[11]:46\n",
      "┌ Info: computing personalized Pagerank for target node source t: \n",
      "│   t = 4\n",
      "└ @ Main In[11]:18\n"
     ]
    },
    {
     "name": "stdout",
     "output_type": "stream",
     "text": [
      "  0.176997 seconds (1.88 k allocations: 247.226 MiB, 4.56% gc time)\n"
     ]
    },
    {
     "name": "stderr",
     "output_type": "stream",
     "text": [
      "┌ Info: computing DF\n",
      "└ @ Main In[11]:23\n",
      "┌ Info: searching shortest path (greedy approach) between vertices 1 and 4\n",
      "└ @ Main In[9]:2\n",
      "┌ Info: path found: \n",
      "│   sp = UInt32[0x00000001, 0x00000004]\n",
      "└ @ Main In[9]:21\n",
      "┌ Info: ----- SP (Djikstra): \n",
      "│   convert(Array{Int64, 1}, paths[1]) = [1, 4]\n",
      "└ @ Main In[11]:36\n",
      "┌ Info: ----- SP (DF): \n",
      "│   convert(Array{Int64, 1}, sp) = [1, 4]\n",
      "└ @ Main In[11]:46\n",
      "┌ Info: computing personalized Pagerank for target node source t: \n",
      "│   t = 5\n",
      "└ @ Main In[11]:18\n"
     ]
    },
    {
     "name": "stdout",
     "output_type": "stream",
     "text": [
      "  0.185411 seconds (1.91 k allocations: 250.916 MiB, 4.83% gc time)\n"
     ]
    },
    {
     "name": "stderr",
     "output_type": "stream",
     "text": [
      "┌ Info: computing DF\n",
      "└ @ Main In[11]:23\n",
      "┌ Info: searching shortest path (greedy approach) between vertices 1 and 5\n",
      "└ @ Main In[9]:2\n",
      "┌ Info: path found: \n",
      "│   sp = UInt32[0x00000001, 0x00000005]\n",
      "└ @ Main In[9]:21\n",
      "┌ Info: ----- SP (Djikstra): \n",
      "│   convert(Array{Int64, 1}, paths[1]) = [1, 5]\n",
      "└ @ Main In[11]:36\n",
      "┌ Info: ----- SP (DF): \n",
      "│   convert(Array{Int64, 1}, sp) = [1, 5]\n",
      "└ @ Main In[11]:46\n",
      "┌ Info: computing personalized Pagerank for target node source t: \n",
      "│   t = 6\n",
      "└ @ Main In[11]:18\n"
     ]
    },
    {
     "name": "stdout",
     "output_type": "stream",
     "text": [
      "  0.184264 seconds (1.88 k allocations: 247.226 MiB, 4.39% gc time)\n"
     ]
    },
    {
     "name": "stderr",
     "output_type": "stream",
     "text": [
      "┌ Info: computing DF\n",
      "└ @ Main In[11]:23\n",
      "┌ Info: searching shortest path (greedy approach) between vertices 1 and 6\n",
      "└ @ Main In[9]:2\n",
      "┌ Info: path found: \n",
      "│   sp = UInt32[0x00000001, 0x00000006]\n",
      "└ @ Main In[9]:21\n",
      "┌ Info: ----- SP (Djikstra): \n",
      "│   convert(Array{Int64, 1}, paths[1]) = [1, 6]\n",
      "└ @ Main In[11]:36\n",
      "┌ Info: ----- SP (DF): \n",
      "│   convert(Array{Int64, 1}, sp) = [1, 6]\n",
      "└ @ Main In[11]:46\n",
      "┌ Info: computing personalized Pagerank for target node source t: \n",
      "│   t = 7\n",
      "└ @ Main In[11]:18\n"
     ]
    },
    {
     "name": "stdout",
     "output_type": "stream",
     "text": [
      "  0.180604 seconds (1.91 k allocations: 250.916 MiB, 4.56% gc time)\n"
     ]
    },
    {
     "name": "stderr",
     "output_type": "stream",
     "text": [
      "┌ Info: computing DF\n",
      "└ @ Main In[11]:23\n",
      "┌ Info: searching shortest path (greedy approach) between vertices 1 and 7\n",
      "└ @ Main In[9]:2\n",
      "┌ Info: path found: \n",
      "│   sp = UInt32[0x00000001, 0x00000004, 0x00000007]\n",
      "└ @ Main In[9]:21\n",
      "┌ Info: ----- SP (Djikstra): \n",
      "│   convert(Array{Int64, 1}, paths[1]) = [1, 4, 7]\n",
      "└ @ Main In[11]:36\n",
      "┌ Info: ----- SP (DF): \n",
      "│   convert(Array{Int64, 1}, sp) = [1, 4, 7]\n",
      "└ @ Main In[11]:46\n",
      "┌ Info: computing personalized Pagerank for target node source t: \n",
      "│   t = 8\n",
      "└ @ Main In[11]:18\n"
     ]
    },
    {
     "name": "stdout",
     "output_type": "stream",
     "text": [
      "  0.196205 seconds (1.91 k allocations: 250.916 MiB, 4.47% gc time)\n"
     ]
    },
    {
     "name": "stderr",
     "output_type": "stream",
     "text": [
      "┌ Info: computing DF\n",
      "└ @ Main In[11]:23\n",
      "┌ Info: searching shortest path (greedy approach) between vertices 1 and 8\n",
      "└ @ Main In[9]:2\n",
      "┌ Info: path found: \n",
      "│   sp = UInt32[0x00000001, 0x00000004, 0x00000008]\n",
      "└ @ Main In[9]:21\n",
      "┌ Info: ----- SP (Djikstra): \n",
      "│   convert(Array{Int64, 1}, paths[1]) = [1, 4, 8]\n",
      "└ @ Main In[11]:36\n",
      "┌ Info: ----- SP (DF): \n",
      "│   convert(Array{Int64, 1}, sp) = [1, 4, 8]\n",
      "└ @ Main In[11]:46\n",
      "┌ Info: computing personalized Pagerank for target node source t: \n",
      "│   t = 9\n",
      "└ @ Main In[11]:18\n"
     ]
    },
    {
     "name": "stdout",
     "output_type": "stream",
     "text": [
      "  0.171756 seconds (1.85 k allocations: 243.536 MiB, 4.59% gc time)\n"
     ]
    },
    {
     "name": "stderr",
     "output_type": "stream",
     "text": [
      "┌ Info: computing DF\n",
      "└ @ Main In[11]:23\n",
      "┌ Info: searching shortest path (greedy approach) between vertices 1 and 9\n",
      "└ @ Main In[9]:2\n",
      "┌ Info: path found: \n",
      "│   sp = UInt32[0x00000001, 0x00000003, 0x00000009]\n",
      "└ @ Main In[9]:21\n",
      "┌ Info: ----- SP (Djikstra): \n",
      "│   convert(Array{Int64, 1}, paths[1]) = [1, 3, 9]\n",
      "└ @ Main In[11]:36\n",
      "┌ Info: ----- SP (DF): \n",
      "│   convert(Array{Int64, 1}, sp) = [1, 3, 9]\n",
      "└ @ Main In[11]:46\n",
      "┌ Info: computing personalized Pagerank for target node source t: \n",
      "│   t = 10\n",
      "└ @ Main In[11]:18\n"
     ]
    },
    {
     "name": "stdout",
     "output_type": "stream",
     "text": [
      "  0.173651 seconds (1.88 k allocations: 247.226 MiB, 5.11% gc time)\n"
     ]
    },
    {
     "name": "stderr",
     "output_type": "stream",
     "text": [
      "┌ Info: computing DF\n",
      "└ @ Main In[11]:23\n",
      "┌ Info: searching shortest path (greedy approach) between vertices 1 and 10\n",
      "└ @ Main In[9]:2\n",
      "┌ Info: path found: \n",
      "│   sp = UInt32[0x00000001, 0x00000005, 0x0000000a]\n",
      "└ @ Main In[9]:21\n",
      "┌ Info: ----- SP (Djikstra): \n",
      "│   convert(Array{Int64, 1}, paths[1]) = [1, 5, 10]\n",
      "└ @ Main In[11]:36\n",
      "┌ Info: ----- SP (DF): \n",
      "│   convert(Array{Int64, 1}, sp) = [1, 5, 10]\n",
      "└ @ Main In[11]:46\n",
      "┌ Info: computing personalized Pagerank for target node source t: \n",
      "│   t = 11\n",
      "└ @ Main In[11]:18\n"
     ]
    },
    {
     "name": "stdout",
     "output_type": "stream",
     "text": [
      "  0.180549 seconds (1.96 k allocations: 258.296 MiB, 4.75% gc time)\n"
     ]
    },
    {
     "name": "stderr",
     "output_type": "stream",
     "text": [
      "┌ Info: computing DF\n",
      "└ @ Main In[11]:23\n",
      "┌ Info: searching shortest path (greedy approach) between vertices 1 and 11\n",
      "└ @ Main In[9]:2\n",
      "┌ Info: path found: \n",
      "│   sp = UInt32[0x00000001, 0x00000002, 0x0000000b]\n",
      "└ @ Main In[9]:21\n",
      "┌ Info: ----- SP (Djikstra): \n",
      "│   convert(Array{Int64, 1}, paths[1]) = [1, 2, 11]\n",
      "└ @ Main In[11]:36\n",
      "┌ Info: ----- SP (DF): \n",
      "│   convert(Array{Int64, 1}, sp) = [1, 2, 11]\n",
      "└ @ Main In[11]:46\n",
      "┌ Info: computing personalized Pagerank for target node source t: \n",
      "│   t = 12\n",
      "└ @ Main In[11]:18\n"
     ]
    },
    {
     "name": "stdout",
     "output_type": "stream",
     "text": [
      "  0.176813 seconds (1.91 k allocations: 250.916 MiB, 5.20% gc time)\n"
     ]
    },
    {
     "name": "stderr",
     "output_type": "stream",
     "text": [
      "┌ Info: computing DF\n",
      "└ @ Main In[11]:23\n",
      "┌ Info: searching shortest path (greedy approach) between vertices 1 and 12\n",
      "└ @ Main In[9]:2\n",
      "┌ Info: path found: \n",
      "│   sp = UInt32[0x00000001, 0x00000002, 0x0000000c]\n",
      "└ @ Main In[9]:21\n",
      "┌ Info: ----- SP (Djikstra): \n",
      "│   convert(Array{Int64, 1}, paths[1]) = [1, 2, 12]\n",
      "└ @ Main In[11]:36\n",
      "┌ Info: ----- SP (DF): \n",
      "│   convert(Array{Int64, 1}, sp) = [1, 2, 12]\n",
      "└ @ Main In[11]:46\n",
      "┌ Info: computing personalized Pagerank for target node source t: \n",
      "│   t = 13\n",
      "└ @ Main In[11]:18\n"
     ]
    },
    {
     "name": "stdout",
     "output_type": "stream",
     "text": [
      "  0.177723 seconds (1.93 k allocations: 254.606 MiB, 4.28% gc time)\n"
     ]
    },
    {
     "name": "stderr",
     "output_type": "stream",
     "text": [
      "┌ Info: computing DF\n",
      "└ @ Main In[11]:23\n",
      "┌ Info: searching shortest path (greedy approach) between vertices 1 and 13\n",
      "└ @ Main In[9]:2\n",
      "┌ Info: path found: \n",
      "│   sp = UInt32[0x00000001, 0x00000002, 0x0000000d]\n",
      "└ @ Main In[9]:21\n",
      "┌ Info: ----- SP (Djikstra): \n",
      "│   convert(Array{Int64, 1}, paths[1]) = [1, 2, 13]\n",
      "└ @ Main In[11]:36\n",
      "┌ Info: ----- SP (DF): \n",
      "│   convert(Array{Int64, 1}, sp) = [1, 2, 13]\n",
      "└ @ Main In[11]:46\n",
      "┌ Info: computing personalized Pagerank for target node source t: \n",
      "│   t = 14\n",
      "└ @ Main In[11]:18\n"
     ]
    },
    {
     "name": "stdout",
     "output_type": "stream",
     "text": [
      "  0.166255 seconds (1.79 k allocations: 236.156 MiB, 4.92% gc time)\n"
     ]
    },
    {
     "name": "stderr",
     "output_type": "stream",
     "text": [
      "┌ Info: computing DF\n",
      "└ @ Main In[11]:23\n",
      "┌ Info: searching shortest path (greedy approach) between vertices 1 and 14\n",
      "└ @ Main In[9]:2\n",
      "┌ Info: path found: \n",
      "│   sp = UInt32[0x00000001, 0x00000006, 0x0000000e]\n",
      "└ @ Main In[9]:21\n",
      "┌ Info: ----- SP (Djikstra): \n",
      "│   convert(Array{Int64, 1}, paths[1]) = [1, 6, 14]\n",
      "└ @ Main In[11]:36\n",
      "┌ Info: ----- SP (DF): \n",
      "│   convert(Array{Int64, 1}, sp) = [1, 6, 14]\n",
      "└ @ Main In[11]:46\n",
      "┌ Info: computing personalized Pagerank for target node source t: \n",
      "│   t = 15\n",
      "└ @ Main In[11]:18\n"
     ]
    },
    {
     "name": "stdout",
     "output_type": "stream",
     "text": [
      "  0.183648 seconds (1.85 k allocations: 243.536 MiB, 4.29% gc time)\n"
     ]
    },
    {
     "name": "stderr",
     "output_type": "stream",
     "text": [
      "┌ Info: computing DF\n",
      "└ @ Main In[11]:23\n",
      "┌ Info: searching shortest path (greedy approach) between vertices 1 and 15\n",
      "└ @ Main In[9]:2\n",
      "┌ Info: path found: \n",
      "│   sp = UInt32[0x00000001, 0x00000006, 0x0000000f]\n",
      "└ @ Main In[9]:21\n",
      "┌ Info: ----- SP (Djikstra): \n",
      "│   convert(Array{Int64, 1}, paths[1]) = [1, 6, 15]\n",
      "└ @ Main In[11]:36\n",
      "┌ Info: ----- SP (DF): \n",
      "│   convert(Array{Int64, 1}, sp) = [1, 6, 15]\n",
      "└ @ Main In[11]:46\n",
      "┌ Info: computing personalized Pagerank for target node source t: \n",
      "│   t = 16\n",
      "└ @ Main In[11]:18\n"
     ]
    },
    {
     "name": "stdout",
     "output_type": "stream",
     "text": [
      "  0.175419 seconds (1.85 k allocations: 243.536 MiB, 4.76% gc time)\n"
     ]
    },
    {
     "name": "stderr",
     "output_type": "stream",
     "text": [
      "┌ Info: computing DF\n",
      "└ @ Main In[11]:23\n",
      "┌ Info: searching shortest path (greedy approach) between vertices 1 and 16\n",
      "└ @ Main In[9]:2\n",
      "┌ Info: path found: \n",
      "│   sp = UInt32[0x00000001, 0x00000006, 0x00000010]\n",
      "└ @ Main In[9]:21\n",
      "┌ Info: ----- SP (Djikstra): \n",
      "│   convert(Array{Int64, 1}, paths[1]) = [1, 6, 16]\n",
      "└ @ Main In[11]:36\n",
      "┌ Info: ----- SP (DF): \n",
      "│   convert(Array{Int64, 1}, sp) = [1, 6, 16]\n",
      "└ @ Main In[11]:46\n",
      "┌ Info: computing personalized Pagerank for target node source t: \n",
      "│   t = 17\n",
      "└ @ Main In[11]:18\n"
     ]
    },
    {
     "name": "stdout",
     "output_type": "stream",
     "text": [
      "  0.188028 seconds (1.96 k allocations: 258.296 MiB, 4.78% gc time)\n"
     ]
    },
    {
     "name": "stderr",
     "output_type": "stream",
     "text": [
      "┌ Info: computing DF\n",
      "└ @ Main In[11]:23\n",
      "┌ Info: searching shortest path (greedy approach) between vertices 1 and 17\n",
      "└ @ Main In[9]:2\n",
      "┌ Info: --- exploration reached a dead end\n",
      "└ @ Main In[9]:12\n",
      "┌ Info: --- explored path: \n",
      "│   sp = UInt32[0x00000001, 0x00000003, 0x00000009, 0x0000166f, 0x000024a9, 0x000014a1, 0x000014f9, 0x00002ccd, 0x000000ab, 0x00000679, 0x000012b9, 0x00000c13, 0x00000c0d, 0x000007a4, 0x00000082, 0x00000d4a, 0x0000064f, 0x000029d5, 0x00003180, 0x000021e8]\n",
      "└ @ Main In[9]:13\n",
      "┌ Info: ----- SP (Djikstra): \n",
      "│   convert(Array{Int64, 1}, paths[1]) = [1, 3, 9, 5743, 9385, 8405, 1499, 171, 1657, 4793, 3091, 11219, 9040, 190, 46, 17]\n",
      "└ @ Main In[11]:36\n",
      "┌ Info: ----- SP (DF): \n",
      "│   convert(Array{Int64, 1}, sp) = [1, 3, 9, 5743, 9385, 5281, 5369, 11469, 171, 1657, 4793, 3091, 3085, 1956, 130, 3402, 1615, 10709, 12672, 8680]\n",
      "└ @ Main In[11]:46\n",
      "┌ Info: computing personalized Pagerank for target node source t: \n",
      "│   t = 18\n",
      "└ @ Main In[11]:18\n"
     ]
    },
    {
     "name": "stdout",
     "output_type": "stream",
     "text": [
      "  0.189825 seconds (1.99 k allocations: 261.986 MiB, 4.65% gc time)\n"
     ]
    },
    {
     "name": "stderr",
     "output_type": "stream",
     "text": [
      "┌ Info: computing DF\n",
      "└ @ Main In[11]:23\n",
      "┌ Info: searching shortest path (greedy approach) between vertices 1 and 18\n",
      "└ @ Main In[9]:2\n",
      "┌ Info: --- exploration reached a dead end\n",
      "└ @ Main In[9]:12\n",
      "┌ Info: --- explored path: \n",
      "│   sp = UInt32[0x00000001, 0x00000003, 0x00000009, 0x0000166f, 0x000024a9, 0x000014a1, 0x000014f9, 0x00002ccd, 0x000000ab, 0x00000679, 0x000012b9, 0x00000c13, 0x00000c0d, 0x000007a4, 0x00000082, 0x00000d4a, 0x0000064f, 0x000029d5, 0x00003180, 0x000021e8]\n",
      "└ @ Main In[9]:13\n",
      "┌ Info: ----- SP (Djikstra): \n",
      "│   convert(Array{Int64, 1}, paths[1]) = [1, 3, 9, 5743, 9385, 8405, 1499, 171, 1657, 4793, 3091, 11219, 12661, 1514, 18]\n",
      "└ @ Main In[11]:36\n",
      "┌ Info: ----- SP (DF): \n",
      "│   convert(Array{Int64, 1}, sp) = [1, 3, 9, 5743, 9385, 5281, 5369, 11469, 171, 1657, 4793, 3091, 3085, 1956, 130, 3402, 1615, 10709, 12672, 8680]\n",
      "└ @ Main In[11]:46\n",
      "┌ Info: computing personalized Pagerank for target node source t: \n",
      "│   t = 19\n",
      "└ @ Main In[11]:18\n"
     ]
    },
    {
     "name": "stdout",
     "output_type": "stream",
     "text": [
      "  0.187076 seconds (2.05 k allocations: 269.366 MiB, 4.56% gc time)\n"
     ]
    },
    {
     "name": "stderr",
     "output_type": "stream",
     "text": [
      "┌ Info: computing DF\n",
      "└ @ Main In[11]:23\n",
      "┌ Info: searching shortest path (greedy approach) between vertices 1 and 19\n",
      "└ @ Main In[9]:2\n",
      "┌ Info: --- exploration reached a dead end\n",
      "└ @ Main In[9]:12\n",
      "┌ Info: --- explored path: \n",
      "│   sp = UInt32[0x00000001, 0x00000003, 0x00000009, 0x0000166f, 0x000024a9, 0x000014a1, 0x000014f9, 0x00002ccd, 0x000000ab, 0x00000679, 0x000012b9, 0x00000c13, 0x00000c0d, 0x000007a4, 0x00000082, 0x00000d4a, 0x0000064f, 0x000029d5, 0x00003180, 0x000021e8]\n",
      "└ @ Main In[9]:13\n",
      "┌ Info: ----- SP (Djikstra): \n",
      "│   convert(Array{Int64, 1}, paths[1]) = [1, 3, 9, 5743, 9385, 8405, 1499, 171, 1657, 4793, 3091, 11219, 12687, 3376, 3760, 1337, 19]\n",
      "└ @ Main In[11]:36\n",
      "┌ Info: ----- SP (DF): \n",
      "│   convert(Array{Int64, 1}, sp) = [1, 3, 9, 5743, 9385, 5281, 5369, 11469, 171, 1657, 4793, 3091, 3085, 1956, 130, 3402, 1615, 10709, 12672, 8680]\n",
      "└ @ Main In[11]:46\n",
      "┌ Info: computing personalized Pagerank for target node source t: \n",
      "│   t = 20\n",
      "└ @ Main In[11]:18\n"
     ]
    },
    {
     "name": "stdout",
     "output_type": "stream",
     "text": [
      "  0.193164 seconds (2.07 k allocations: 273.056 MiB, 4.86% gc time)\n"
     ]
    },
    {
     "name": "stderr",
     "output_type": "stream",
     "text": [
      "┌ Info: computing DF\n",
      "└ @ Main In[11]:23\n",
      "┌ Info: searching shortest path (greedy approach) between vertices 1 and 20\n",
      "└ @ Main In[9]:2\n",
      "┌ Info: --- exploration reached a dead end\n",
      "└ @ Main In[9]:12\n",
      "┌ Info: --- explored path: \n",
      "│   sp = UInt32[0x00000001, 0x00000003, 0x00000009, 0x0000166f, 0x000024a9, 0x000014a1, 0x000014f9, 0x00002ccd, 0x000000ab, 0x00000679, 0x000012b9, 0x00000c13, 0x00000c0d, 0x000007a4, 0x00000082, 0x00000d4a, 0x0000064f, 0x000029d5, 0x00003180, 0x000021e8]\n",
      "└ @ Main In[9]:13\n",
      "┌ Info: ----- SP (Djikstra): \n",
      "│   convert(Array{Int64, 1}, paths[1]) = [1, 3, 9, 5743, 9385, 8405, 1499, 171, 1657, 4793, 3091, 11219, 12687, 10152, 10158, 10163, 195, 20]\n",
      "└ @ Main In[11]:36\n",
      "┌ Info: ----- SP (DF): \n",
      "│   convert(Array{Int64, 1}, sp) = [1, 3, 9, 5743, 9385, 5281, 5369, 11469, 171, 1657, 4793, 3091, 3085, 1956, 130, 3402, 1615, 10709, 12672, 8680]\n",
      "└ @ Main In[11]:46\n",
      "┌ Info: computing personalized Pagerank for target node source t: \n",
      "│   t = 21\n",
      "└ @ Main In[11]:18\n"
     ]
    },
    {
     "name": "stdout",
     "output_type": "stream",
     "text": [
      "  0.199944 seconds (1.96 k allocations: 258.296 MiB, 4.14% gc time)\n"
     ]
    },
    {
     "name": "stderr",
     "output_type": "stream",
     "text": [
      "┌ Info: computing DF\n",
      "└ @ Main In[11]:23\n",
      "┌ Info: searching shortest path (greedy approach) between vertices 1 and 21\n",
      "└ @ Main In[9]:2\n",
      "┌ Info: path found: \n",
      "│   sp = UInt32[0x00000001, 0x00000003, 0x00000009, 0x0000166f, 0x000024a9, 0x000020d5, 0x00000015]\n",
      "└ @ Main In[9]:21\n",
      "┌ Info: ----- SP (Djikstra): \n",
      "│   convert(Array{Int64, 1}, paths[1]) = [1, 4, 7, 215, 1359, 21]\n",
      "└ @ Main In[11]:36\n",
      "┌ Info: ----- SP (DF): \n",
      "│   convert(Array{Int64, 1}, sp) = [1, 3, 9, 5743, 9385, 8405, 21]\n",
      "└ @ Main In[11]:46\n",
      "┌ Info: computing personalized Pagerank for target node source t: \n",
      "│   t = 22\n",
      "└ @ Main In[11]:18\n"
     ]
    },
    {
     "name": "stdout",
     "output_type": "stream",
     "text": [
      "  0.306822 seconds (1.93 k allocations: 254.606 MiB, 4.68% gc time)\n"
     ]
    },
    {
     "name": "stderr",
     "output_type": "stream",
     "text": [
      "┌ Info: computing DF\n",
      "└ @ Main In[11]:23\n",
      "┌ Info: searching shortest path (greedy approach) between vertices 1 and 22\n",
      "└ @ Main In[9]:2\n",
      "┌ Info: path found: \n",
      "│   sp = UInt32[0x00000001, 0x00000004, 0x00000007, 0x000000d7, 0x0000054f, 0x00000016]\n",
      "└ @ Main In[9]:21\n",
      "┌ Info: ----- SP (Djikstra): \n",
      "│   convert(Array{Int64, 1}, paths[1]) = [1, 4, 7, 215, 1359, 22]\n",
      "└ @ Main In[11]:36\n",
      "┌ Info: ----- SP (DF): \n",
      "│   convert(Array{Int64, 1}, sp) = [1, 4, 7, 215, 1359, 22]\n",
      "└ @ Main In[11]:46\n",
      "┌ Info: computing personalized Pagerank for target node source t: \n",
      "│   t = 23\n",
      "└ @ Main In[11]:18\n"
     ]
    },
    {
     "name": "stdout",
     "output_type": "stream",
     "text": [
      "  0.238850 seconds (1.88 k allocations: 247.226 MiB, 4.72% gc time)\n"
     ]
    },
    {
     "name": "stderr",
     "output_type": "stream",
     "text": [
      "┌ Info: computing DF\n",
      "└ @ Main In[11]:23\n",
      "┌ Info: searching shortest path (greedy approach) between vertices 1 and 23\n",
      "└ @ Main In[9]:2\n",
      "┌ Info: path found: \n",
      "│   sp = UInt32[0x00000001, 0x00000004, 0x00000007, 0x000000d7, 0x0000054f, 0x00000017]\n",
      "└ @ Main In[9]:21\n",
      "┌ Info: ----- SP (Djikstra): \n",
      "│   convert(Array{Int64, 1}, paths[1]) = [1, 4, 7, 215, 1359, 23]\n",
      "└ @ Main In[11]:36\n",
      "┌ Info: ----- SP (DF): \n",
      "│   convert(Array{Int64, 1}, sp) = [1, 4, 7, 215, 1359, 23]\n",
      "└ @ Main In[11]:46\n",
      "┌ Info: computing personalized Pagerank for target node source t: \n",
      "│   t = 24\n",
      "└ @ Main In[11]:18\n"
     ]
    },
    {
     "name": "stdout",
     "output_type": "stream",
     "text": [
      "  0.176162 seconds (1.96 k allocations: 258.296 MiB, 4.97% gc time)\n"
     ]
    },
    {
     "name": "stderr",
     "output_type": "stream",
     "text": [
      "┌ Info: computing DF\n",
      "└ @ Main In[11]:23\n",
      "┌ Info: searching shortest path (greedy approach) between vertices 1 and 24\n",
      "└ @ Main In[9]:2\n",
      "┌ Info: path found: \n",
      "│   sp = UInt32[0x00000001, 0x00000003, 0x00000009, 0x0000166f, 0x000024a9, 0x000014a1, 0x000014f9, 0x000012cd, 0x00000018]\n",
      "└ @ Main In[9]:21\n",
      "┌ Info: ----- SP (Djikstra): \n",
      "│   convert(Array{Int64, 1}, paths[1]) = [1, 3, 9, 5743, 9385, 5281, 5369, 4813, 24]\n",
      "└ @ Main In[11]:36\n",
      "┌ Info: ----- SP (DF): \n",
      "│   convert(Array{Int64, 1}, sp) = [1, 3, 9, 5743, 9385, 5281, 5369, 4813, 24]\n",
      "└ @ Main In[11]:46\n",
      "┌ Info: computing personalized Pagerank for target node source t: \n",
      "│   t = 25\n",
      "└ @ Main In[11]:18\n"
     ]
    },
    {
     "name": "stdout",
     "output_type": "stream",
     "text": [
      "  0.176445 seconds (1.96 k allocations: 258.296 MiB, 4.59% gc time)\n"
     ]
    },
    {
     "name": "stderr",
     "output_type": "stream",
     "text": [
      "┌ Info: computing DF\n",
      "└ @ Main In[11]:23\n",
      "┌ Info: searching shortest path (greedy approach) between vertices 1 and 25\n",
      "└ @ Main In[9]:2\n",
      "┌ Info: path found: \n",
      "│   sp = UInt32[0x00000001, 0x00000003, 0x00000009, 0x0000166f, 0x000024a9, 0x000014a1, 0x000014f9, 0x000012cd, 0x00000019]\n",
      "└ @ Main In[9]:21\n",
      "┌ Info: ----- SP (Djikstra): \n",
      "│   convert(Array{Int64, 1}, paths[1]) = [1, 3, 9, 5743, 9385, 5281, 5369, 4813, 25]\n",
      "└ @ Main In[11]:36\n",
      "┌ Info: ----- SP (DF): \n",
      "│   convert(Array{Int64, 1}, sp) = [1, 3, 9, 5743, 9385, 5281, 5369, 4813, 25]\n",
      "└ @ Main In[11]:46\n",
      "┌ Info: computing personalized Pagerank for target node source t: \n",
      "│   t = 26\n",
      "└ @ Main In[11]:18\n"
     ]
    },
    {
     "name": "stdout",
     "output_type": "stream",
     "text": [
      "  0.183015 seconds (1.96 k allocations: 258.296 MiB, 4.79% gc time)\n"
     ]
    },
    {
     "name": "stderr",
     "output_type": "stream",
     "text": [
      "┌ Info: computing DF\n",
      "└ @ Main In[11]:23\n",
      "┌ Info: searching shortest path (greedy approach) between vertices 1 and 26\n",
      "└ @ Main In[9]:2\n",
      "┌ Info: --- exploration reached a dead end\n",
      "└ @ Main In[9]:12\n",
      "┌ Info: --- explored path: \n",
      "│   sp = UInt32[0x00000001, 0x00000003, 0x00000009, 0x0000166f, 0x000024a9, 0x000014a1, 0x000014f9, 0x00002ccd, 0x000000ab, 0x00000679, 0x000012b9, 0x00000c13, 0x00000c0d, 0x000007a4, 0x00000082, 0x00000d4a, 0x0000064f, 0x000029d5, 0x00003180, 0x000021e8]\n",
      "└ @ Main In[9]:13\n",
      "┌ Info: ----- SP (Djikstra): \n",
      "│   convert(Array{Int64, 1}, paths[1]) = [1, 3, 9, 5743, 9385, 8405, 1499, 171, 1657, 4793, 3091, 11219, 12661, 1514, 18, 26]\n",
      "└ @ Main In[11]:36\n",
      "┌ Info: ----- SP (DF): \n",
      "│   convert(Array{Int64, 1}, sp) = [1, 3, 9, 5743, 9385, 5281, 5369, 11469, 171, 1657, 4793, 3091, 3085, 1956, 130, 3402, 1615, 10709, 12672, 8680]\n",
      "└ @ Main In[11]:46\n",
      "┌ Info: computing personalized Pagerank for target node source t: \n",
      "│   t = 27\n",
      "└ @ Main In[11]:18\n"
     ]
    },
    {
     "name": "stdout",
     "output_type": "stream",
     "text": [
      "  0.239839 seconds (1.93 k allocations: 254.606 MiB, 4.61% gc time)\n"
     ]
    },
    {
     "name": "stderr",
     "output_type": "stream",
     "text": [
      "┌ Info: computing DF\n",
      "└ @ Main In[11]:23\n",
      "┌ Info: searching shortest path (greedy approach) between vertices 1 and 27\n",
      "└ @ Main In[9]:2\n",
      "┌ Info: --- exploration reached a dead end\n",
      "└ @ Main In[9]:12\n",
      "┌ Info: --- explored path: \n",
      "│   sp = UInt32[0x00000001, 0x00000003, 0x00000009, 0x0000166f, 0x000024a9, 0x000014a1, 0x000014f9, 0x00002ccd, 0x000000ab, 0x00000679, 0x000012b9, 0x00000c13, 0x00000c0d, 0x000007a4, 0x00000082, 0x00000d4a, 0x0000064f, 0x000029d5, 0x00003180, 0x000021e8]\n",
      "└ @ Main In[9]:13\n",
      "┌ Info: ----- SP (Djikstra): \n",
      "│   convert(Array{Int64, 1}, paths[1]) = [1, 3, 9, 5743, 9385, 9398, 6109, 3809, 2942, 4357, 9094, 4393, 4340, 9326, 180, 27]\n",
      "└ @ Main In[11]:36\n",
      "┌ Info: ----- SP (DF): \n",
      "│   convert(Array{Int64, 1}, sp) = [1, 3, 9, 5743, 9385, 5281, 5369, 11469, 171, 1657, 4793, 3091, 3085, 1956, 130, 3402, 1615, 10709, 12672, 8680]\n",
      "└ @ Main In[11]:46\n",
      "┌ Info: computing personalized Pagerank for target node source t: \n",
      "│   t = 28\n",
      "└ @ Main In[11]:18\n"
     ]
    },
    {
     "name": "stdout",
     "output_type": "stream",
     "text": [
      "  0.254326 seconds (1.96 k allocations: 258.296 MiB, 3.89% gc time)\n"
     ]
    },
    {
     "name": "stderr",
     "output_type": "stream",
     "text": [
      "┌ Info: computing DF\n",
      "└ @ Main In[11]:23\n",
      "┌ Info: searching shortest path (greedy approach) between vertices 1 and 28\n",
      "└ @ Main In[9]:2\n",
      "┌ Info: --- exploration reached a dead end\n",
      "└ @ Main In[9]:12\n",
      "┌ Info: --- explored path: \n",
      "│   sp = UInt32[0x00000001, 0x00000003, 0x00000009, 0x0000166f, 0x000024a9, 0x000014a1, 0x000014f9, 0x00002ccd, 0x000000ab, 0x00000679, 0x000012b9, 0x00000c13, 0x00000c0d, 0x000007a4, 0x00000082, 0x00000d4a, 0x0000064f, 0x000029d5, 0x00003180, 0x000021e8]\n",
      "└ @ Main In[9]:13\n",
      "┌ Info: ----- SP (Djikstra): \n",
      "│   convert(Array{Int64, 1}, paths[1]) = [1, 3, 9, 5743, 9385, 8405, 1499, 171, 1657, 4793, 3091, 11219, 9040, 190, 48, 28]\n",
      "└ @ Main In[11]:36\n",
      "┌ Info: ----- SP (DF): \n",
      "│   convert(Array{Int64, 1}, sp) = [1, 3, 9, 5743, 9385, 5281, 5369, 11469, 171, 1657, 4793, 3091, 3085, 1956, 130, 3402, 1615, 10709, 12672, 8680]\n",
      "└ @ Main In[11]:46\n",
      "┌ Info: computing personalized Pagerank for target node source t: \n",
      "│   t = 29\n",
      "└ @ Main In[11]:18\n"
     ]
    },
    {
     "name": "stdout",
     "output_type": "stream",
     "text": [
      "  0.186474 seconds (1.93 k allocations: 254.606 MiB, 5.29% gc time)\n"
     ]
    },
    {
     "name": "stderr",
     "output_type": "stream",
     "text": [
      "┌ Info: computing DF\n",
      "└ @ Main In[11]:23\n",
      "┌ Info: searching shortest path (greedy approach) between vertices 1 and 29\n",
      "└ @ Main In[9]:2\n",
      "┌ Info: --- exploration reached a dead end\n",
      "└ @ Main In[9]:12\n",
      "┌ Info: --- explored path: \n",
      "│   sp = UInt32[0x00000001, 0x00000003, 0x00000009, 0x0000166f, 0x000024a9, 0x000014a1, 0x000014f9, 0x00002ccd, 0x000000ab, 0x00000679, 0x000012b9, 0x00000c13, 0x00000c0d, 0x000007a4, 0x00000082, 0x00000d4a, 0x0000064f, 0x000029d5, 0x00003180, 0x000021e8]\n",
      "└ @ Main In[9]:13\n",
      "┌ Info: ----- SP (Djikstra): \n",
      "│   convert(Array{Int64, 1}, paths[1]) = [1, 3, 9, 5743, 9385, 8405, 1499, 171, 1657, 4793, 3091, 11219, 12661, 1514, 1687, 1685, 1684, 29]\n",
      "└ @ Main In[11]:36\n",
      "┌ Info: ----- SP (DF): \n",
      "│   convert(Array{Int64, 1}, sp) = [1, 3, 9, 5743, 9385, 5281, 5369, 11469, 171, 1657, 4793, 3091, 3085, 1956, 130, 3402, 1615, 10709, 12672, 8680]\n",
      "└ @ Main In[11]:46\n",
      "┌ Info: computing personalized Pagerank for target node source t: \n",
      "│   t = 30\n",
      "└ @ Main In[11]:18\n"
     ]
    },
    {
     "name": "stdout",
     "output_type": "stream",
     "text": [
      "  0.186513 seconds (2.07 k allocations: 273.056 MiB, 4.52% gc time)\n"
     ]
    },
    {
     "name": "stderr",
     "output_type": "stream",
     "text": [
      "┌ Info: computing DF\n",
      "└ @ Main In[11]:23\n",
      "┌ Info: searching shortest path (greedy approach) between vertices 1 and 30\n",
      "└ @ Main In[9]:2\n",
      "┌ Info: --- exploration reached a dead end\n",
      "└ @ Main In[9]:12\n",
      "┌ Info: --- explored path: \n",
      "│   sp = UInt32[0x00000001, 0x00000003, 0x00000009, 0x0000166f, 0x000024a9, 0x000014a1, 0x000014f9, 0x00002ccd, 0x000000ab, 0x00000679, 0x000012b9, 0x00000c13, 0x00000c0d, 0x000007a4, 0x00000082, 0x00000d4a, 0x0000064f, 0x000029d5, 0x00003180, 0x000021e8]\n",
      "└ @ Main In[9]:13\n",
      "┌ Info: ----- SP (Djikstra): \n",
      "│   convert(Array{Int64, 1}, paths[1]) = [1, 3, 9, 5743, 9385, 8405, 1499, 171, 1657, 4793, 3091, 11219, 12687, 3374, 2820, 1654, 1768, 30]\n",
      "└ @ Main In[11]:36\n",
      "┌ Info: ----- SP (DF): \n",
      "│   convert(Array{Int64, 1}, sp) = [1, 3, 9, 5743, 9385, 5281, 5369, 11469, 171, 1657, 4793, 3091, 3085, 1956, 130, 3402, 1615, 10709, 12672, 8680]\n",
      "└ @ Main In[11]:46\n",
      "┌ Info: computing personalized Pagerank for target node source t: \n",
      "│   t = 31\n",
      "└ @ Main In[11]:18\n"
     ]
    },
    {
     "name": "stdout",
     "output_type": "stream",
     "text": [
      "  0.182053 seconds (2.02 k allocations: 265.676 MiB, 4.66% gc time)\n"
     ]
    },
    {
     "name": "stderr",
     "output_type": "stream",
     "text": [
      "┌ Info: computing DF\n",
      "└ @ Main In[11]:23\n",
      "┌ Info: searching shortest path (greedy approach) between vertices 1 and 31\n",
      "└ @ Main In[9]:2\n",
      "┌ Info: --- exploration reached a dead end\n",
      "└ @ Main In[9]:12\n",
      "┌ Info: --- explored path: \n",
      "│   sp = UInt32[0x00000001, 0x00000003, 0x00000009, 0x0000166f, 0x000024a9, 0x000014a1, 0x000014f9, 0x00002ccd, 0x000000ab, 0x00000679, 0x000012b9, 0x00000c13, 0x00000c0d, 0x000007a4, 0x00000082, 0x00000d4a, 0x0000064f, 0x000029d5, 0x00003180, 0x000021e8]\n",
      "└ @ Main In[9]:13\n",
      "┌ Info: ----- SP (Djikstra): \n",
      "│   convert(Array{Int64, 1}, paths[1]) = [1, 3, 9, 5743, 9385, 8405, 1499, 171, 1657, 4793, 3091, 11219, 12661, 1514, 18, 40, 31]\n",
      "└ @ Main In[11]:36\n",
      "┌ Info: ----- SP (DF): \n",
      "│   convert(Array{Int64, 1}, sp) = [1, 3, 9, 5743, 9385, 5281, 5369, 11469, 171, 1657, 4793, 3091, 3085, 1956, 130, 3402, 1615, 10709, 12672, 8680]\n",
      "└ @ Main In[11]:46\n",
      "┌ Info: computing personalized Pagerank for target node source t: \n",
      "│   t = 32\n",
      "└ @ Main In[11]:18\n"
     ]
    },
    {
     "name": "stdout",
     "output_type": "stream",
     "text": [
      "  0.183582 seconds (2.02 k allocations: 265.676 MiB, 4.83% gc time)\n"
     ]
    },
    {
     "name": "stderr",
     "output_type": "stream",
     "text": [
      "┌ Info: computing DF\n",
      "└ @ Main In[11]:23\n",
      "┌ Info: searching shortest path (greedy approach) between vertices 1 and 32\n",
      "└ @ Main In[9]:2\n",
      "┌ Info: --- exploration reached a dead end\n",
      "└ @ Main In[9]:12\n",
      "┌ Info: --- explored path: \n",
      "│   sp = UInt32[0x00000001, 0x00000003, 0x00000009, 0x0000166f, 0x000024a9, 0x000014a1, 0x000014f9, 0x00002ccd, 0x000000ab, 0x00000679, 0x000012b9, 0x00000c13, 0x00000c0d, 0x000007a4, 0x00000082, 0x00000d4a, 0x0000064f, 0x000029d5, 0x00003180, 0x000021e8]\n",
      "└ @ Main In[9]:13\n",
      "┌ Info: ----- SP (Djikstra): \n",
      "│   convert(Array{Int64, 1}, paths[1]) = [1, 3, 9, 5743, 9385, 8405, 1499, 171, 1657, 4793, 3091, 11219, 12661, 1514, 18, 40, 32]\n",
      "└ @ Main In[11]:36\n",
      "┌ Info: ----- SP (DF): \n",
      "│   convert(Array{Int64, 1}, sp) = [1, 3, 9, 5743, 9385, 5281, 5369, 11469, 171, 1657, 4793, 3091, 3085, 1956, 130, 3402, 1615, 10709, 12672, 8680]\n",
      "└ @ Main In[11]:46\n",
      "┌ Info: computing personalized Pagerank for target node source t: \n",
      "│   t = 33\n",
      "└ @ Main In[11]:18\n"
     ]
    },
    {
     "name": "stdout",
     "output_type": "stream",
     "text": [
      "  0.193227 seconds (2.10 k allocations: 276.746 MiB, 4.88% gc time)\n"
     ]
    },
    {
     "name": "stderr",
     "output_type": "stream",
     "text": [
      "┌ Info: computing DF\n",
      "└ @ Main In[11]:23\n",
      "┌ Info: searching shortest path (greedy approach) between vertices 1 and 33\n",
      "└ @ Main In[9]:2\n",
      "┌ Info: --- exploration reached a dead end\n",
      "└ @ Main In[9]:12\n",
      "┌ Info: --- explored path: \n",
      "│   sp = UInt32[0x00000001, 0x00000003, 0x00000009, 0x0000166f, 0x000024a9, 0x000014a1, 0x000014f9, 0x00002ccd, 0x000000ab, 0x00000679, 0x000012b9, 0x00000c13, 0x00000c0d, 0x000007a4, 0x00000082, 0x00000d4a, 0x0000064f, 0x000029d5, 0x00003180, 0x000021e8]\n",
      "└ @ Main In[9]:13\n",
      "┌ Info: ----- SP (Djikstra): \n",
      "│   convert(Array{Int64, 1}, paths[1]) = [1, 3, 9, 5743, 9385, 8405, 1499, 171, 1657, 4793, 3091, 11219, 12661, 1514, 1368, 1383, 33]\n",
      "└ @ Main In[11]:36\n",
      "┌ Info: ----- SP (DF): \n",
      "│   convert(Array{Int64, 1}, sp) = [1, 3, 9, 5743, 9385, 5281, 5369, 11469, 171, 1657, 4793, 3091, 3085, 1956, 130, 3402, 1615, 10709, 12672, 8680]\n",
      "└ @ Main In[11]:46\n",
      "┌ Info: computing personalized Pagerank for target node source t: \n",
      "│   t = 34\n",
      "└ @ Main In[11]:18\n"
     ]
    },
    {
     "name": "stdout",
     "output_type": "stream",
     "text": [
      "  0.186569 seconds (2.10 k allocations: 276.746 MiB, 4.58% gc time)\n"
     ]
    },
    {
     "name": "stderr",
     "output_type": "stream",
     "text": [
      "┌ Info: computing DF\n",
      "└ @ Main In[11]:23\n",
      "┌ Info: searching shortest path (greedy approach) between vertices 1 and 34\n",
      "└ @ Main In[9]:2\n",
      "┌ Info: --- exploration reached a dead end\n",
      "└ @ Main In[9]:12\n",
      "┌ Info: --- explored path: \n",
      "│   sp = UInt32[0x00000001, 0x00000003, 0x00000009, 0x0000166f, 0x000024a9, 0x000014a1, 0x000014f9, 0x00002ccd, 0x000000ab, 0x00000679, 0x000012b9, 0x00000c13, 0x00000c0d, 0x000007a4, 0x00000082, 0x00000d4a, 0x0000064f, 0x000029d5, 0x00003180, 0x000021e8]\n",
      "└ @ Main In[9]:13\n",
      "┌ Info: ----- SP (Djikstra): \n",
      "│   convert(Array{Int64, 1}, paths[1]) = [1, 3, 9, 5743, 9385, 8405, 1499, 171, 1657, 4793, 3091, 11219, 12661, 1514, 18, 40, 34]\n",
      "└ @ Main In[11]:36\n",
      "┌ Info: ----- SP (DF): \n",
      "│   convert(Array{Int64, 1}, sp) = [1, 3, 9, 5743, 9385, 5281, 5369, 11469, 171, 1657, 4793, 3091, 3085, 1956, 130, 3402, 1615, 10709, 12672, 8680]\n",
      "└ @ Main In[11]:46\n",
      "┌ Info: computing personalized Pagerank for target node source t: \n",
      "│   t = 35\n",
      "└ @ Main In[11]:18\n"
     ]
    },
    {
     "name": "stdout",
     "output_type": "stream",
     "text": [
      "  0.186933 seconds (2.10 k allocations: 276.746 MiB, 4.83% gc time)\n"
     ]
    },
    {
     "name": "stderr",
     "output_type": "stream",
     "text": [
      "┌ Info: computing DF\n",
      "└ @ Main In[11]:23\n",
      "┌ Info: searching shortest path (greedy approach) between vertices 1 and 35\n",
      "└ @ Main In[9]:2\n",
      "┌ Info: --- exploration reached a dead end\n",
      "└ @ Main In[9]:12\n",
      "┌ Info: --- explored path: \n",
      "│   sp = UInt32[0x00000001, 0x00000003, 0x00000009, 0x0000166f, 0x000024a9, 0x000014a1, 0x000014f9, 0x00002ccd, 0x000000ab, 0x00000679, 0x000012b9, 0x00000c13, 0x00000c0d, 0x000007a4, 0x00000082, 0x00000d4a, 0x0000064f, 0x000029d5, 0x00003180, 0x000021e8]\n",
      "└ @ Main In[9]:13\n",
      "┌ Info: ----- SP (Djikstra): \n",
      "│   convert(Array{Int64, 1}, paths[1]) = [1, 3, 9, 5743, 9385, 8405, 1499, 171, 1657, 4793, 3091, 11219, 12661, 1514, 1368, 1383, 36, 35]\n",
      "└ @ Main In[11]:36\n",
      "┌ Info: ----- SP (DF): \n",
      "│   convert(Array{Int64, 1}, sp) = [1, 3, 9, 5743, 9385, 5281, 5369, 11469, 171, 1657, 4793, 3091, 3085, 1956, 130, 3402, 1615, 10709, 12672, 8680]\n",
      "└ @ Main In[11]:46\n",
      "┌ Info: computing personalized Pagerank for target node source t: \n",
      "│   t = 36\n",
      "└ @ Main In[11]:18\n"
     ]
    },
    {
     "name": "stdout",
     "output_type": "stream",
     "text": [
      "  0.190590 seconds (2.07 k allocations: 273.056 MiB, 4.70% gc time)\n"
     ]
    },
    {
     "name": "stderr",
     "output_type": "stream",
     "text": [
      "┌ Info: computing DF\n",
      "└ @ Main In[11]:23\n",
      "┌ Info: searching shortest path (greedy approach) between vertices 1 and 36\n",
      "└ @ Main In[9]:2\n",
      "┌ Info: --- exploration reached a dead end\n",
      "└ @ Main In[9]:12\n",
      "┌ Info: --- explored path: \n",
      "│   sp = UInt32[0x00000001, 0x00000003, 0x00000009, 0x0000166f, 0x000024a9, 0x000014a1, 0x000014f9, 0x00002ccd, 0x000000ab, 0x00000679, 0x000012b9, 0x00000c13, 0x00000c0d, 0x000007a4, 0x00000082, 0x00000d4a, 0x0000064f, 0x000029d5, 0x00003180, 0x000021e8]\n",
      "└ @ Main In[9]:13\n",
      "┌ Info: ----- SP (Djikstra): \n",
      "│   convert(Array{Int64, 1}, paths[1]) = [1, 3, 9, 5743, 9385, 8405, 1499, 171, 1657, 4793, 3091, 11219, 12661, 1514, 1368, 1383, 36]\n",
      "└ @ Main In[11]:36\n",
      "┌ Info: ----- SP (DF): \n",
      "│   convert(Array{Int64, 1}, sp) = [1, 3, 9, 5743, 9385, 5281, 5369, 11469, 171, 1657, 4793, 3091, 3085, 1956, 130, 3402, 1615, 10709, 12672, 8680]\n",
      "└ @ Main In[11]:46\n",
      "┌ Info: computing personalized Pagerank for target node source t: \n",
      "│   t = 37\n",
      "└ @ Main In[11]:18\n"
     ]
    },
    {
     "name": "stdout",
     "output_type": "stream",
     "text": [
      "  0.189104 seconds (2.10 k allocations: 276.746 MiB, 4.71% gc time)\n"
     ]
    },
    {
     "name": "stderr",
     "output_type": "stream",
     "text": [
      "┌ Info: computing DF\n",
      "└ @ Main In[11]:23\n",
      "┌ Info: searching shortest path (greedy approach) between vertices 1 and 37\n",
      "└ @ Main In[9]:2\n",
      "┌ Info: --- exploration reached a dead end\n",
      "└ @ Main In[9]:12\n",
      "┌ Info: --- explored path: \n",
      "│   sp = UInt32[0x00000001, 0x00000003, 0x00000009, 0x0000166f, 0x000024a9, 0x000014a1, 0x000014f9, 0x00002ccd, 0x000000ab, 0x00000679, 0x000012b9, 0x00000c13, 0x00000c0d, 0x000007a4, 0x00000082, 0x00000d4a, 0x0000064f, 0x000029d5, 0x00003180, 0x000021e8]\n",
      "└ @ Main In[9]:13\n",
      "┌ Info: ----- SP (Djikstra): \n",
      "│   convert(Array{Int64, 1}, paths[1]) = [1, 3, 9, 5743, 9385, 8405, 1499, 171, 1657, 4793, 3091, 4997, 5005, 3869, 1367, 38, 37]\n",
      "└ @ Main In[11]:36\n",
      "┌ Info: ----- SP (DF): \n",
      "│   convert(Array{Int64, 1}, sp) = [1, 3, 9, 5743, 9385, 5281, 5369, 11469, 171, 1657, 4793, 3091, 3085, 1956, 130, 3402, 1615, 10709, 12672, 8680]\n",
      "└ @ Main In[11]:46\n",
      "┌ Info: computing personalized Pagerank for target node source t: \n",
      "│   t = 38\n",
      "└ @ Main In[11]:18\n"
     ]
    },
    {
     "name": "stdout",
     "output_type": "stream",
     "text": [
      "  0.191292 seconds (2.07 k allocations: 273.056 MiB, 4.87% gc time)\n"
     ]
    },
    {
     "name": "stderr",
     "output_type": "stream",
     "text": [
      "┌ Info: computing DF\n",
      "└ @ Main In[11]:23\n",
      "┌ Info: searching shortest path (greedy approach) between vertices 1 and 38\n",
      "└ @ Main In[9]:2\n",
      "┌ Info: --- exploration reached a dead end\n",
      "└ @ Main In[9]:12\n",
      "┌ Info: --- explored path: \n",
      "│   sp = UInt32[0x00000001, 0x00000003, 0x00000009, 0x0000166f, 0x000024a9, 0x000014a1, 0x000014f9, 0x00002ccd, 0x000000ab, 0x00000679, 0x000012b9, 0x00000c13, 0x00000c0d, 0x000007a4, 0x00000082, 0x00000d4a, 0x0000064f, 0x000029d5, 0x00003180, 0x000021e8]\n",
      "└ @ Main In[9]:13\n",
      "┌ Info: ----- SP (Djikstra): \n",
      "│   convert(Array{Int64, 1}, paths[1]) = [1, 3, 9, 5743, 9385, 8405, 1499, 171, 1657, 4793, 3091, 4997, 5005, 3869, 1367, 38]\n",
      "└ @ Main In[11]:36\n",
      "┌ Info: ----- SP (DF): \n",
      "│   convert(Array{Int64, 1}, sp) = [1, 3, 9, 5743, 9385, 5281, 5369, 11469, 171, 1657, 4793, 3091, 3085, 1956, 130, 3402, 1615, 10709, 12672, 8680]\n",
      "└ @ Main In[11]:46\n",
      "┌ Info: computing personalized Pagerank for target node source t: \n",
      "│   t = 39\n",
      "└ @ Main In[11]:18\n"
     ]
    },
    {
     "name": "stdout",
     "output_type": "stream",
     "text": [
      "  0.189520 seconds (2.07 k allocations: 273.056 MiB, 4.63% gc time)\n"
     ]
    },
    {
     "name": "stderr",
     "output_type": "stream",
     "text": [
      "┌ Info: computing DF\n",
      "└ @ Main In[11]:23\n",
      "┌ Info: searching shortest path (greedy approach) between vertices 1 and 39\n",
      "└ @ Main In[9]:2\n",
      "┌ Info: --- exploration reached a dead end\n",
      "└ @ Main In[9]:12\n",
      "┌ Info: --- explored path: \n",
      "│   sp = UInt32[0x00000001, 0x00000003, 0x00000009, 0x0000166f, 0x000024a9, 0x000014a1, 0x000014f9, 0x00002ccd, 0x000000ab, 0x00000679, 0x000012b9, 0x00000c13, 0x00000c0d, 0x000007a4, 0x00000082, 0x00000d4a, 0x0000064f, 0x000029d5, 0x00003180, 0x000021e8]\n",
      "└ @ Main In[9]:13\n",
      "┌ Info: ----- SP (Djikstra): \n",
      "│   convert(Array{Int64, 1}, paths[1]) = [1, 3, 9, 5743, 9385, 8405, 1499, 171, 1657, 4793, 3091, 11219, 9040, 190, 46, 39]\n",
      "└ @ Main In[11]:36\n",
      "┌ Info: ----- SP (DF): \n",
      "│   convert(Array{Int64, 1}, sp) = [1, 3, 9, 5743, 9385, 5281, 5369, 11469, 171, 1657, 4793, 3091, 3085, 1956, 130, 3402, 1615, 10709, 12672, 8680]\n",
      "└ @ Main In[11]:46\n",
      "┌ Info: computing personalized Pagerank for target node source t: \n",
      "│   t = 40\n",
      "└ @ Main In[11]:18\n"
     ]
    },
    {
     "name": "stdout",
     "output_type": "stream",
     "text": [
      "  0.181270 seconds (2.02 k allocations: 265.676 MiB, 4.95% gc time)\n"
     ]
    },
    {
     "name": "stderr",
     "output_type": "stream",
     "text": [
      "┌ Info: computing DF\n",
      "└ @ Main In[11]:23\n",
      "┌ Info: searching shortest path (greedy approach) between vertices 1 and 40\n",
      "└ @ Main In[9]:2\n",
      "┌ Info: --- exploration reached a dead end\n",
      "└ @ Main In[9]:12\n",
      "┌ Info: --- explored path: \n",
      "│   sp = UInt32[0x00000001, 0x00000003, 0x00000009, 0x0000166f, 0x000024a9, 0x000014a1, 0x000014f9, 0x00002ccd, 0x000000ab, 0x00000679, 0x000012b9, 0x00000c13, 0x00000c0d, 0x000007a4, 0x00000082, 0x00000d4a, 0x0000064f, 0x000029d5, 0x00003180, 0x000021e8]\n",
      "└ @ Main In[9]:13\n",
      "┌ Info: ----- SP (Djikstra): \n",
      "│   convert(Array{Int64, 1}, paths[1]) = [1, 3, 9, 5743, 9385, 8405, 1499, 171, 1657, 4793, 3091, 11219, 12661, 1514, 18, 40]\n",
      "└ @ Main In[11]:36\n",
      "┌ Info: ----- SP (DF): \n",
      "│   convert(Array{Int64, 1}, sp) = [1, 3, 9, 5743, 9385, 5281, 5369, 11469, 171, 1657, 4793, 3091, 3085, 1956, 130, 3402, 1615, 10709, 12672, 8680]\n",
      "└ @ Main In[11]:46\n",
      "┌ Info: computing personalized Pagerank for target node source t: \n",
      "│   t = 41\n",
      "└ @ Main In[11]:18\n"
     ]
    },
    {
     "name": "stdout",
     "output_type": "stream",
     "text": [
      "  0.188482 seconds (2.10 k allocations: 276.746 MiB, 5.00% gc time)\n"
     ]
    },
    {
     "name": "stderr",
     "output_type": "stream",
     "text": [
      "┌ Info: computing DF\n",
      "└ @ Main In[11]:23\n",
      "┌ Info: searching shortest path (greedy approach) between vertices 1 and 41\n",
      "└ @ Main In[9]:2\n",
      "┌ Info: --- exploration reached a dead end\n",
      "└ @ Main In[9]:12\n",
      "┌ Info: --- explored path: \n",
      "│   sp = UInt32[0x00000001, 0x00000003, 0x00000009, 0x0000166f, 0x000024a9, 0x000014a1, 0x000014f9, 0x00002ccd, 0x000000ab, 0x00000679, 0x000012b9, 0x00000c13, 0x00000c0d, 0x000007a4, 0x00000082, 0x00000d4a, 0x0000064f, 0x000029d5, 0x00003180, 0x000021e8]\n",
      "└ @ Main In[9]:13\n",
      "┌ Info: ----- SP (Djikstra): \n",
      "│   convert(Array{Int64, 1}, paths[1]) = [1, 3, 9, 5743, 9385, 8405, 1499, 171, 1657, 4793, 3091, 11219, 12661, 1514, 18, 40, 34, 41]\n",
      "└ @ Main In[11]:36\n",
      "┌ Info: ----- SP (DF): \n",
      "│   convert(Array{Int64, 1}, sp) = [1, 3, 9, 5743, 9385, 5281, 5369, 11469, 171, 1657, 4793, 3091, 3085, 1956, 130, 3402, 1615, 10709, 12672, 8680]\n",
      "└ @ Main In[11]:46\n",
      "┌ Info: computing personalized Pagerank for target node source t: \n",
      "│   t = 42\n",
      "└ @ Main In[11]:18\n"
     ]
    },
    {
     "name": "stdout",
     "output_type": "stream",
     "text": [
      "  0.196859 seconds (2.10 k allocations: 276.746 MiB, 4.37% gc time)\n"
     ]
    },
    {
     "name": "stderr",
     "output_type": "stream",
     "text": [
      "┌ Info: computing DF\n",
      "└ @ Main In[11]:23\n",
      "┌ Info: searching shortest path (greedy approach) between vertices 1 and 42\n",
      "└ @ Main In[9]:2\n",
      "┌ Info: --- exploration reached a dead end\n",
      "└ @ Main In[9]:12\n",
      "┌ Info: --- explored path: \n",
      "│   sp = UInt32[0x00000001, 0x00000003, 0x00000009, 0x0000166f, 0x000024a9, 0x000014a1, 0x000014f9, 0x00002ccd, 0x000000ab, 0x00000679, 0x000012b9, 0x00000c13, 0x00000c0d, 0x000007a4, 0x00000082, 0x00000d4a, 0x0000064f, 0x000029d5, 0x00003180, 0x000021e8]\n",
      "└ @ Main In[9]:13\n",
      "┌ Info: ----- SP (Djikstra): \n",
      "│   convert(Array{Int64, 1}, paths[1]) = [1, 3, 9, 5743, 9385, 8405, 1499, 171, 1657, 4793, 3091, 11219, 12687, 10152, 10158, 10163, 195, 20, 42]\n",
      "└ @ Main In[11]:36\n",
      "┌ Info: ----- SP (DF): \n",
      "│   convert(Array{Int64, 1}, sp) = [1, 3, 9, 5743, 9385, 5281, 5369, 11469, 171, 1657, 4793, 3091, 3085, 1956, 130, 3402, 1615, 10709, 12672, 8680]\n",
      "└ @ Main In[11]:46\n",
      "┌ Info: computing personalized Pagerank for target node source t: \n",
      "│   t = 43\n",
      "└ @ Main In[11]:18\n"
     ]
    },
    {
     "name": "stdout",
     "output_type": "stream",
     "text": [
      "  0.251711 seconds (2.07 k allocations: 273.056 MiB, 28.73% gc time)\n"
     ]
    },
    {
     "name": "stderr",
     "output_type": "stream",
     "text": [
      "┌ Info: computing DF\n",
      "└ @ Main In[11]:23\n",
      "┌ Info: searching shortest path (greedy approach) between vertices 1 and 43\n",
      "└ @ Main In[9]:2\n",
      "┌ Info: --- exploration reached a dead end\n",
      "└ @ Main In[9]:12\n",
      "┌ Info: --- explored path: \n",
      "│   sp = UInt32[0x00000001, 0x00000003, 0x00000009, 0x0000166f, 0x000024a9, 0x000014a1, 0x000014f9, 0x00002ccd, 0x000000ab, 0x00000679, 0x000012b9, 0x00000c13, 0x00000c0d, 0x000007a4, 0x00000082, 0x00000d4a, 0x0000064f, 0x000029d5, 0x00003180, 0x000021e8]\n",
      "└ @ Main In[9]:13\n",
      "┌ Info: ----- SP (Djikstra): \n",
      "│   convert(Array{Int64, 1}, paths[1]) = [1, 3, 9, 5743, 9385, 8405, 1499, 171, 1657, 4793, 3091, 4997, 5005, 3869, 1367, 43]\n",
      "└ @ Main In[11]:36\n",
      "┌ Info: ----- SP (DF): \n",
      "│   convert(Array{Int64, 1}, sp) = [1, 3, 9, 5743, 9385, 5281, 5369, 11469, 171, 1657, 4793, 3091, 3085, 1956, 130, 3402, 1615, 10709, 12672, 8680]\n",
      "└ @ Main In[11]:46\n",
      "┌ Info: computing personalized Pagerank for target node source t: \n",
      "│   t = 44\n",
      "└ @ Main In[11]:18\n"
     ]
    },
    {
     "name": "stdout",
     "output_type": "stream",
     "text": [
      "  0.184364 seconds (2.07 k allocations: 273.056 MiB, 4.86% gc time)\n"
     ]
    },
    {
     "name": "stderr",
     "output_type": "stream",
     "text": [
      "┌ Info: computing DF\n",
      "└ @ Main In[11]:23\n",
      "┌ Info: searching shortest path (greedy approach) between vertices 1 and 44\n",
      "└ @ Main In[9]:2\n",
      "┌ Info: --- exploration reached a dead end\n",
      "└ @ Main In[9]:12\n",
      "┌ Info: --- explored path: \n",
      "│   sp = UInt32[0x00000001, 0x00000003, 0x00000009, 0x0000166f, 0x000024a9, 0x000014a1, 0x000014f9, 0x00002ccd, 0x000000ab, 0x00000679, 0x000012b9, 0x00000c13, 0x00000c0d, 0x000007a4, 0x00000082, 0x00000d4a, 0x0000064f, 0x000029d5, 0x00003180, 0x000021e8]\n",
      "└ @ Main In[9]:13\n",
      "┌ Info: ----- SP (Djikstra): \n",
      "│   convert(Array{Int64, 1}, paths[1]) = [1, 3, 9, 5743, 9385, 8405, 1499, 171, 1657, 4793, 3091, 11219, 12687, 10152, 10158, 10163, 195, 20, 44]\n",
      "└ @ Main In[11]:36\n",
      "┌ Info: ----- SP (DF): \n",
      "│   convert(Array{Int64, 1}, sp) = [1, 3, 9, 5743, 9385, 5281, 5369, 11469, 171, 1657, 4793, 3091, 3085, 1956, 130, 3402, 1615, 10709, 12672, 8680]\n",
      "└ @ Main In[11]:46\n",
      "┌ Info: computing personalized Pagerank for target node source t: \n",
      "│   t = 45\n",
      "└ @ Main In[11]:18\n"
     ]
    },
    {
     "name": "stdout",
     "output_type": "stream",
     "text": [
      "  0.185817 seconds (2.07 k allocations: 273.056 MiB, 4.40% gc time)\n"
     ]
    },
    {
     "name": "stderr",
     "output_type": "stream",
     "text": [
      "┌ Info: computing DF\n",
      "└ @ Main In[11]:23\n",
      "┌ Info: searching shortest path (greedy approach) between vertices 1 and 45\n",
      "└ @ Main In[9]:2\n",
      "┌ Info: --- exploration reached a dead end\n",
      "└ @ Main In[9]:12\n",
      "┌ Info: --- explored path: \n",
      "│   sp = UInt32[0x00000001, 0x00000003, 0x00000009, 0x0000166f, 0x000024a9, 0x000014a1, 0x000014f9, 0x00002ccd, 0x000000ab, 0x00000679, 0x000012b9, 0x00000c13, 0x00000c0d, 0x000007a4, 0x00000082, 0x00000d4a, 0x0000064f, 0x000029d5, 0x00003180, 0x000021e8]\n",
      "└ @ Main In[9]:13\n",
      "┌ Info: ----- SP (Djikstra): \n",
      "│   convert(Array{Int64, 1}, paths[1]) = [1, 3, 9, 5743, 9385, 8405, 1499, 171, 1657, 4793, 3091, 11219, 9040, 190, 46, 45]\n",
      "└ @ Main In[11]:36\n",
      "┌ Info: ----- SP (DF): \n",
      "│   convert(Array{Int64, 1}, sp) = [1, 3, 9, 5743, 9385, 5281, 5369, 11469, 171, 1657, 4793, 3091, 3085, 1956, 130, 3402, 1615, 10709, 12672, 8680]\n",
      "└ @ Main In[11]:46\n",
      "┌ Info: computing personalized Pagerank for target node source t: \n",
      "│   t = 46\n",
      "└ @ Main In[11]:18\n"
     ]
    },
    {
     "name": "stdout",
     "output_type": "stream",
     "text": [
      "  0.181425 seconds (2.02 k allocations: 265.676 MiB, 4.51% gc time)\n"
     ]
    },
    {
     "name": "stderr",
     "output_type": "stream",
     "text": [
      "┌ Info: computing DF\n",
      "└ @ Main In[11]:23\n",
      "┌ Info: searching shortest path (greedy approach) between vertices 1 and 46\n",
      "└ @ Main In[9]:2\n",
      "┌ Info: --- exploration reached a dead end\n",
      "└ @ Main In[9]:12\n",
      "┌ Info: --- explored path: \n",
      "│   sp = UInt32[0x00000001, 0x00000003, 0x00000009, 0x0000166f, 0x000024a9, 0x000014a1, 0x000014f9, 0x00002ccd, 0x000000ab, 0x00000679, 0x000012b9, 0x00000c13, 0x00000c0d, 0x000007a4, 0x00000082, 0x00000d4a, 0x0000064f, 0x000029d5, 0x00003180, 0x000021e8]\n",
      "└ @ Main In[9]:13\n",
      "┌ Info: ----- SP (Djikstra): \n",
      "│   convert(Array{Int64, 1}, paths[1]) = [1, 3, 9, 5743, 9385, 8405, 1499, 171, 1657, 4793, 3091, 11219, 9040, 190, 46]\n",
      "└ @ Main In[11]:36\n",
      "┌ Info: ----- SP (DF): \n",
      "│   convert(Array{Int64, 1}, sp) = [1, 3, 9, 5743, 9385, 5281, 5369, 11469, 171, 1657, 4793, 3091, 3085, 1956, 130, 3402, 1615, 10709, 12672, 8680]\n",
      "└ @ Main In[11]:46\n",
      "┌ Info: computing personalized Pagerank for target node source t: \n",
      "│   t = 47\n",
      "└ @ Main In[11]:18\n"
     ]
    },
    {
     "name": "stdout",
     "output_type": "stream",
     "text": [
      "  0.178433 seconds (1.99 k allocations: 261.986 MiB, 4.51% gc time)\n"
     ]
    },
    {
     "name": "stderr",
     "output_type": "stream",
     "text": [
      "┌ Info: computing DF\n",
      "└ @ Main In[11]:23\n",
      "┌ Info: searching shortest path (greedy approach) between vertices 1 and 47\n",
      "└ @ Main In[9]:2\n",
      "┌ Info: --- exploration reached a dead end\n",
      "└ @ Main In[9]:12\n",
      "┌ Info: --- explored path: \n",
      "│   sp = UInt32[0x00000001, 0x00000003, 0x00000009, 0x0000166f, 0x000024a9, 0x000014a1, 0x000014f9, 0x00002ccd, 0x000000ab, 0x00000679, 0x000012b9, 0x00000c13, 0x00000c0d, 0x000007a4, 0x00000082, 0x00000d4a, 0x0000064f, 0x000029d5, 0x00003180, 0x000021e8]\n",
      "└ @ Main In[9]:13\n",
      "┌ Info: ----- SP (Djikstra): \n",
      "│   convert(Array{Int64, 1}, paths[1]) = [1, 3, 9, 5743, 9385, 8405, 1499, 171, 1657, 4793, 3091, 11219, 9040, 190, 47]\n",
      "└ @ Main In[11]:36\n",
      "┌ Info: ----- SP (DF): \n",
      "│   convert(Array{Int64, 1}, sp) = [1, 3, 9, 5743, 9385, 5281, 5369, 11469, 171, 1657, 4793, 3091, 3085, 1956, 130, 3402, 1615, 10709, 12672, 8680]\n",
      "└ @ Main In[11]:46\n",
      "┌ Info: computing personalized Pagerank for target node source t: \n",
      "│   t = 48\n",
      "└ @ Main In[11]:18\n"
     ]
    },
    {
     "name": "stdout",
     "output_type": "stream",
     "text": [
      "  0.178095 seconds (1.99 k allocations: 261.986 MiB, 4.76% gc time)\n"
     ]
    },
    {
     "name": "stderr",
     "output_type": "stream",
     "text": [
      "┌ Info: computing DF\n",
      "└ @ Main In[11]:23\n",
      "┌ Info: searching shortest path (greedy approach) between vertices 1 and 48\n",
      "└ @ Main In[9]:2\n",
      "┌ Info: --- exploration reached a dead end\n",
      "└ @ Main In[9]:12\n",
      "┌ Info: --- explored path: \n",
      "│   sp = UInt32[0x00000001, 0x00000003, 0x00000009, 0x0000166f, 0x000024a9, 0x000014a1, 0x000014f9, 0x00002ccd, 0x000000ab, 0x00000679, 0x000012b9, 0x00000c13, 0x00000c0d, 0x000007a4, 0x00000082, 0x00000d4a, 0x0000064f, 0x000029d5, 0x00003180, 0x000021e8]\n",
      "└ @ Main In[9]:13\n",
      "┌ Info: ----- SP (Djikstra): \n",
      "│   convert(Array{Int64, 1}, paths[1]) = [1, 3, 9, 5743, 9385, 8405, 1499, 171, 1657, 4793, 3091, 11219, 9040, 190, 48]\n",
      "└ @ Main In[11]:36\n",
      "┌ Info: ----- SP (DF): \n",
      "│   convert(Array{Int64, 1}, sp) = [1, 3, 9, 5743, 9385, 5281, 5369, 11469, 171, 1657, 4793, 3091, 3085, 1956, 130, 3402, 1615, 10709, 12672, 8680]\n",
      "└ @ Main In[11]:46\n",
      "┌ Info: computing personalized Pagerank for target node source t: \n",
      "│   t = 49\n",
      "└ @ Main In[11]:18\n"
     ]
    },
    {
     "name": "stdout",
     "output_type": "stream",
     "text": [
      "  0.178255 seconds (2.02 k allocations: 265.676 MiB, 4.77% gc time)\n"
     ]
    },
    {
     "name": "stderr",
     "output_type": "stream",
     "text": [
      "┌ Info: computing DF\n",
      "└ @ Main In[11]:23\n",
      "┌ Info: searching shortest path (greedy approach) between vertices 1 and 49\n",
      "└ @ Main In[9]:2\n",
      "┌ Info: --- exploration reached a dead end\n",
      "└ @ Main In[9]:12\n",
      "┌ Info: --- explored path: \n",
      "│   sp = UInt32[0x00000001, 0x00000003, 0x00000009, 0x0000166f, 0x000024a9, 0x000014a1, 0x000014f9, 0x00002ccd, 0x000000ab, 0x00000679, 0x000012b9, 0x00000c13, 0x00000c0d, 0x000007a4, 0x00000082, 0x00000d4a, 0x0000064f, 0x000029d5, 0x00003180, 0x000021e8]\n",
      "└ @ Main In[9]:13\n",
      "┌ Info: ----- SP (Djikstra): \n",
      "│   convert(Array{Int64, 1}, paths[1]) = [1, 3, 9, 5743, 9385, 8405, 1499, 171, 1657, 4793, 3091, 11219, 9040, 190, 49]\n",
      "└ @ Main In[11]:36\n",
      "┌ Info: ----- SP (DF): \n",
      "│   convert(Array{Int64, 1}, sp) = [1, 3, 9, 5743, 9385, 5281, 5369, 11469, 171, 1657, 4793, 3091, 3085, 1956, 130, 3402, 1615, 10709, 12672, 8680]\n",
      "└ @ Main In[11]:46\n",
      "┌ Info: computing personalized Pagerank for target node source t: \n",
      "│   t = 50\n",
      "└ @ Main In[11]:18\n"
     ]
    },
    {
     "name": "stdout",
     "output_type": "stream",
     "text": [
      "  0.184855 seconds (2.10 k allocations: 276.746 MiB, 4.46% gc time)\n"
     ]
    },
    {
     "name": "stderr",
     "output_type": "stream",
     "text": [
      "┌ Info: computing DF\n",
      "└ @ Main In[11]:23\n",
      "┌ Info: searching shortest path (greedy approach) between vertices 1 and 50\n",
      "└ @ Main In[9]:2\n",
      "┌ Info: --- exploration reached a dead end\n",
      "└ @ Main In[9]:12\n",
      "┌ Info: --- explored path: \n",
      "│   sp = UInt32[0x00000001, 0x00000003, 0x00000009, 0x0000166f, 0x000024a9, 0x000014a1, 0x000014f9, 0x00002ccd, 0x000000ab, 0x00000679, 0x000012b9, 0x00000c13, 0x00000c0d, 0x000007a4, 0x00000082, 0x00000d4a, 0x0000064f, 0x000029d5, 0x00003180, 0x000021e8]\n",
      "└ @ Main In[9]:13\n",
      "┌ Info: ----- SP (Djikstra): \n",
      "│   convert(Array{Int64, 1}, paths[1]) = [1, 3, 9, 5743, 9385, 8405, 1499, 171, 1657, 4793, 3091, 11219, 12661, 1514, 1368, 1383, 4771, 50]\n",
      "└ @ Main In[11]:36\n",
      "┌ Info: ----- SP (DF): \n",
      "│   convert(Array{Int64, 1}, sp) = [1, 3, 9, 5743, 9385, 5281, 5369, 11469, 171, 1657, 4793, 3091, 3085, 1956, 130, 3402, 1615, 10709, 12672, 8680]\n",
      "└ @ Main In[11]:46\n",
      "┌ Info: computing personalized Pagerank for target node source t: \n",
      "│   t = 51\n",
      "└ @ Main In[11]:18\n"
     ]
    },
    {
     "name": "stdout",
     "output_type": "stream",
     "text": [
      "  0.193994 seconds (2.13 k allocations: 280.436 MiB, 4.64% gc time)\n"
     ]
    },
    {
     "name": "stderr",
     "output_type": "stream",
     "text": [
      "┌ Info: computing DF\n",
      "└ @ Main In[11]:23\n",
      "┌ Info: searching shortest path (greedy approach) between vertices 1 and 51\n",
      "└ @ Main In[9]:2\n",
      "┌ Info: --- exploration reached a dead end\n",
      "└ @ Main In[9]:12\n",
      "┌ Info: --- explored path: \n",
      "│   sp = UInt32[0x00000001, 0x00000003, 0x00000009, 0x0000166f, 0x000024a9, 0x000014a1, 0x000014f9, 0x00002ccd, 0x000000ab, 0x00000679, 0x000012b9, 0x00000c13, 0x00000c0d, 0x000007a4, 0x00000082, 0x00000d4a, 0x0000064f, 0x000029d5, 0x00003180, 0x000021e8]\n",
      "└ @ Main In[9]:13\n",
      "┌ Info: ----- SP (Djikstra): \n",
      "│   convert(Array{Int64, 1}, paths[1]) = [1, 3, 9, 5743, 9385, 8405, 1499, 171, 1657, 4793, 3091, 11219, 12687, 10152, 10158, 10163, 195, 20, 51]\n",
      "└ @ Main In[11]:36\n",
      "┌ Info: ----- SP (DF): \n",
      "│   convert(Array{Int64, 1}, sp) = [1, 3, 9, 5743, 9385, 5281, 5369, 11469, 171, 1657, 4793, 3091, 3085, 1956, 130, 3402, 1615, 10709, 12672, 8680]\n",
      "└ @ Main In[11]:46\n",
      "┌ Info: computing personalized Pagerank for target node source t: \n",
      "│   t = 52\n",
      "└ @ Main In[11]:18\n"
     ]
    },
    {
     "name": "stdout",
     "output_type": "stream",
     "text": [
      "  0.185910 seconds (2.07 k allocations: 273.056 MiB, 4.54% gc time)\n"
     ]
    },
    {
     "name": "stderr",
     "output_type": "stream",
     "text": [
      "┌ Info: computing DF\n",
      "└ @ Main In[11]:23\n",
      "┌ Info: searching shortest path (greedy approach) between vertices 1 and 52\n",
      "└ @ Main In[9]:2\n",
      "┌ Info: --- exploration reached a dead end\n",
      "└ @ Main In[9]:12\n",
      "┌ Info: --- explored path: \n",
      "│   sp = UInt32[0x00000001, 0x00000003, 0x00000009, 0x0000166f, 0x000024a9, 0x000014a1, 0x000014f9, 0x00002ccd, 0x000000ab, 0x00000679, 0x000012b9, 0x00000c13, 0x00000c0d, 0x000007a4, 0x00000082, 0x00000d4a, 0x0000064f, 0x000029d5, 0x00003180, 0x000021e8]\n",
      "└ @ Main In[9]:13\n",
      "┌ Info: ----- SP (Djikstra): \n",
      "│   convert(Array{Int64, 1}, paths[1]) = [1, 3, 9, 5743, 9385, 8405, 1499, 171, 1657, 4793, 3091, 11219, 12661, 1514, 1687, 1685, 52]\n",
      "└ @ Main In[11]:36\n",
      "┌ Info: ----- SP (DF): \n",
      "│   convert(Array{Int64, 1}, sp) = [1, 3, 9, 5743, 9385, 5281, 5369, 11469, 171, 1657, 4793, 3091, 3085, 1956, 130, 3402, 1615, 10709, 12672, 8680]\n",
      "└ @ Main In[11]:46\n",
      "┌ Info: computing personalized Pagerank for target node source t: \n",
      "│   t = 53\n",
      "└ @ Main In[11]:18\n"
     ]
    },
    {
     "name": "stdout",
     "output_type": "stream",
     "text": [
      "  0.179757 seconds (1.99 k allocations: 261.986 MiB, 4.98% gc time)\n"
     ]
    },
    {
     "name": "stderr",
     "output_type": "stream",
     "text": [
      "┌ Info: computing DF\n",
      "└ @ Main In[11]:23\n",
      "┌ Info: searching shortest path (greedy approach) between vertices 1 and 53\n",
      "└ @ Main In[9]:2\n",
      "┌ Info: --- exploration reached a dead end\n",
      "└ @ Main In[9]:12\n",
      "┌ Info: --- explored path: \n",
      "│   sp = UInt32[0x00000001, 0x00000003, 0x00000009, 0x0000166f, 0x000024a9, 0x000014a1, 0x000014f9, 0x00002ccd, 0x000000ab, 0x00000679, 0x000012b9, 0x00000c13, 0x00000c0d, 0x000007a4, 0x00000082, 0x00000d4a, 0x0000064f, 0x000029d5, 0x00003180, 0x000021e8]\n",
      "└ @ Main In[9]:13\n",
      "┌ Info: ----- SP (Djikstra): \n",
      "│   convert(Array{Int64, 1}, paths[1]) = [1, 3, 9, 5743, 9385, 8405, 1499, 171, 1657, 4793, 3091, 11219, 9040, 190, 53]\n",
      "└ @ Main In[11]:36\n",
      "┌ Info: ----- SP (DF): \n",
      "│   convert(Array{Int64, 1}, sp) = [1, 3, 9, 5743, 9385, 5281, 5369, 11469, 171, 1657, 4793, 3091, 3085, 1956, 130, 3402, 1615, 10709, 12672, 8680]\n",
      "└ @ Main In[11]:46\n",
      "┌ Info: computing personalized Pagerank for target node source t: \n",
      "│   t = 54\n",
      "└ @ Main In[11]:18\n"
     ]
    },
    {
     "name": "stdout",
     "output_type": "stream",
     "text": [
      "  0.209605 seconds (2.10 k allocations: 276.746 MiB, 4.58% gc time)\n"
     ]
    },
    {
     "name": "stderr",
     "output_type": "stream",
     "text": [
      "┌ Info: computing DF\n",
      "└ @ Main In[11]:23\n",
      "┌ Info: searching shortest path (greedy approach) between vertices 1 and 54\n",
      "└ @ Main In[9]:2\n",
      "┌ Info: --- exploration reached a dead end\n",
      "└ @ Main In[9]:12\n",
      "┌ Info: --- explored path: \n",
      "│   sp = UInt32[0x00000001, 0x00000003, 0x00000009, 0x0000166f, 0x000024a9, 0x000014a1, 0x000014f9, 0x00002ccd, 0x000000ab, 0x00000679, 0x000012b9, 0x00000c13, 0x00000c0d, 0x000007a4, 0x00000082, 0x00000d4a, 0x0000064f, 0x000029d5, 0x00003180, 0x000021e8]\n",
      "└ @ Main In[9]:13\n",
      "┌ Info: ----- SP (Djikstra): \n",
      "│   convert(Array{Int64, 1}, paths[1]) = [1, 3, 9, 5743, 9385, 8405, 1499, 171, 1657, 4793, 3091, 11219, 12687, 10152, 10158, 10163, 195, 20, 54]\n",
      "└ @ Main In[11]:36\n",
      "┌ Info: ----- SP (DF): \n",
      "│   convert(Array{Int64, 1}, sp) = [1, 3, 9, 5743, 9385, 5281, 5369, 11469, 171, 1657, 4793, 3091, 3085, 1956, 130, 3402, 1615, 10709, 12672, 8680]\n",
      "└ @ Main In[11]:46\n",
      "┌ Info: computing personalized Pagerank for target node source t: \n",
      "│   t = 55\n",
      "└ @ Main In[11]:18\n"
     ]
    },
    {
     "name": "stdout",
     "output_type": "stream",
     "text": [
      "  0.200021 seconds (2.10 k allocations: 276.746 MiB, 4.24% gc time)\n"
     ]
    },
    {
     "name": "stderr",
     "output_type": "stream",
     "text": [
      "┌ Info: computing DF\n",
      "└ @ Main In[11]:23\n",
      "┌ Info: searching shortest path (greedy approach) between vertices 1 and 55\n",
      "└ @ Main In[9]:2\n",
      "┌ Info: --- exploration reached a dead end\n",
      "└ @ Main In[9]:12\n",
      "┌ Info: --- explored path: \n",
      "│   sp = UInt32[0x00000001, 0x00000003, 0x00000009, 0x0000166f, 0x000024a9, 0x000014a1, 0x000014f9, 0x00002ccd, 0x000000ab, 0x00000679, 0x000012b9, 0x00000c13, 0x00000c0d, 0x000007a4, 0x00000082, 0x00000d4a, 0x0000064f, 0x000029d5, 0x00003180, 0x000021e8]\n",
      "└ @ Main In[9]:13\n",
      "┌ Info: ----- SP (Djikstra): \n",
      "│   convert(Array{Int64, 1}, paths[1]) = [1, 3, 9, 5743, 9385, 8405, 1499, 171, 1657, 4793, 3091, 11219, 12687, 10152, 10158, 10163, 195, 20, 55]\n",
      "└ @ Main In[11]:36\n",
      "┌ Info: ----- SP (DF): \n",
      "│   convert(Array{Int64, 1}, sp) = [1, 3, 9, 5743, 9385, 5281, 5369, 11469, 171, 1657, 4793, 3091, 3085, 1956, 130, 3402, 1615, 10709, 12672, 8680]\n",
      "└ @ Main In[11]:46\n",
      "┌ Info: computing personalized Pagerank for target node source t: \n",
      "│   t = 56\n",
      "└ @ Main In[11]:18\n"
     ]
    },
    {
     "name": "stdout",
     "output_type": "stream",
     "text": [
      "  0.185551 seconds (2.05 k allocations: 269.366 MiB, 4.42% gc time)\n"
     ]
    },
    {
     "name": "stderr",
     "output_type": "stream",
     "text": [
      "┌ Info: computing DF\n",
      "└ @ Main In[11]:23\n",
      "┌ Info: searching shortest path (greedy approach) between vertices 1 and 56\n",
      "└ @ Main In[9]:2\n",
      "┌ Info: --- exploration reached a dead end\n",
      "└ @ Main In[9]:12\n",
      "┌ Info: --- explored path: \n",
      "│   sp = UInt32[0x00000001, 0x00000003, 0x00000009, 0x0000166f, 0x000024a9, 0x000014a1, 0x000014f9, 0x00002ccd, 0x000000ab, 0x00000679, 0x000012b9, 0x00000c13, 0x00000c0d, 0x000007a4, 0x00000082, 0x00000d4a, 0x0000064f, 0x000029d5, 0x00003180, 0x000021e8]\n",
      "└ @ Main In[9]:13\n",
      "┌ Info: ----- SP (Djikstra): \n",
      "│   convert(Array{Int64, 1}, paths[1]) = [1, 3, 9, 5743, 9385, 8405, 1499, 171, 1657, 4793, 3091, 11219, 12687, 10152, 10158, 10163, 195, 20, 56]\n",
      "└ @ Main In[11]:36\n",
      "┌ Info: ----- SP (DF): \n",
      "│   convert(Array{Int64, 1}, sp) = [1, 3, 9, 5743, 9385, 5281, 5369, 11469, 171, 1657, 4793, 3091, 3085, 1956, 130, 3402, 1615, 10709, 12672, 8680]\n",
      "└ @ Main In[11]:46\n",
      "┌ Info: computing personalized Pagerank for target node source t: \n",
      "│   t = 57\n",
      "└ @ Main In[11]:18\n"
     ]
    },
    {
     "name": "stdout",
     "output_type": "stream",
     "text": [
      "  0.186862 seconds (2.10 k allocations: 276.746 MiB, 4.94% gc time)\n"
     ]
    },
    {
     "name": "stderr",
     "output_type": "stream",
     "text": [
      "┌ Info: computing DF\n",
      "└ @ Main In[11]:23\n",
      "┌ Info: searching shortest path (greedy approach) between vertices 1 and 57\n",
      "└ @ Main In[9]:2\n",
      "┌ Info: --- exploration reached a dead end\n",
      "└ @ Main In[9]:12\n",
      "┌ Info: --- explored path: \n",
      "│   sp = UInt32[0x00000001, 0x00000003, 0x00000009, 0x0000166f, 0x000024a9, 0x000014a1, 0x000014f9, 0x00002ccd, 0x000000ab, 0x00000679, 0x000012b9, 0x00000c13, 0x00000c0d, 0x000007a4, 0x00000082, 0x00000d4a, 0x0000064f, 0x000029d5, 0x00003180, 0x000021e8]\n",
      "└ @ Main In[9]:13\n",
      "┌ Info: ----- SP (Djikstra): \n",
      "│   convert(Array{Int64, 1}, paths[1]) = [1, 3, 9, 5743, 9385, 8405, 1499, 171, 1657, 4793, 3091, 11219, 12687, 10152, 10158, 10163, 195, 20, 57]\n",
      "└ @ Main In[11]:36\n",
      "┌ Info: ----- SP (DF): \n",
      "│   convert(Array{Int64, 1}, sp) = [1, 3, 9, 5743, 9385, 5281, 5369, 11469, 171, 1657, 4793, 3091, 3085, 1956, 130, 3402, 1615, 10709, 12672, 8680]\n",
      "└ @ Main In[11]:46\n",
      "┌ Info: computing personalized Pagerank for target node source t: \n",
      "│   t = 58\n",
      "└ @ Main In[11]:18\n"
     ]
    },
    {
     "name": "stdout",
     "output_type": "stream",
     "text": [
      "  0.187180 seconds (2.10 k allocations: 276.746 MiB, 4.43% gc time)\n"
     ]
    },
    {
     "name": "stderr",
     "output_type": "stream",
     "text": [
      "┌ Info: computing DF\n",
      "└ @ Main In[11]:23\n",
      "┌ Info: searching shortest path (greedy approach) between vertices 1 and 58\n",
      "└ @ Main In[9]:2\n",
      "┌ Info: --- exploration reached a dead end\n",
      "└ @ Main In[9]:12\n",
      "┌ Info: --- explored path: \n",
      "│   sp = UInt32[0x00000001, 0x00000003, 0x00000009, 0x0000166f, 0x000024a9, 0x000014a1, 0x000014f9, 0x00002ccd, 0x000000ab, 0x00000679, 0x000012b9, 0x00000c13, 0x00000c0d, 0x000007a4, 0x00000082, 0x00000d4a, 0x0000064f, 0x000029d5, 0x00003180, 0x000021e8]\n",
      "└ @ Main In[9]:13\n",
      "┌ Info: ----- SP (Djikstra): \n",
      "│   convert(Array{Int64, 1}, paths[1]) = [1, 3, 9, 5743, 9385, 8405, 1499, 171, 1657, 4793, 3091, 11219, 12687, 10152, 10158, 10163, 195, 20, 58]\n",
      "└ @ Main In[11]:36\n",
      "┌ Info: ----- SP (DF): \n",
      "│   convert(Array{Int64, 1}, sp) = [1, 3, 9, 5743, 9385, 5281, 5369, 11469, 171, 1657, 4793, 3091, 3085, 1956, 130, 3402, 1615, 10709, 12672, 8680]\n",
      "└ @ Main In[11]:46\n",
      "┌ Info: computing personalized Pagerank for target node source t: \n",
      "│   t = 59\n",
      "└ @ Main In[11]:18\n"
     ]
    },
    {
     "name": "stdout",
     "output_type": "stream",
     "text": [
      "  0.195920 seconds (2.10 k allocations: 276.746 MiB, 4.60% gc time)\n"
     ]
    },
    {
     "name": "stderr",
     "output_type": "stream",
     "text": [
      "┌ Info: computing DF\n",
      "└ @ Main In[11]:23\n",
      "┌ Info: searching shortest path (greedy approach) between vertices 1 and 59\n",
      "└ @ Main In[9]:2\n",
      "┌ Info: --- exploration reached a dead end\n",
      "└ @ Main In[9]:12\n",
      "┌ Info: --- explored path: \n",
      "│   sp = UInt32[0x00000001, 0x00000003, 0x00000009, 0x0000166f, 0x000024a9, 0x000014a1, 0x000014f9, 0x00002ccd, 0x000000ab, 0x00000679, 0x000012b9, 0x00000c13, 0x00000c0d, 0x000007a4, 0x00000082, 0x00000d4a, 0x0000064f, 0x000029d5, 0x00003180, 0x000021e8]\n",
      "└ @ Main In[9]:13\n",
      "┌ Info: ----- SP (Djikstra): \n",
      "│   convert(Array{Int64, 1}, paths[1]) = [1, 3, 9, 5743, 9385, 8405, 1499, 171, 1657, 4793, 3091, 11219, 12661, 1514, 1368, 1383, 4771, 59]\n",
      "└ @ Main In[11]:36\n",
      "┌ Info: ----- SP (DF): \n",
      "│   convert(Array{Int64, 1}, sp) = [1, 3, 9, 5743, 9385, 5281, 5369, 11469, 171, 1657, 4793, 3091, 3085, 1956, 130, 3402, 1615, 10709, 12672, 8680]\n",
      "└ @ Main In[11]:46\n",
      "┌ Info: computing personalized Pagerank for target node source t: \n",
      "│   t = 60\n",
      "└ @ Main In[11]:18\n"
     ]
    },
    {
     "name": "stdout",
     "output_type": "stream",
     "text": [
      "  0.199642 seconds (2.10 k allocations: 276.746 MiB, 4.34% gc time)\n"
     ]
    },
    {
     "name": "stderr",
     "output_type": "stream",
     "text": [
      "┌ Info: computing DF\n",
      "└ @ Main In[11]:23\n",
      "┌ Info: searching shortest path (greedy approach) between vertices 1 and 60\n",
      "└ @ Main In[9]:2\n",
      "┌ Info: --- exploration reached a dead end\n",
      "└ @ Main In[9]:12\n",
      "┌ Info: --- explored path: \n",
      "│   sp = UInt32[0x00000001, 0x00000003, 0x00000009, 0x0000166f, 0x000024a9, 0x000014a1, 0x000014f9, 0x00002ccd, 0x000000ab, 0x00000679, 0x000012b9, 0x00000c13, 0x00000c0d, 0x000007a4, 0x00000082, 0x00000d4a, 0x0000064f, 0x000029d5, 0x00003180, 0x000021e8]\n",
      "└ @ Main In[9]:13\n",
      "┌ Info: ----- SP (Djikstra): \n",
      "│   convert(Array{Int64, 1}, paths[1]) = [1, 3, 9, 5743, 9385, 8405, 1499, 171, 1657, 4793, 3091, 11219, 12687, 10152, 10158, 10163, 195, 20, 60]\n",
      "└ @ Main In[11]:36\n",
      "┌ Info: ----- SP (DF): \n",
      "│   convert(Array{Int64, 1}, sp) = [1, 3, 9, 5743, 9385, 5281, 5369, 11469, 171, 1657, 4793, 3091, 3085, 1956, 130, 3402, 1615, 10709, 12672, 8680]\n",
      "└ @ Main In[11]:46\n",
      "┌ Info: computing personalized Pagerank for target node source t: \n",
      "│   t = 61\n",
      "└ @ Main In[11]:18\n"
     ]
    },
    {
     "name": "stdout",
     "output_type": "stream",
     "text": [
      "  0.186543 seconds (2.07 k allocations: 273.056 MiB, 4.90% gc time)\n"
     ]
    },
    {
     "name": "stderr",
     "output_type": "stream",
     "text": [
      "┌ Info: computing DF\n",
      "└ @ Main In[11]:23\n",
      "┌ Info: searching shortest path (greedy approach) between vertices 1 and 61\n",
      "└ @ Main In[9]:2\n",
      "┌ Info: --- exploration reached a dead end\n",
      "└ @ Main In[9]:12\n",
      "┌ Info: --- explored path: \n",
      "│   sp = UInt32[0x00000001, 0x00000003, 0x00000009, 0x0000166f, 0x000024a9, 0x000014a1, 0x000014f9, 0x00002ccd, 0x000000ab, 0x00000679, 0x000012b9, 0x00000c13, 0x00000c0d, 0x000007a4, 0x00000082, 0x00000d4a, 0x0000064f, 0x000029d5, 0x00003180, 0x000021e8]\n",
      "└ @ Main In[9]:13\n",
      "┌ Info: ----- SP (Djikstra): \n",
      "│   convert(Array{Int64, 1}, paths[1]) = [1, 3, 9, 5743, 9385, 8405, 1499, 171, 1657, 4793, 3091, 11219, 12661, 1514, 1368, 1383, 61]\n",
      "└ @ Main In[11]:36\n",
      "┌ Info: ----- SP (DF): \n",
      "│   convert(Array{Int64, 1}, sp) = [1, 3, 9, 5743, 9385, 5281, 5369, 11469, 171, 1657, 4793, 3091, 3085, 1956, 130, 3402, 1615, 10709, 12672, 8680]\n",
      "└ @ Main In[11]:46\n",
      "┌ Info: computing personalized Pagerank for target node source t: \n",
      "│   t = 62\n",
      "└ @ Main In[11]:18\n"
     ]
    },
    {
     "name": "stdout",
     "output_type": "stream",
     "text": [
      "  0.187590 seconds (2.13 k allocations: 280.436 MiB, 4.38% gc time)\n"
     ]
    },
    {
     "name": "stderr",
     "output_type": "stream",
     "text": [
      "┌ Info: computing DF\n",
      "└ @ Main In[11]:23\n",
      "┌ Info: searching shortest path (greedy approach) between vertices 1 and 62\n",
      "└ @ Main In[9]:2\n",
      "┌ Info: --- exploration reached a dead end\n",
      "└ @ Main In[9]:12\n",
      "┌ Info: --- explored path: \n",
      "│   sp = UInt32[0x00000001, 0x00000003, 0x00000009, 0x0000166f, 0x000024a9, 0x000014a1, 0x000014f9, 0x00002ccd, 0x000000ab, 0x00000679, 0x000012b9, 0x00000c13, 0x00000c0d, 0x000007a4, 0x00000082, 0x00000d4a, 0x0000064f, 0x000029d5, 0x00003180, 0x000021e8]\n",
      "└ @ Main In[9]:13\n",
      "┌ Info: ----- SP (Djikstra): \n",
      "│   convert(Array{Int64, 1}, paths[1]) = [1, 3, 9, 5743, 9385, 8405, 1499, 171, 1657, 4793, 3091, 11219, 12687, 10152, 10158, 10163, 195, 1671, 62]\n",
      "└ @ Main In[11]:36\n",
      "┌ Info: ----- SP (DF): \n",
      "│   convert(Array{Int64, 1}, sp) = [1, 3, 9, 5743, 9385, 5281, 5369, 11469, 171, 1657, 4793, 3091, 3085, 1956, 130, 3402, 1615, 10709, 12672, 8680]\n",
      "└ @ Main In[11]:46\n",
      "┌ Info: computing personalized Pagerank for target node source t: \n",
      "│   t = 63\n",
      "└ @ Main In[11]:18\n"
     ]
    },
    {
     "name": "stdout",
     "output_type": "stream",
     "text": [
      "  0.185013 seconds (2.10 k allocations: 276.746 MiB, 4.89% gc time)\n"
     ]
    },
    {
     "name": "stderr",
     "output_type": "stream",
     "text": [
      "┌ Info: computing DF\n",
      "└ @ Main In[11]:23\n",
      "┌ Info: searching shortest path (greedy approach) between vertices 1 and 63\n",
      "└ @ Main In[9]:2\n",
      "┌ Info: --- exploration reached a dead end\n",
      "└ @ Main In[9]:12\n",
      "┌ Info: --- explored path: \n",
      "│   sp = UInt32[0x00000001, 0x00000003, 0x00000009, 0x0000166f, 0x000024a9, 0x000014a1, 0x000014f9, 0x00002ccd, 0x000000ab, 0x00000679, 0x000012b9, 0x00000c13, 0x00000c0d, 0x000007a4, 0x00000082, 0x00000d4a, 0x0000064f, 0x000029d5, 0x00003180, 0x000021e8]\n",
      "└ @ Main In[9]:13\n",
      "┌ Info: ----- SP (Djikstra): \n",
      "│   convert(Array{Int64, 1}, paths[1]) = [1, 3, 9, 5743, 9385, 8405, 1499, 171, 1657, 4793, 3091, 11219, 12687, 10152, 10158, 10163, 195, 20, 63]\n",
      "└ @ Main In[11]:36\n",
      "┌ Info: ----- SP (DF): \n",
      "│   convert(Array{Int64, 1}, sp) = [1, 3, 9, 5743, 9385, 5281, 5369, 11469, 171, 1657, 4793, 3091, 3085, 1956, 130, 3402, 1615, 10709, 12672, 8680]\n",
      "└ @ Main In[11]:46\n",
      "┌ Info: computing personalized Pagerank for target node source t: \n",
      "│   t = 64\n",
      "└ @ Main In[11]:18\n"
     ]
    },
    {
     "name": "stdout",
     "output_type": "stream",
     "text": [
      "  0.198284 seconds (2.10 k allocations: 276.746 MiB, 4.28% gc time)\n"
     ]
    },
    {
     "name": "stderr",
     "output_type": "stream",
     "text": [
      "┌ Info: computing DF\n",
      "└ @ Main In[11]:23\n",
      "┌ Info: searching shortest path (greedy approach) between vertices 1 and 64\n",
      "└ @ Main In[9]:2\n",
      "┌ Info: --- exploration reached a dead end\n",
      "└ @ Main In[9]:12\n",
      "┌ Info: --- explored path: \n",
      "│   sp = UInt32[0x00000001, 0x00000003, 0x00000009, 0x0000166f, 0x000024a9, 0x000014a1, 0x000014f9, 0x00002ccd, 0x000000ab, 0x00000679, 0x000012b9, 0x00000c13, 0x00000c0d, 0x000007a4, 0x00000082, 0x00000d4a, 0x0000064f, 0x000029d5, 0x00003180, 0x000021e8]\n",
      "└ @ Main In[9]:13\n",
      "┌ Info: ----- SP (Djikstra): \n",
      "│   convert(Array{Int64, 1}, paths[1]) = [1, 3, 9, 5743, 9385, 8405, 1499, 171, 1657, 4793, 3091, 11219, 12687, 10152, 10158, 10163, 195, 1671, 64]\n",
      "└ @ Main In[11]:36\n",
      "┌ Info: ----- SP (DF): \n",
      "│   convert(Array{Int64, 1}, sp) = [1, 3, 9, 5743, 9385, 5281, 5369, 11469, 171, 1657, 4793, 3091, 3085, 1956, 130, 3402, 1615, 10709, 12672, 8680]\n",
      "└ @ Main In[11]:46\n",
      "┌ Info: computing personalized Pagerank for target node source t: \n",
      "│   t = 65\n",
      "└ @ Main In[11]:18\n"
     ]
    },
    {
     "name": "stdout",
     "output_type": "stream",
     "text": [
      "  0.196102 seconds (2.13 k allocations: 280.436 MiB, 4.69% gc time)\n"
     ]
    },
    {
     "name": "stderr",
     "output_type": "stream",
     "text": [
      "┌ Info: computing DF\n",
      "└ @ Main In[11]:23\n",
      "┌ Info: searching shortest path (greedy approach) between vertices 1 and 65\n",
      "└ @ Main In[9]:2\n",
      "┌ Info: --- exploration reached a dead end\n",
      "└ @ Main In[9]:12\n",
      "┌ Info: --- explored path: \n",
      "│   sp = UInt32[0x00000001, 0x00000003, 0x00000009, 0x0000166f, 0x000024a9, 0x000014a1, 0x000014f9, 0x00002ccd, 0x000000ab, 0x00000679, 0x000012b9, 0x00000c13, 0x00000c0d, 0x000007a4, 0x00000082, 0x00000d4a, 0x0000064f, 0x000029d5, 0x00003180, 0x000021e8]\n",
      "└ @ Main In[9]:13\n",
      "┌ Info: ----- SP (Djikstra): \n",
      "│   convert(Array{Int64, 1}, paths[1]) = [1, 3, 9, 5743, 9385, 8405, 1499, 171, 1657, 4793, 3091, 11219, 12687, 10152, 10158, 10163, 195, 20, 65]\n",
      "└ @ Main In[11]:36\n",
      "┌ Info: ----- SP (DF): \n",
      "│   convert(Array{Int64, 1}, sp) = [1, 3, 9, 5743, 9385, 5281, 5369, 11469, 171, 1657, 4793, 3091, 3085, 1956, 130, 3402, 1615, 10709, 12672, 8680]\n",
      "└ @ Main In[11]:46\n",
      "┌ Info: computing personalized Pagerank for target node source t: \n",
      "│   t = 66\n",
      "└ @ Main In[11]:18\n"
     ]
    },
    {
     "name": "stdout",
     "output_type": "stream",
     "text": [
      "  0.191481 seconds (2.10 k allocations: 276.746 MiB, 4.32% gc time)\n"
     ]
    },
    {
     "name": "stderr",
     "output_type": "stream",
     "text": [
      "┌ Info: computing DF\n",
      "└ @ Main In[11]:23\n",
      "┌ Info: searching shortest path (greedy approach) between vertices 1 and 66\n",
      "└ @ Main In[9]:2\n",
      "┌ Info: --- exploration reached a dead end\n",
      "└ @ Main In[9]:12\n",
      "┌ Info: --- explored path: \n",
      "│   sp = UInt32[0x00000001, 0x00000003, 0x00000009, 0x0000166f, 0x000024a9, 0x000014a1, 0x000014f9, 0x00002ccd, 0x000000ab, 0x00000679, 0x000012b9, 0x00000c13, 0x00000c0d, 0x000007a4, 0x00000082, 0x00000d4a, 0x0000064f, 0x000029d5, 0x00003180, 0x000021e8]\n",
      "└ @ Main In[9]:13\n",
      "┌ Info: ----- SP (Djikstra): \n",
      "│   convert(Array{Int64, 1}, paths[1]) = [1, 3, 9, 5743, 9385, 8405, 1499, 171, 1657, 4793, 3091, 11219, 12687, 10152, 10158, 10163, 195, 20, 66]\n",
      "└ @ Main In[11]:36\n",
      "┌ Info: ----- SP (DF): \n",
      "│   convert(Array{Int64, 1}, sp) = [1, 3, 9, 5743, 9385, 5281, 5369, 11469, 171, 1657, 4793, 3091, 3085, 1956, 130, 3402, 1615, 10709, 12672, 8680]\n",
      "└ @ Main In[11]:46\n",
      "┌ Info: computing personalized Pagerank for target node source t: \n",
      "│   t = 67\n",
      "└ @ Main In[11]:18\n"
     ]
    },
    {
     "name": "stdout",
     "output_type": "stream",
     "text": [
      "  0.188170 seconds (2.10 k allocations: 276.746 MiB, 4.87% gc time)\n"
     ]
    },
    {
     "name": "stderr",
     "output_type": "stream",
     "text": [
      "┌ Info: computing DF\n",
      "└ @ Main In[11]:23\n",
      "┌ Info: searching shortest path (greedy approach) between vertices 1 and 67\n",
      "└ @ Main In[9]:2\n",
      "┌ Info: --- exploration reached a dead end\n",
      "└ @ Main In[9]:12\n",
      "┌ Info: --- explored path: \n",
      "│   sp = UInt32[0x00000001, 0x00000003, 0x00000009, 0x0000166f, 0x000024a9, 0x000014a1, 0x000014f9, 0x00002ccd, 0x000000ab, 0x00000679, 0x000012b9, 0x00000c13, 0x00000c0d, 0x000007a4, 0x00000082, 0x00000d4a, 0x0000064f, 0x000029d5, 0x00003180, 0x000021e8]\n",
      "└ @ Main In[9]:13\n",
      "┌ Info: ----- SP (Djikstra): \n",
      "│   convert(Array{Int64, 1}, paths[1]) = [1, 3, 9, 5743, 9385, 8405, 1499, 171, 1657, 4793, 3091, 11219, 12687, 10152, 10158, 10163, 195, 20, 67]\n",
      "└ @ Main In[11]:36\n",
      "┌ Info: ----- SP (DF): \n",
      "│   convert(Array{Int64, 1}, sp) = [1, 3, 9, 5743, 9385, 5281, 5369, 11469, 171, 1657, 4793, 3091, 3085, 1956, 130, 3402, 1615, 10709, 12672, 8680]\n",
      "└ @ Main In[11]:46\n",
      "┌ Info: computing personalized Pagerank for target node source t: \n",
      "│   t = 68\n",
      "└ @ Main In[11]:18\n"
     ]
    },
    {
     "name": "stdout",
     "output_type": "stream",
     "text": [
      "  0.190160 seconds (2.13 k allocations: 280.436 MiB, 4.71% gc time)\n"
     ]
    },
    {
     "name": "stderr",
     "output_type": "stream",
     "text": [
      "┌ Info: computing DF\n",
      "└ @ Main In[11]:23\n",
      "┌ Info: searching shortest path (greedy approach) between vertices 1 and 68\n",
      "└ @ Main In[9]:2\n",
      "┌ Info: --- exploration reached a dead end\n",
      "└ @ Main In[9]:12\n",
      "┌ Info: --- explored path: \n",
      "│   sp = UInt32[0x00000001, 0x00000003, 0x00000009, 0x0000166f, 0x000024a9, 0x000014a1, 0x000014f9, 0x00002ccd, 0x000000ab, 0x00000679, 0x000012b9, 0x00000c13, 0x00000c0d, 0x000007a4, 0x00000082, 0x00000d4a, 0x0000064f, 0x000029d5, 0x00003180, 0x000021e8]\n",
      "└ @ Main In[9]:13\n",
      "┌ Info: ----- SP (Djikstra): \n",
      "│   convert(Array{Int64, 1}, paths[1]) = [1, 3, 9, 5743, 9385, 8405, 1499, 171, 1657, 4793, 3091, 11219, 12687, 10152, 10158, 10163, 195, 20, 68]\n",
      "└ @ Main In[11]:36\n",
      "┌ Info: ----- SP (DF): \n",
      "│   convert(Array{Int64, 1}, sp) = [1, 3, 9, 5743, 9385, 5281, 5369, 11469, 171, 1657, 4793, 3091, 3085, 1956, 130, 3402, 1615, 10709, 12672, 8680]\n",
      "└ @ Main In[11]:46\n",
      "┌ Info: computing personalized Pagerank for target node source t: \n",
      "│   t = 69\n",
      "└ @ Main In[11]:18\n"
     ]
    },
    {
     "name": "stdout",
     "output_type": "stream",
     "text": [
      "  0.188542 seconds (2.07 k allocations: 273.056 MiB, 4.27% gc time)\n"
     ]
    },
    {
     "name": "stderr",
     "output_type": "stream",
     "text": [
      "┌ Info: computing DF\n",
      "└ @ Main In[11]:23\n",
      "┌ Info: searching shortest path (greedy approach) between vertices 1 and 69\n",
      "└ @ Main In[9]:2\n",
      "┌ Info: --- exploration reached a dead end\n",
      "└ @ Main In[9]:12\n",
      "┌ Info: --- explored path: \n",
      "│   sp = UInt32[0x00000001, 0x00000003, 0x00000009, 0x0000166f, 0x000024a9, 0x000014a1, 0x000014f9, 0x00002ccd, 0x000000ab, 0x00000679, 0x000012b9, 0x00000c13, 0x00000c0d, 0x000007a4, 0x00000082, 0x00000d4a, 0x0000064f, 0x000029d5, 0x00003180, 0x000021e8]\n",
      "└ @ Main In[9]:13\n",
      "┌ Info: ----- SP (Djikstra): \n",
      "│   convert(Array{Int64, 1}, paths[1]) = [1, 3, 9, 5743, 9385, 8405, 1499, 171, 1657, 4793, 3091, 11219, 12687, 10152, 10158, 10163, 195, 20, 69]\n",
      "└ @ Main In[11]:36\n",
      "┌ Info: ----- SP (DF): \n",
      "│   convert(Array{Int64, 1}, sp) = [1, 3, 9, 5743, 9385, 5281, 5369, 11469, 171, 1657, 4793, 3091, 3085, 1956, 130, 3402, 1615, 10709, 12672, 8680]\n",
      "└ @ Main In[11]:46\n",
      "┌ Info: computing personalized Pagerank for target node source t: \n",
      "│   t = 70\n",
      "└ @ Main In[11]:18\n"
     ]
    },
    {
     "name": "stdout",
     "output_type": "stream",
     "text": [
      "  0.178321 seconds (1.99 k allocations: 261.986 MiB, 4.75% gc time)\n"
     ]
    },
    {
     "name": "stderr",
     "output_type": "stream",
     "text": [
      "┌ Info: computing DF\n",
      "└ @ Main In[11]:23\n",
      "┌ Info: searching shortest path (greedy approach) between vertices 1 and 70\n",
      "└ @ Main In[9]:2\n",
      "┌ Info: path found: \n",
      "│   sp = UInt32[0x00000001, 0x00000004, 0x00000007, 0x000000d7, 0x0000054f, 0x00000046]\n",
      "└ @ Main In[9]:21\n",
      "┌ Info: ----- SP (Djikstra): \n",
      "│   convert(Array{Int64, 1}, paths[1]) = [1, 4, 7, 215, 1359, 70]\n",
      "└ @ Main In[11]:36\n",
      "┌ Info: ----- SP (DF): \n",
      "│   convert(Array{Int64, 1}, sp) = [1, 4, 7, 215, 1359, 70]\n",
      "└ @ Main In[11]:46\n",
      "┌ Info: computing personalized Pagerank for target node source t: \n",
      "│   t = 71\n",
      "└ @ Main In[11]:18\n"
     ]
    },
    {
     "name": "stdout",
     "output_type": "stream",
     "text": [
      "  0.192327 seconds (2.07 k allocations: 273.056 MiB, 4.26% gc time)\n"
     ]
    },
    {
     "name": "stderr",
     "output_type": "stream",
     "text": [
      "┌ Info: computing DF\n",
      "└ @ Main In[11]:23\n",
      "┌ Info: searching shortest path (greedy approach) between vertices 1 and 71\n",
      "└ @ Main In[9]:2\n",
      "┌ Info: path found: \n",
      "│   sp = UInt32[0x00000001, 0x00000004, 0x00000007, 0x000000d7, 0x0000054f, 0x00000083, 0x00001914, 0x00000047]\n",
      "└ @ Main In[9]:21\n",
      "┌ Info: ----- SP (Djikstra): \n",
      "│   convert(Array{Int64, 1}, paths[1]) = [1, 4, 7, 215, 1359, 131, 6420, 71]\n",
      "└ @ Main In[11]:36\n",
      "┌ Info: ----- SP (DF): \n",
      "│   convert(Array{Int64, 1}, sp) = [1, 4, 7, 215, 1359, 131, 6420, 71]\n",
      "└ @ Main In[11]:46\n",
      "┌ Info: computing personalized Pagerank for target node source t: \n",
      "│   t = 72\n",
      "└ @ Main In[11]:18\n"
     ]
    },
    {
     "name": "stdout",
     "output_type": "stream",
     "text": [
      "  0.171355 seconds (1.93 k allocations: 254.606 MiB, 4.66% gc time)\n"
     ]
    },
    {
     "name": "stderr",
     "output_type": "stream",
     "text": [
      "┌ Info: computing DF\n",
      "└ @ Main In[11]:23\n",
      "┌ Info: searching shortest path (greedy approach) between vertices 1 and 72\n",
      "└ @ Main In[9]:2\n",
      "┌ Info: path found: \n",
      "│   sp = UInt32[0x00000001, 0x00000004, 0x00000007, 0x000000d7, 0x0000054f, 0x00000048]\n",
      "└ @ Main In[9]:21\n",
      "┌ Info: ----- SP (Djikstra): \n",
      "│   convert(Array{Int64, 1}, paths[1]) = [1, 4, 7, 215, 1359, 72]\n",
      "└ @ Main In[11]:36\n",
      "┌ Info: ----- SP (DF): \n",
      "│   convert(Array{Int64, 1}, sp) = [1, 4, 7, 215, 1359, 72]\n",
      "└ @ Main In[11]:46\n",
      "┌ Info: computing personalized Pagerank for target node source t: \n",
      "│   t = 73\n",
      "└ @ Main In[11]:18\n"
     ]
    },
    {
     "name": "stdout",
     "output_type": "stream",
     "text": [
      "  0.179768 seconds (2.02 k allocations: 265.676 MiB, 4.57% gc time)\n"
     ]
    },
    {
     "name": "stderr",
     "output_type": "stream",
     "text": [
      "┌ Info: computing DF\n",
      "└ @ Main In[11]:23\n",
      "┌ Info: searching shortest path (greedy approach) between vertices 1 and 73\n",
      "└ @ Main In[9]:2\n",
      "┌ Info: path found: \n",
      "│   sp = UInt32[0x00000001, 0x00000004, 0x00000007, 0x000000d7, 0x0000054f, 0x00000049]\n",
      "└ @ Main In[9]:21\n",
      "┌ Info: ----- SP (Djikstra): \n",
      "│   convert(Array{Int64, 1}, paths[1]) = [1, 4, 7, 215, 1359, 73]\n",
      "└ @ Main In[11]:36\n",
      "┌ Info: ----- SP (DF): \n",
      "│   convert(Array{Int64, 1}, sp) = [1, 4, 7, 215, 1359, 73]\n",
      "└ @ Main In[11]:46\n",
      "┌ Info: computing personalized Pagerank for target node source t: \n",
      "│   t = 74\n",
      "└ @ Main In[11]:18\n"
     ]
    },
    {
     "name": "stdout",
     "output_type": "stream",
     "text": [
      "  0.179546 seconds (2.02 k allocations: 265.676 MiB, 4.65% gc time)\n"
     ]
    },
    {
     "name": "stderr",
     "output_type": "stream",
     "text": [
      "┌ Info: computing DF\n",
      "└ @ Main In[11]:23\n",
      "┌ Info: searching shortest path (greedy approach) between vertices 1 and 74\n",
      "└ @ Main In[9]:2\n",
      "┌ Info: path found: \n",
      "│   sp = UInt32[0x00000001, 0x00000004, 0x00000007, 0x000000d7, 0x0000054f, 0x0000004a]\n",
      "└ @ Main In[9]:21\n",
      "┌ Info: ----- SP (Djikstra): \n",
      "│   convert(Array{Int64, 1}, paths[1]) = [1, 4, 7, 215, 1359, 74]\n",
      "└ @ Main In[11]:36\n",
      "┌ Info: ----- SP (DF): \n",
      "│   convert(Array{Int64, 1}, sp) = [1, 4, 7, 215, 1359, 74]\n",
      "└ @ Main In[11]:46\n",
      "┌ Info: computing personalized Pagerank for target node source t: \n",
      "│   t = 75\n",
      "└ @ Main In[11]:18\n"
     ]
    },
    {
     "name": "stdout",
     "output_type": "stream",
     "text": [
      "  0.187394 seconds (2.02 k allocations: 265.676 MiB, 4.67% gc time)\n"
     ]
    },
    {
     "name": "stderr",
     "output_type": "stream",
     "text": [
      "┌ Info: computing DF\n",
      "└ @ Main In[11]:23\n",
      "┌ Info: searching shortest path (greedy approach) between vertices 1 and 75\n",
      "└ @ Main In[9]:2\n",
      "┌ Info: path found: \n",
      "│   sp = UInt32[0x00000001, 0x00000004, 0x00000007, 0x000000d7, 0x0000054f, 0x0000004b]\n",
      "└ @ Main In[9]:21\n",
      "┌ Info: ----- SP (Djikstra): \n",
      "│   convert(Array{Int64, 1}, paths[1]) = [1, 4, 7, 215, 1359, 75]\n",
      "└ @ Main In[11]:36\n",
      "┌ Info: ----- SP (DF): \n",
      "│   convert(Array{Int64, 1}, sp) = [1, 4, 7, 215, 1359, 75]\n",
      "└ @ Main In[11]:46\n",
      "┌ Info: computing personalized Pagerank for target node source t: \n",
      "│   t = 76\n",
      "└ @ Main In[11]:18\n"
     ]
    },
    {
     "name": "stdout",
     "output_type": "stream",
     "text": [
      "  0.178161 seconds (2.02 k allocations: 265.676 MiB, 4.63% gc time)\n"
     ]
    },
    {
     "name": "stderr",
     "output_type": "stream",
     "text": [
      "┌ Info: computing DF\n",
      "└ @ Main In[11]:23\n",
      "┌ Info: searching shortest path (greedy approach) between vertices 1 and 76\n",
      "└ @ Main In[9]:2\n",
      "┌ Info: path found: \n",
      "│   sp = UInt32[0x00000001, 0x00000004, 0x00000007, 0x000000d7, 0x0000054f, 0x0000004c]\n",
      "└ @ Main In[9]:21\n",
      "┌ Info: ----- SP (Djikstra): \n",
      "│   convert(Array{Int64, 1}, paths[1]) = [1, 4, 7, 215, 1359, 76]\n",
      "└ @ Main In[11]:36\n",
      "┌ Info: ----- SP (DF): \n",
      "│   convert(Array{Int64, 1}, sp) = [1, 4, 7, 215, 1359, 76]\n",
      "└ @ Main In[11]:46\n",
      "┌ Info: computing personalized Pagerank for target node source t: \n",
      "│   t = 77\n",
      "└ @ Main In[11]:18\n"
     ]
    },
    {
     "name": "stdout",
     "output_type": "stream",
     "text": [
      "  0.181012 seconds (2.02 k allocations: 265.676 MiB, 4.65% gc time)\n"
     ]
    },
    {
     "name": "stderr",
     "output_type": "stream",
     "text": [
      "┌ Info: computing DF\n",
      "└ @ Main In[11]:23\n",
      "┌ Info: searching shortest path (greedy approach) between vertices 1 and 77\n",
      "└ @ Main In[9]:2\n",
      "┌ Info: path found: \n",
      "│   sp = UInt32[0x00000001, 0x00000004, 0x00000007, 0x000000d7, 0x0000054f, 0x0000004d]\n",
      "└ @ Main In[9]:21\n",
      "┌ Info: ----- SP (Djikstra): \n",
      "│   convert(Array{Int64, 1}, paths[1]) = [1, 4, 7, 215, 1359, 77]\n",
      "└ @ Main In[11]:36\n",
      "┌ Info: ----- SP (DF): \n",
      "│   convert(Array{Int64, 1}, sp) = [1, 4, 7, 215, 1359, 77]\n",
      "└ @ Main In[11]:46\n",
      "┌ Info: computing personalized Pagerank for target node source t: \n",
      "│   t = 78\n",
      "└ @ Main In[11]:18\n"
     ]
    },
    {
     "name": "stdout",
     "output_type": "stream",
     "text": [
      "  0.173411 seconds (1.96 k allocations: 258.296 MiB, 4.37% gc time)\n"
     ]
    },
    {
     "name": "stderr",
     "output_type": "stream",
     "text": [
      "┌ Info: computing DF\n",
      "└ @ Main In[11]:23\n",
      "┌ Info: searching shortest path (greedy approach) between vertices 1 and 78\n",
      "└ @ Main In[9]:2\n",
      "┌ Info: path found: \n",
      "│   sp = UInt32[0x00000001, 0x00000003, 0x00000009, 0x0000166f, 0x00002e06, 0x00000941, 0x000009c1, 0x00002c24, 0x000012bf, 0x0000004e]\n",
      "└ @ Main In[9]:21\n",
      "┌ Info: ----- SP (Djikstra): \n",
      "│   convert(Array{Int64, 1}, paths[1]) = [1, 3, 9, 5743, 9385, 5281, 5369, 213, 78]\n",
      "└ @ Main In[11]:36\n",
      "┌ Info: ----- SP (DF): \n",
      "│   convert(Array{Int64, 1}, sp) = [1, 3, 9, 5743, 11782, 2369, 2497, 11300, 4799, 78]\n",
      "└ @ Main In[11]:46\n",
      "┌ Info: computing personalized Pagerank for target node source t: \n",
      "│   t = 79\n",
      "└ @ Main In[11]:18\n"
     ]
    },
    {
     "name": "stdout",
     "output_type": "stream",
     "text": [
      "  0.183782 seconds (2.05 k allocations: 269.366 MiB, 4.56% gc time)\n"
     ]
    },
    {
     "name": "stderr",
     "output_type": "stream",
     "text": [
      "┌ Info: computing DF\n",
      "└ @ Main In[11]:23\n",
      "┌ Info: searching shortest path (greedy approach) between vertices 1 and 79\n",
      "└ @ Main In[9]:2\n",
      "┌ Info: path found: \n",
      "│   sp = UInt32[0x00000001, 0x00000003, 0x00000009, 0x0000166f, 0x000024a9, 0x000024bb, 0x00002f2f, 0x000012e3, 0x0000004f]\n",
      "└ @ Main In[9]:21\n",
      "┌ Info: ----- SP (Djikstra): \n",
      "│   convert(Array{Int64, 1}, paths[1]) = [1, 4, 7, 215, 1359, 79]\n",
      "└ @ Main In[11]:36\n",
      "┌ Info: ----- SP (DF): \n",
      "│   convert(Array{Int64, 1}, sp) = [1, 3, 9, 5743, 9385, 9403, 12079, 4835, 79]\n",
      "└ @ Main In[11]:46\n",
      "┌ Info: computing personalized Pagerank for target node source t: \n",
      "│   t = 80\n",
      "└ @ Main In[11]:18\n"
     ]
    },
    {
     "name": "stdout",
     "output_type": "stream",
     "text": [
      "  0.186445 seconds (2.05 k allocations: 269.366 MiB, 4.83% gc time)\n"
     ]
    },
    {
     "name": "stderr",
     "output_type": "stream",
     "text": [
      "┌ Info: computing DF\n",
      "└ @ Main In[11]:23\n",
      "┌ Info: searching shortest path (greedy approach) between vertices 1 and 80\n",
      "└ @ Main In[9]:2\n",
      "┌ Info: path found: \n",
      "│   sp = UInt32[0x00000001, 0x00000003, 0x00000009, 0x0000166f, 0x000024a9, 0x000024bb, 0x00002f2f, 0x000006bf, 0x00000050]\n",
      "└ @ Main In[9]:21\n",
      "┌ Info: ----- SP (Djikstra): \n",
      "│   convert(Array{Int64, 1}, paths[1]) = [1, 4, 7, 215, 1359, 82, 80]\n",
      "└ @ Main In[11]:36\n",
      "┌ Info: ----- SP (DF): \n",
      "│   convert(Array{Int64, 1}, sp) = [1, 3, 9, 5743, 9385, 9403, 12079, 1727, 80]\n",
      "└ @ Main In[11]:46\n",
      "┌ Info: computing personalized Pagerank for target node source t: \n",
      "│   t = 81\n",
      "└ @ Main In[11]:18\n"
     ]
    },
    {
     "name": "stdout",
     "output_type": "stream",
     "text": [
      "  0.184479 seconds (1.99 k allocations: 261.986 MiB, 4.26% gc time)\n"
     ]
    },
    {
     "name": "stderr",
     "output_type": "stream",
     "text": [
      "┌ Info: computing DF\n",
      "└ @ Main In[11]:23\n",
      "┌ Info: searching shortest path (greedy approach) between vertices 1 and 81\n",
      "└ @ Main In[9]:2\n",
      "┌ Info: path found: \n",
      "│   sp = UInt32[0x00000001, 0x00000004, 0x00000007, 0x000000d7, 0x0000054f, 0x00000051]\n",
      "└ @ Main In[9]:21\n",
      "┌ Info: ----- SP (Djikstra): \n",
      "│   convert(Array{Int64, 1}, paths[1]) = [1, 4, 7, 215, 1359, 81]\n",
      "└ @ Main In[11]:36\n",
      "┌ Info: ----- SP (DF): \n",
      "│   convert(Array{Int64, 1}, sp) = [1, 4, 7, 215, 1359, 81]\n",
      "└ @ Main In[11]:46\n",
      "┌ Info: computing personalized Pagerank for target node source t: \n",
      "│   t = 82\n",
      "└ @ Main In[11]:18\n"
     ]
    },
    {
     "name": "stdout",
     "output_type": "stream",
     "text": [
      "  0.183507 seconds (2.05 k allocations: 269.366 MiB, 4.91% gc time)\n"
     ]
    },
    {
     "name": "stderr",
     "output_type": "stream",
     "text": [
      "┌ Info: computing DF\n",
      "└ @ Main In[11]:23\n",
      "┌ Info: searching shortest path (greedy approach) between vertices 1 and 82\n",
      "└ @ Main In[9]:2\n",
      "┌ Info: path found: \n",
      "│   sp = UInt32[0x00000001, 0x00000004, 0x00000007, 0x000000d7, 0x0000054f, 0x00000052]\n",
      "└ @ Main In[9]:21\n",
      "┌ Info: ----- SP (Djikstra): \n",
      "│   convert(Array{Int64, 1}, paths[1]) = [1, 4, 7, 215, 1359, 82]\n",
      "└ @ Main In[11]:36\n",
      "┌ Info: ----- SP (DF): \n",
      "│   convert(Array{Int64, 1}, sp) = [1, 4, 7, 215, 1359, 82]\n",
      "└ @ Main In[11]:46\n",
      "┌ Info: computing personalized Pagerank for target node source t: \n",
      "│   t = 83\n",
      "└ @ Main In[11]:18\n"
     ]
    },
    {
     "name": "stdout",
     "output_type": "stream",
     "text": [
      "  0.184116 seconds (2.05 k allocations: 269.366 MiB, 4.61% gc time)\n"
     ]
    },
    {
     "name": "stderr",
     "output_type": "stream",
     "text": [
      "┌ Info: computing DF\n",
      "└ @ Main In[11]:23\n",
      "┌ Info: searching shortest path (greedy approach) between vertices 1 and 83\n",
      "└ @ Main In[9]:2\n",
      "┌ Info: path found: \n",
      "│   sp = UInt32[0x00000001, 0x00000003, 0x00000009, 0x0000166f, 0x000024a9, 0x000014a1, 0x000014f9, 0x000000d5, 0x000005b5, 0x000013c6, 0x00000053]\n",
      "└ @ Main In[9]:21\n",
      "┌ Info: ----- SP (Djikstra): \n",
      "│   convert(Array{Int64, 1}, paths[1]) = [1, 3, 9, 5743, 9385, 5281, 5369, 213, 1622, 83]\n",
      "└ @ Main In[11]:36\n",
      "┌ Info: ----- SP (DF): \n",
      "│   convert(Array{Int64, 1}, sp) = [1, 3, 9, 5743, 9385, 5281, 5369, 213, 1461, 5062, 83]\n",
      "└ @ Main In[11]:46\n",
      "┌ Info: computing personalized Pagerank for target node source t: \n",
      "│   t = 84\n",
      "└ @ Main In[11]:18\n"
     ]
    },
    {
     "name": "stdout",
     "output_type": "stream",
     "text": [
      "  0.175656 seconds (1.96 k allocations: 258.296 MiB, 4.43% gc time)\n"
     ]
    },
    {
     "name": "stderr",
     "output_type": "stream",
     "text": [
      "┌ Info: computing DF\n",
      "└ @ Main In[11]:23\n",
      "┌ Info: searching shortest path (greedy approach) between vertices 1 and 84\n",
      "└ @ Main In[9]:2\n",
      "┌ Info: path found: \n",
      "│   sp = UInt32[0x00000001, 0x00000003, 0x00000009, 0x0000166f, 0x000024a9, 0x000014a1, 0x000014f9, 0x000012cd, 0x000012be, 0x00000054]\n",
      "└ @ Main In[9]:21\n",
      "┌ Info: ----- SP (Djikstra): \n",
      "│   convert(Array{Int64, 1}, paths[1]) = [1, 3, 9, 5743, 9385, 5281, 5369, 4813, 5816, 84]\n",
      "└ @ Main In[11]:36\n",
      "┌ Info: ----- SP (DF): \n",
      "│   convert(Array{Int64, 1}, sp) = [1, 3, 9, 5743, 9385, 5281, 5369, 4813, 4798, 84]\n",
      "└ @ Main In[11]:46\n",
      "┌ Info: computing personalized Pagerank for target node source t: \n",
      "│   t = 85\n",
      "└ @ Main In[11]:18\n"
     ]
    },
    {
     "name": "stdout",
     "output_type": "stream",
     "text": [
      "  0.180146 seconds (1.99 k allocations: 261.986 MiB, 4.65% gc time)\n"
     ]
    },
    {
     "name": "stderr",
     "output_type": "stream",
     "text": [
      "┌ Info: computing DF\n",
      "└ @ Main In[11]:23\n",
      "┌ Info: searching shortest path (greedy approach) between vertices 1 and 85\n",
      "└ @ Main In[9]:2\n",
      "┌ Info: path found: \n",
      "│   sp = UInt32[0x00000001, 0x00000003, 0x00000009, 0x0000166f, 0x000024a9, 0x000014a1, 0x000014f9, 0x000012cd, 0x00000055]\n",
      "└ @ Main In[9]:21\n",
      "┌ Info: ----- SP (Djikstra): \n",
      "│   convert(Array{Int64, 1}, paths[1]) = [1, 3, 9, 5743, 9385, 5281, 5369, 4813, 85]\n",
      "└ @ Main In[11]:36\n",
      "┌ Info: ----- SP (DF): \n",
      "│   convert(Array{Int64, 1}, sp) = [1, 3, 9, 5743, 9385, 5281, 5369, 4813, 85]\n",
      "└ @ Main In[11]:46\n",
      "┌ Info: computing personalized Pagerank for target node source t: \n",
      "│   t = 86\n",
      "└ @ Main In[11]:18\n"
     ]
    },
    {
     "name": "stdout",
     "output_type": "stream",
     "text": [
      "  0.183146 seconds (1.99 k allocations: 261.986 MiB, 4.66% gc time)\n"
     ]
    },
    {
     "name": "stderr",
     "output_type": "stream",
     "text": [
      "┌ Info: computing DF\n",
      "└ @ Main In[11]:23\n",
      "┌ Info: searching shortest path (greedy approach) between vertices 1 and 86\n",
      "└ @ Main In[9]:2\n",
      "┌ Info: path found: \n",
      "│   sp = UInt32[0x00000001, 0x00000003, 0x00000009, 0x0000166f, 0x000024a9, 0x000014a1, 0x000014f9, 0x000012cd, 0x00000056]\n",
      "└ @ Main In[9]:21\n",
      "┌ Info: ----- SP (Djikstra): \n",
      "│   convert(Array{Int64, 1}, paths[1]) = [1, 3, 9, 5743, 9385, 5281, 5369, 4813, 86]\n",
      "└ @ Main In[11]:36\n",
      "┌ Info: ----- SP (DF): \n",
      "│   convert(Array{Int64, 1}, sp) = [1, 3, 9, 5743, 9385, 5281, 5369, 4813, 86]\n",
      "└ @ Main In[11]:46\n",
      "┌ Info: computing personalized Pagerank for target node source t: \n",
      "│   t = 87\n",
      "└ @ Main In[11]:18\n"
     ]
    },
    {
     "name": "stdout",
     "output_type": "stream",
     "text": [
      "  0.188280 seconds (1.99 k allocations: 261.986 MiB, 4.64% gc time)\n"
     ]
    },
    {
     "name": "stderr",
     "output_type": "stream",
     "text": [
      "┌ Info: computing DF\n",
      "└ @ Main In[11]:23\n",
      "┌ Info: searching shortest path (greedy approach) between vertices 1 and 87\n",
      "└ @ Main In[9]:2\n",
      "┌ Info: path found: \n",
      "│   sp = UInt32[0x00000001, 0x00000003, 0x00000009, 0x0000166f, 0x000024a9, 0x000014a1, 0x000014f9, 0x000012cd, 0x00000058, 0x00000057]\n",
      "└ @ Main In[9]:21\n",
      "┌ Info: ----- SP (Djikstra): \n",
      "│   convert(Array{Int64, 1}, paths[1]) = [1, 3, 9, 5743, 9385, 5281, 5369, 4813, 88, 87]\n",
      "└ @ Main In[11]:36\n",
      "┌ Info: ----- SP (DF): \n",
      "│   convert(Array{Int64, 1}, sp) = [1, 3, 9, 5743, 9385, 5281, 5369, 4813, 88, 87]\n",
      "└ @ Main In[11]:46\n",
      "┌ Info: computing personalized Pagerank for target node source t: \n",
      "│   t = 88\n",
      "└ @ Main In[11]:18\n"
     ]
    },
    {
     "name": "stdout",
     "output_type": "stream",
     "text": [
      "  0.182440 seconds (1.99 k allocations: 261.986 MiB, 4.70% gc time)\n"
     ]
    },
    {
     "name": "stderr",
     "output_type": "stream",
     "text": [
      "┌ Info: computing DF\n",
      "└ @ Main In[11]:23\n",
      "┌ Info: searching shortest path (greedy approach) between vertices 1 and 88\n",
      "└ @ Main In[9]:2\n",
      "┌ Info: path found: \n",
      "│   sp = UInt32[0x00000001, 0x00000003, 0x00000009, 0x0000166f, 0x000024a9, 0x000014a1, 0x000014f9, 0x000012cd, 0x00000058]\n",
      "└ @ Main In[9]:21\n",
      "┌ Info: ----- SP (Djikstra): \n",
      "│   convert(Array{Int64, 1}, paths[1]) = [1, 3, 9, 5743, 9385, 5281, 5369, 4813, 88]\n",
      "└ @ Main In[11]:36\n",
      "┌ Info: ----- SP (DF): \n",
      "│   convert(Array{Int64, 1}, sp) = [1, 3, 9, 5743, 9385, 5281, 5369, 4813, 88]\n",
      "└ @ Main In[11]:46\n",
      "┌ Info: computing personalized Pagerank for target node source t: \n",
      "│   t = 89\n",
      "└ @ Main In[11]:18\n"
     ]
    },
    {
     "name": "stdout",
     "output_type": "stream",
     "text": [
      "  0.191919 seconds (2.10 k allocations: 276.746 MiB, 4.42% gc time)\n"
     ]
    },
    {
     "name": "stderr",
     "output_type": "stream",
     "text": [
      "┌ Info: computing DF\n",
      "└ @ Main In[11]:23\n",
      "┌ Info: searching shortest path (greedy approach) between vertices 1 and 89\n",
      "└ @ Main In[9]:2\n",
      "┌ Info: --- exploration reached a dead end\n",
      "└ @ Main In[9]:12\n",
      "┌ Info: --- explored path: \n",
      "│   sp = UInt32[0x00000001, 0x00000003, 0x00000009, 0x0000166f, 0x000024a9, 0x000014a1, 0x000014f9, 0x00002ccd, 0x000000ab, 0x00000679, 0x000012b9, 0x00000c13, 0x00000c0d, 0x000007a4, 0x00000082, 0x00000d4a, 0x0000064f, 0x000029d5, 0x00003180, 0x000021e8]\n",
      "└ @ Main In[9]:13\n",
      "┌ Info: ----- SP (Djikstra): \n",
      "│   convert(Array{Int64, 1}, paths[1]) = [1, 3, 9, 5743, 9385, 8405, 1499, 171, 1657, 4793, 3091, 11219, 9040, 190, 46, 39, 1798, 89]\n",
      "└ @ Main In[11]:36\n",
      "┌ Info: ----- SP (DF): \n",
      "│   convert(Array{Int64, 1}, sp) = [1, 3, 9, 5743, 9385, 5281, 5369, 11469, 171, 1657, 4793, 3091, 3085, 1956, 130, 3402, 1615, 10709, 12672, 8680]\n",
      "└ @ Main In[11]:46\n",
      "┌ Info: computing personalized Pagerank for target node source t: \n",
      "│   t = 90\n",
      "└ @ Main In[11]:18\n"
     ]
    },
    {
     "name": "stdout",
     "output_type": "stream",
     "text": [
      "  0.178697 seconds (2.02 k allocations: 265.676 MiB, 4.59% gc time)\n"
     ]
    },
    {
     "name": "stderr",
     "output_type": "stream",
     "text": [
      "┌ Info: computing DF\n",
      "└ @ Main In[11]:23\n",
      "┌ Info: searching shortest path (greedy approach) between vertices 1 and 90\n",
      "└ @ Main In[9]:2\n",
      "┌ Info: path found: \n",
      "│   sp = UInt32[0x00000001, 0x00000003, 0x00000009, 0x0000166f, 0x000024a9, 0x000014a1, 0x000014f9, 0x000000d5, 0x0000005a]\n",
      "└ @ Main In[9]:21\n",
      "┌ Info: ----- SP (Djikstra): \n",
      "│   convert(Array{Int64, 1}, paths[1]) = [1, 3, 9, 5743, 9385, 5281, 5369, 213, 90]\n",
      "└ @ Main In[11]:36\n",
      "┌ Info: ----- SP (DF): \n",
      "│   convert(Array{Int64, 1}, sp) = [1, 3, 9, 5743, 9385, 5281, 5369, 213, 90]\n",
      "└ @ Main In[11]:46\n",
      "┌ Info: computing personalized Pagerank for target node source t: \n",
      "│   t = 91\n",
      "└ @ Main In[11]:18\n"
     ]
    },
    {
     "name": "stdout",
     "output_type": "stream",
     "text": [
      "  0.204380 seconds (1.96 k allocations: 258.296 MiB, 4.48% gc time)\n"
     ]
    },
    {
     "name": "stderr",
     "output_type": "stream",
     "text": [
      "┌ Info: computing DF\n",
      "└ @ Main In[11]:23\n",
      "┌ Info: searching shortest path (greedy approach) between vertices 1 and 91\n",
      "└ @ Main In[9]:2\n",
      "┌ Info: path found: \n",
      "│   sp = UInt32[0x00000001, 0x00000003, 0x00000009, 0x0000166f, 0x000024a9, 0x000014a1, 0x000014f9, 0x000012cd, 0x0000005b]\n",
      "└ @ Main In[9]:21\n",
      "┌ Info: ----- SP (Djikstra): \n",
      "│   convert(Array{Int64, 1}, paths[1]) = [1, 3, 9, 5743, 9385, 5281, 5369, 4813, 91]\n",
      "└ @ Main In[11]:36\n",
      "┌ Info: ----- SP (DF): \n",
      "│   convert(Array{Int64, 1}, sp) = [1, 3, 9, 5743, 9385, 5281, 5369, 4813, 91]\n",
      "└ @ Main In[11]:46\n",
      "┌ Info: computing personalized Pagerank for target node source t: \n",
      "│   t = 92\n",
      "└ @ Main In[11]:18\n"
     ]
    },
    {
     "name": "stdout",
     "output_type": "stream",
     "text": [
      "  0.208786 seconds (1.96 k allocations: 258.296 MiB, 4.46% gc time)\n"
     ]
    },
    {
     "name": "stderr",
     "output_type": "stream",
     "text": [
      "┌ Info: computing DF\n",
      "└ @ Main In[11]:23\n",
      "┌ Info: searching shortest path (greedy approach) between vertices 1 and 92\n",
      "└ @ Main In[9]:2\n",
      "┌ Info: path found: \n",
      "│   sp = UInt32[0x00000001, 0x00000003, 0x00000009, 0x0000166f, 0x000024a9, 0x000014a1, 0x000014f9, 0x000012cd, 0x0000005c]\n",
      "└ @ Main In[9]:21\n",
      "┌ Info: ----- SP (Djikstra): \n",
      "│   convert(Array{Int64, 1}, paths[1]) = [1, 3, 9, 5743, 9385, 8405, 1499, 171, 92]\n",
      "└ @ Main In[11]:36\n",
      "┌ Info: ----- SP (DF): \n",
      "│   convert(Array{Int64, 1}, sp) = [1, 3, 9, 5743, 9385, 5281, 5369, 4813, 92]\n",
      "└ @ Main In[11]:46\n",
      "┌ Info: computing personalized Pagerank for target node source t: \n",
      "│   t = 93\n",
      "└ @ Main In[11]:18\n"
     ]
    },
    {
     "name": "stdout",
     "output_type": "stream",
     "text": [
      "  0.201387 seconds (2.05 k allocations: 269.366 MiB, 4.61% gc time)\n"
     ]
    },
    {
     "name": "stderr",
     "output_type": "stream",
     "text": [
      "┌ Info: computing DF\n",
      "└ @ Main In[11]:23\n",
      "┌ Info: searching shortest path (greedy approach) between vertices 1 and 93\n",
      "└ @ Main In[9]:2\n",
      "┌ Info: path found: \n",
      "│   sp = UInt32[0x00000001, 0x00000003, 0x00000009, 0x0000166f, 0x000024a9, 0x000014a1, 0x000014f9, 0x000012cd, 0x0000005d]\n",
      "└ @ Main In[9]:21\n",
      "┌ Info: ----- SP (Djikstra): \n",
      "│   convert(Array{Int64, 1}, paths[1]) = [1, 3, 9, 5743, 9385, 5281, 5369, 4813, 93]\n",
      "└ @ Main In[11]:36\n",
      "┌ Info: ----- SP (DF): \n",
      "│   convert(Array{Int64, 1}, sp) = [1, 3, 9, 5743, 9385, 5281, 5369, 4813, 93]\n",
      "└ @ Main In[11]:46\n",
      "┌ Info: computing personalized Pagerank for target node source t: \n",
      "│   t = 94\n",
      "└ @ Main In[11]:18\n"
     ]
    },
    {
     "name": "stdout",
     "output_type": "stream",
     "text": [
      "  0.185031 seconds (2.05 k allocations: 269.366 MiB, 4.58% gc time)\n"
     ]
    },
    {
     "name": "stderr",
     "output_type": "stream",
     "text": [
      "┌ Info: computing DF\n",
      "└ @ Main In[11]:23\n",
      "┌ Info: searching shortest path (greedy approach) between vertices 1 and 94\n",
      "└ @ Main In[9]:2\n",
      "┌ Info: --- exploration reached a dead end\n",
      "└ @ Main In[9]:12\n",
      "┌ Info: --- explored path: \n",
      "│   sp = UInt32[0x00000001, 0x00000003, 0x00000009, 0x0000166f, 0x000024a9, 0x000014a1, 0x000014f9, 0x00002ccd, 0x000000ab, 0x00000679, 0x000012b9, 0x00000c13, 0x00000c0d, 0x000007a4, 0x00000082, 0x00000d4a, 0x0000064f, 0x000029d5, 0x00003180, 0x000021e8]\n",
      "└ @ Main In[9]:13\n",
      "┌ Info: ----- SP (Djikstra): \n",
      "│   convert(Array{Int64, 1}, paths[1]) = [1, 3, 9, 5743, 9385, 8405, 1499, 171, 1657, 4793, 3091, 11219, 9040, 190, 46, 94]\n",
      "└ @ Main In[11]:36\n",
      "┌ Info: ----- SP (DF): \n",
      "│   convert(Array{Int64, 1}, sp) = [1, 3, 9, 5743, 9385, 5281, 5369, 11469, 171, 1657, 4793, 3091, 3085, 1956, 130, 3402, 1615, 10709, 12672, 8680]\n",
      "└ @ Main In[11]:46\n",
      "┌ Info: computing personalized Pagerank for target node source t: \n",
      "│   t = 95\n",
      "└ @ Main In[11]:18\n"
     ]
    },
    {
     "name": "stdout",
     "output_type": "stream",
     "text": [
      "  0.193205 seconds (2.05 k allocations: 269.366 MiB, 4.64% gc time)\n"
     ]
    },
    {
     "name": "stderr",
     "output_type": "stream",
     "text": [
      "┌ Info: computing DF\n",
      "└ @ Main In[11]:23\n",
      "┌ Info: searching shortest path (greedy approach) between vertices 1 and 95\n",
      "└ @ Main In[9]:2\n",
      "┌ Info: --- exploration reached a dead end\n",
      "└ @ Main In[9]:12\n",
      "┌ Info: --- explored path: \n",
      "│   sp = UInt32[0x00000001, 0x00000003, 0x00000009, 0x0000166f, 0x000024a9, 0x000014a1, 0x000014f9, 0x00002ccd, 0x000000ab, 0x00000679, 0x000012b9, 0x00000c13, 0x00000c0d, 0x000007a4, 0x00000082, 0x00000d4a, 0x0000064f, 0x000029d5, 0x00003180, 0x000021e8]\n",
      "└ @ Main In[9]:13\n",
      "┌ Info: ----- SP (Djikstra): \n",
      "│   convert(Array{Int64, 1}, paths[1]) = [1, 3, 9, 5743, 9385, 8405, 1499, 171, 1657, 4793, 3091, 11219, 12661, 1514, 18, 95]\n",
      "└ @ Main In[11]:36\n",
      "┌ Info: ----- SP (DF): \n",
      "│   convert(Array{Int64, 1}, sp) = [1, 3, 9, 5743, 9385, 5281, 5369, 11469, 171, 1657, 4793, 3091, 3085, 1956, 130, 3402, 1615, 10709, 12672, 8680]\n",
      "└ @ Main In[11]:46\n",
      "┌ Info: computing personalized Pagerank for target node source t: \n",
      "│   t = 96\n",
      "└ @ Main In[11]:18\n"
     ]
    },
    {
     "name": "stdout",
     "output_type": "stream",
     "text": [
      "  0.188907 seconds (1.99 k allocations: 261.986 MiB, 4.74% gc time)\n"
     ]
    },
    {
     "name": "stderr",
     "output_type": "stream",
     "text": [
      "┌ Info: computing DF\n",
      "└ @ Main In[11]:23\n",
      "┌ Info: searching shortest path (greedy approach) between vertices 1 and 96\n",
      "└ @ Main In[9]:2\n",
      "┌ Info: --- exploration reached a dead end\n",
      "└ @ Main In[9]:12\n",
      "┌ Info: --- explored path: \n",
      "│   sp = UInt32[0x00000001, 0x00000003, 0x00000009, 0x0000166f, 0x000024a9, 0x000014a1, 0x000014f9, 0x00002ccd, 0x000000ab, 0x00000679, 0x000012b9, 0x00000c13, 0x00000c0d, 0x000007a4, 0x00000082, 0x00000d4a, 0x0000064f, 0x000029d5, 0x00003180, 0x000021e8]\n",
      "└ @ Main In[9]:13\n",
      "┌ Info: ----- SP (Djikstra): \n",
      "│   convert(Array{Int64, 1}, paths[1]) = [1, 3, 9, 5743, 9385, 8405, 1499, 171, 1657, 4793, 3091, 11219, 9040, 190, 1476, 96]\n",
      "└ @ Main In[11]:36\n",
      "┌ Info: ----- SP (DF): \n",
      "│   convert(Array{Int64, 1}, sp) = [1, 3, 9, 5743, 9385, 5281, 5369, 11469, 171, 1657, 4793, 3091, 3085, 1956, 130, 3402, 1615, 10709, 12672, 8680]\n",
      "└ @ Main In[11]:46\n",
      "┌ Info: computing personalized Pagerank for target node source t: \n",
      "│   t = 97\n",
      "└ @ Main In[11]:18\n"
     ]
    },
    {
     "name": "stdout",
     "output_type": "stream",
     "text": [
      "  0.205776 seconds (2.07 k allocations: 273.056 MiB, 4.32% gc time)\n"
     ]
    },
    {
     "name": "stderr",
     "output_type": "stream",
     "text": [
      "┌ Info: computing DF\n",
      "└ @ Main In[11]:23\n",
      "┌ Info: searching shortest path (greedy approach) between vertices 1 and 97\n",
      "└ @ Main In[9]:2\n",
      "┌ Info: --- exploration reached a dead end\n",
      "└ @ Main In[9]:12\n",
      "┌ Info: --- explored path: \n",
      "│   sp = UInt32[0x00000001, 0x00000003, 0x00000009, 0x0000166f, 0x000024a9, 0x000014a1, 0x000014f9, 0x00002ccd, 0x000000ab, 0x00000679, 0x000012b9, 0x00000c13, 0x00000c0d, 0x000007a4, 0x00000082, 0x00000d4a, 0x0000064f, 0x000029d5, 0x00003180, 0x000021e8]\n",
      "└ @ Main In[9]:13\n",
      "┌ Info: ----- SP (Djikstra): \n",
      "│   convert(Array{Int64, 1}, paths[1]) = [1, 3, 9, 5743, 9385, 8405, 1499, 171, 1657, 4793, 3091, 11219, 9040, 190, 46, 39, 97]\n",
      "└ @ Main In[11]:36\n",
      "┌ Info: ----- SP (DF): \n",
      "│   convert(Array{Int64, 1}, sp) = [1, 3, 9, 5743, 9385, 5281, 5369, 11469, 171, 1657, 4793, 3091, 3085, 1956, 130, 3402, 1615, 10709, 12672, 8680]\n",
      "└ @ Main In[11]:46\n",
      "┌ Info: computing personalized Pagerank for target node source t: \n",
      "│   t = 98\n",
      "└ @ Main In[11]:18\n"
     ]
    },
    {
     "name": "stdout",
     "output_type": "stream",
     "text": [
      "  0.188485 seconds (2.07 k allocations: 273.056 MiB, 5.00% gc time)\n"
     ]
    },
    {
     "name": "stderr",
     "output_type": "stream",
     "text": [
      "┌ Info: computing DF\n",
      "└ @ Main In[11]:23\n",
      "┌ Info: searching shortest path (greedy approach) between vertices 1 and 98\n",
      "└ @ Main In[9]:2\n",
      "┌ Info: --- exploration reached a dead end\n",
      "└ @ Main In[9]:12\n",
      "┌ Info: --- explored path: \n",
      "│   sp = UInt32[0x00000001, 0x00000003, 0x00000009, 0x0000166f, 0x000024a9, 0x000014a1, 0x000014f9, 0x00002ccd, 0x000000ab, 0x00000679, 0x000012b9, 0x00000c13, 0x00000c0d, 0x000007a4, 0x00000082, 0x00000d4a, 0x0000064f, 0x000029d5, 0x00003180, 0x000021e8]\n",
      "└ @ Main In[9]:13\n",
      "┌ Info: ----- SP (Djikstra): \n",
      "│   convert(Array{Int64, 1}, paths[1]) = [1, 3, 9, 5743, 9385, 8405, 1499, 171, 1657, 4793, 3091, 11219, 12661, 1514, 18, 40, 98]\n",
      "└ @ Main In[11]:36\n",
      "┌ Info: ----- SP (DF): \n",
      "│   convert(Array{Int64, 1}, sp) = [1, 3, 9, 5743, 9385, 5281, 5369, 11469, 171, 1657, 4793, 3091, 3085, 1956, 130, 3402, 1615, 10709, 12672, 8680]\n",
      "└ @ Main In[11]:46\n",
      "┌ Info: computing personalized Pagerank for target node source t: \n",
      "│   t = 99\n",
      "└ @ Main In[11]:18\n"
     ]
    },
    {
     "name": "stdout",
     "output_type": "stream",
     "text": [
      "  0.167846 seconds (1.85 k allocations: 243.536 MiB, 4.60% gc time)\n"
     ]
    },
    {
     "name": "stderr",
     "output_type": "stream",
     "text": [
      "┌ Info: computing DF\n",
      "└ @ Main In[11]:23\n",
      "┌ Info: searching shortest path (greedy approach) between vertices 1 and 99\n",
      "└ @ Main In[9]:2\n",
      "┌ Info: path found: \n",
      "│   sp = UInt32[0x00000001, 0x00000003, 0x00000009, 0x0000166f, 0x00002055, 0x00000941, 0x000009c1, 0x00002c24, 0x000012bf, 0x00000085, 0x00000712, 0x00000063]\n",
      "└ @ Main In[9]:21\n",
      "┌ Info: ----- SP (Djikstra): \n",
      "│   convert(Array{Int64, 1}, paths[1]) = [1, 4, 7, 215, 1359, 429, 99]\n",
      "└ @ Main In[11]:36\n",
      "┌ Info: ----- SP (DF): \n",
      "│   convert(Array{Int64, 1}, sp) = [1, 3, 9, 5743, 8277, 2369, 2497, 11300, 4799, 133, 1810, 99]\n",
      "└ @ Main In[11]:46\n",
      "┌ Info: computing personalized Pagerank for target node source t: \n",
      "│   t = 100\n",
      "└ @ Main In[11]:18\n"
     ]
    },
    {
     "name": "stdout",
     "output_type": "stream",
     "text": [
      "  0.172762 seconds (1.93 k allocations: 254.606 MiB, 4.53% gc time)\n"
     ]
    },
    {
     "name": "stderr",
     "output_type": "stream",
     "text": [
      "┌ Info: computing DF\n",
      "└ @ Main In[11]:23\n",
      "┌ Info: searching shortest path (greedy approach) between vertices 1 and 100\n",
      "└ @ Main In[9]:2\n",
      "┌ Info: path found: \n",
      "│   sp = UInt32[0x00000001, 0x00000004, 0x00000007, 0x000000d7, 0x0000054f, 0x00000064]\n",
      "└ @ Main In[9]:21\n",
      "┌ Info: ----- SP (Djikstra): \n",
      "│   convert(Array{Int64, 1}, paths[1]) = [1, 4, 7, 215, 1359, 100]\n",
      "└ @ Main In[11]:36\n",
      "┌ Info: ----- SP (DF): \n",
      "│   convert(Array{Int64, 1}, sp) = [1, 4, 7, 215, 1359, 100]\n",
      "└ @ Main In[11]:46\n",
      "┌ Info: % same SP: \n",
      "│   sc / tc = 0.37373737373737376\n",
      "└ @ Main In[11]:57\n",
      "┌ Info: % same length: \n",
      "│   sc2 / tc = 0.3939393939393939\n",
      "└ @ Main In[11]:58\n"
     ]
    }
   ],
   "source": [
    "# max paths length\n",
    "#ml = floor(Int,log(length(vertices(core))))\n",
    "ml = 20\n",
    "\n",
    "sp = UInt32[]\n",
    "\n",
    "# total of node pairs analyzed\n",
    "tc = 0\n",
    "# Djikstra path == DF path \n",
    "sc = 0\n",
    "# Djikstra path length == DF path length\n",
    "sc2 = 0\n",
    "\n",
    "for t in UInt32(2):UInt32(100)\n",
    "\t# get paths using Djikstra\n",
    "\tpaths = enumerate_paths(vertices(core2), r.parent_indices, Int64[t])\n",
    "\n",
    "    @info(\"computing personalized Pagerank for target node source t: \", t)\n",
    "\tppr_t = zeros(Float64,n)\n",
    "\tppr_t[t] = 1.\n",
    "\t@time pr_t = PR(P_rcore, ppr=ppr_t, init_pr=pr_rcore, epsilon=EPSILON)\n",
    "\n",
    "\t@info(\"computing DF\")\n",
    "\tdf = pr_s .* pr_t\n",
    "\n",
    "\tif BOOST\n",
    "\t\tdf = df ./ pr_boost\n",
    "\tend\n",
    "\n",
    "\tif PROBA\n",
    "\t\tsps = get_sp_proba(s, t, core, df, ml, convert(Int64,1e3))\n",
    "\telse\n",
    "\t\tsp = get_sp_greedy(s, t, core, df, ml)\n",
    "\tend\n",
    "\t\n",
    "\t@info(\"----- SP (Djikstra): \", convert(Array{Int64,1}, paths[1]))\n",
    "\n",
    "\tif PROBA\n",
    "\t\tif length(sps) > 0\n",
    "\t\t\tmi = findmin(Int64[length(a) for a in sps])[2]\n",
    "\t\t\tsp = sps[mi]\n",
    "\t\telse\n",
    "\t\t\tsp = UInt32[]\n",
    "\t\tend\n",
    "\tend\n",
    "\t@info(\"----- SP (DF): \", convert(Array{Int64,1}, sp))\n",
    "\n",
    "\tif paths[1] == sp\n",
    "\t\tsc += 1\n",
    "\tend\n",
    "\tif length(paths[1]) == length(sp)\n",
    "\t\tsc2 += 1\n",
    "\tend\n",
    "\ttc += 1\n",
    "end\n",
    "\n",
    "@info(\"% same SP: \", sc/tc)\n",
    "@info(\"% same length: \", sc2/tc)\n"
   ]
  },
  {
   "cell_type": "code",
   "execution_count": null,
   "metadata": {},
   "outputs": [],
   "source": []
  }
 ],
 "metadata": {
  "kernelspec": {
   "display_name": "Julia 1.3.0",
   "language": "julia",
   "name": "julia-1.3"
  },
  "language_info": {
   "file_extension": ".jl",
   "mimetype": "application/julia",
   "name": "julia",
   "version": "1.3.0"
  }
 },
 "nbformat": 4,
 "nbformat_minor": 2
}
