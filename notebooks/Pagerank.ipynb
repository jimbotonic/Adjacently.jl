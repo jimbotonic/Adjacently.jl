{
 "cells": [
  {
   "cell_type": "markdown",
   "metadata": {},
   "source": [
    "### Include Adjacently modules"
   ]
  },
  {
   "cell_type": "code",
   "execution_count": 1,
   "metadata": {},
   "outputs": [
    {
     "data": {
      "text/plain": [
       "PR"
      ]
     },
     "execution_count": 1,
     "metadata": {},
     "output_type": "execute_result"
    }
   ],
   "source": [
    "include(\"../src/graph.jl\")\n",
    "include(\"../src/io.jl\")\n",
    "include(\"../src/pr.jl\")"
   ]
  },
  {
   "cell_type": "markdown",
   "metadata": {},
   "source": [
    "### Load Arxiv HEP-PH Directed Graph\n",
    "\n",
    "See [Arxiv HEP-PH dataset](https://snap.stanford.edu/data/cit-HepPh.html)"
   ]
  },
  {
   "cell_type": "code",
   "execution_count": 2,
   "metadata": {},
   "outputs": [
    {
     "name": "stderr",
     "output_type": "stream",
     "text": [
      "\u001b[36m\u001b[1m[ \u001b[22m\u001b[39m\u001b[36m\u001b[1mInfo: \u001b[22m\u001b[39mloading graph\n"
     ]
    },
    {
     "data": {
      "text/plain": [
       "0x00000064"
      ]
     },
     "execution_count": 2,
     "metadata": {},
     "output_type": "execute_result"
    }
   ],
   "source": [
    "@info(\"loading graph\")\n",
    "\n",
    "core = SimpleDiGraph(UInt32)\n",
    "\n",
    "load_mgs3_graph(core, \"../datasets/Arxiv_HEP-PH/Arxiv_HEP-PH_core.mgs\")\n",
    "#load_mgs4_graph(core, \"../datasets/Arxiv_HEP-PH/Arxiv_HEP-PH_core.mgz\")\n",
    "\n",
    "# define constants\n",
    "n = nv(core)\n",
    "damping = .85\n",
    "epsilon = 1e-8\n",
    "\n",
    "# source and target node to be used in the graph\n",
    "s = convert(UInt32,1)\n",
    "t = convert(UInt32,100)"
   ]
  },
  {
   "cell_type": "markdown",
   "metadata": {},
   "source": [
    "### Get \"Reverse\" Core"
   ]
  },
  {
   "cell_type": "code",
   "execution_count": 3,
   "metadata": {},
   "outputs": [
    {
     "name": "stderr",
     "output_type": "stream",
     "text": [
      "\u001b[36m\u001b[1m[ \u001b[22m\u001b[39m\u001b[36m\u001b[1mInfo: \u001b[22m\u001b[39mgetting rcore\n"
     ]
    },
    {
     "data": {
      "text/plain": [
       "{12711, 139981} directed simple UInt32 graph"
      ]
     },
     "execution_count": 3,
     "metadata": {},
     "output_type": "execute_result"
    }
   ],
   "source": [
    "@info(\"getting rcore\")\n",
    "rcore = get_reverse_graph(core)"
   ]
  },
  {
   "cell_type": "markdown",
   "metadata": {},
   "source": [
    "### Compute Pagerank Vectors for Core and RCore"
   ]
  },
  {
   "cell_type": "code",
   "execution_count": 4,
   "metadata": {},
   "outputs": [
    {
     "name": "stderr",
     "output_type": "stream",
     "text": [
      "\u001b[36m\u001b[1m[ \u001b[22m\u001b[39m\u001b[36m\u001b[1mInfo: \u001b[22m\u001b[39mcomputing Pagerank of core and rcore\n",
      "\u001b[36m\u001b[1m[ \u001b[22m\u001b[39m\u001b[36m\u001b[1mInfo: \u001b[22m\u001b[39mcomputing Pagerank (size of graph 12711)\n"
     ]
    },
    {
     "name": "stdout",
     "output_type": "stream",
     "text": [
      "  0.221898 seconds (276.41 k allocations: 20.071 MiB, 66.54% compilation time)\n"
     ]
    },
    {
     "data": {
      "text/plain": [
       "12711-element Vector{Float64}:\n",
       " 1.2180426083332923e-5\n",
       " 5.576958680721473e-5\n",
       " 0.0001523018183933433\n",
       " 1.881325654228591e-5\n",
       " 2.6916039325516338e-5\n",
       " 3.021143080036028e-5\n",
       " 0.002712795282615076\n",
       " 1.7131225142005417e-5\n",
       " 0.002050165700823033\n",
       " 4.4210978352731306e-5\n",
       " 0.0014305859177234886\n",
       " 0.0008125784974850691\n",
       " 0.00014323071476047894\n",
       " ⋮\n",
       " 2.41192412710315e-5\n",
       " 1.863458748135917e-5\n",
       " 1.2181834342831553e-5\n",
       " 1.29865309587917e-5\n",
       " 1.4277488989680935e-5\n",
       " 1.3850475578385906e-5\n",
       " 1.2342431035639167e-5\n",
       " 1.4356399707917643e-5\n",
       " 1.211041703709851e-5\n",
       " 1.3283364288518863e-5\n",
       " 1.3274575973293074e-5\n",
       " 1.598313331166969e-5"
      ]
     },
     "execution_count": 4,
     "metadata": {},
     "output_type": "execute_result"
    }
   ],
   "source": [
    "@info(\"computing Pagerank of core and rcore\")\n",
    "\n",
    "@time pr_core = PR(core, rcore, epsilon=epsilon)\n",
    "#@time pr_rcore = PR(rcore, core, epsilon=epsilon)"
   ]
  },
  {
   "cell_type": "markdown",
   "metadata": {},
   "source": [
    "### Compute Personalized Pagerank Vectors (for nodes 1 and 100)"
   ]
  },
  {
   "cell_type": "code",
   "execution_count": 5,
   "metadata": {},
   "outputs": [
    {
     "name": "stderr",
     "output_type": "stream",
     "text": [
      "\u001b[36m\u001b[1m[ \u001b[22m\u001b[39m\u001b[36m\u001b[1mInfo: \u001b[22m\u001b[39mcomputing personalized Pageranks for nodes 1 and 100\n",
      "\u001b[36m\u001b[1m[ \u001b[22m\u001b[39m\u001b[36m\u001b[1mInfo: \u001b[22m\u001b[39mcomputing personalized Pagerank (size of graph 12711, source 1)\n"
     ]
    },
    {
     "name": "stdout",
     "output_type": "stream",
     "text": [
      "  0.208636 seconds (199.49 k allocations: 16.261 MiB, 60.49% compilation time)\n"
     ]
    },
    {
     "data": {
      "text/plain": [
       "12711-element Vector{Float64}:\n",
       " 0.15000003731617217\n",
       " 0.03886675940776586\n",
       " 0.050230378864137455\n",
       " 0.025500006346721265\n",
       " 0.029835053246013862\n",
       " 0.025500045509412397\n",
       " 0.017128009924146623\n",
       " 0.007225001798238081\n",
       " 0.04550645808618301\n",
       " 0.013936024708081415\n",
       " 0.01852803880126476\n",
       " 0.011869258242420914\n",
       " 0.01101338748178447\n",
       " ⋮\n",
       " 9.463316603290713e-23\n",
       " 2.681298118225403e-23\n",
       " 2.0685033052419324e-22\n",
       " 6.608469564754296e-24\n",
       " 7.75077605921725e-21\n",
       " 5.388743109387597e-10\n",
       " 4.420936212067362e-8\n",
       " 6.450921883670794e-19\n",
       " 3.603377132829556e-24\n",
       " 2.190412794090886e-23\n",
       " 2.3470375731396953e-24\n",
       " 8.29226903090909e-8"
      ]
     },
     "execution_count": 5,
     "metadata": {},
     "output_type": "execute_result"
    }
   ],
   "source": [
    "@info(\"computing personalized Pageranks for nodes 1 and 100\")\n",
    "@time pr_s = PPR(s, core, rcore, epsilon=epsilon)\n",
    "#@time pr_t = PPR(t, rcore, core, epsilon=epsilon)"
   ]
  },
  {
   "cell_type": "code",
   "execution_count": 6,
   "metadata": {
    "scrolled": true
   },
   "outputs": [
    {
     "name": "stderr",
     "output_type": "stream",
     "text": [
      "\u001b[36m\u001b[1m[ \u001b[22m\u001b[39m\u001b[36m\u001b[1mInfo: \u001b[22m\u001b[39mcompute Pagerank (Monte Carlo)\n",
      "\u001b[36m\u001b[1m[ \u001b[22m\u001b[39m\u001b[36m\u001b[1mInfo: \u001b[22m\u001b[39mcomputing Monte-Carlo Pagerank (size of graph 12711)\n"
     ]
    },
    {
     "name": "stdout",
     "output_type": "stream",
     "text": [
      " 26.435971 seconds (5.83 M allocations: 180.772 GiB, 13.50% gc time, 1.35% compilation time)\n"
     ]
    },
    {
     "name": "stderr",
     "output_type": "stream",
     "text": [
      "\u001b[36m\u001b[1m┌ \u001b[22m\u001b[39m\u001b[36m\u001b[1mInfo: \u001b[22m\u001b[39mpr_core <-> pr_mc: \n",
      "\u001b[36m\u001b[1m└ \u001b[22m\u001b[39m  chebyshev(pr_core, pr_mc) = 0.00011162320816283933\n"
     ]
    }
   ],
   "source": [
    "# compute Monte Carlo PR\n",
    "niter = 100\n",
    "@info(\"compute Pagerank (Monte Carlo)\")\n",
    "@time pr_mc = PR(core, niter)\n",
    "\n",
    "@info(\"pr_core <-> pr_mc: \", chebyshev(pr_core, pr_mc))"
   ]
  },
  {
   "cell_type": "code",
   "execution_count": 7,
   "metadata": {},
   "outputs": [
    {
     "name": "stderr",
     "output_type": "stream",
     "text": [
      "\u001b[36m\u001b[1m[ \u001b[22m\u001b[39m\u001b[36m\u001b[1mInfo: \u001b[22m\u001b[39mgetting P matrix\n"
     ]
    },
    {
     "name": "stdout",
     "output_type": "stream",
     "text": [
      "  1.345065 seconds (2.54 M allocations: 148.511 MiB, 3.72% gc time, 99.17% compilation time)\n"
     ]
    },
    {
     "data": {
      "text/plain": [
       "12711×12711 SparseMatrixCSC{Float64, UInt32} with 139981 stored entries:\n",
       "⣿⣾⡿⣷⣿⣿⣿⣿⣿⣷⣾⣷⣿⣶⣾⣿⡮⣽⣿⣿⣿⣿⣷⣷⣿⣷⣯⣷⢶⣾⣬⣽⣾⡧⢾⣾⣛⣌⣇⣂\n",
       "⣿⣿⣿⣿⣿⣏⣯⣿⡭⣿⣿⣿⣯⣯⣿⣻⣇⣸⣿⣿⣯⣻⣟⣻⣏⣿⢮⣯⡇⣼⢎⡫⢭⢺⡥⠩⠫⠉⣔⣀\n",
       "⣿⣿⣿⣿⣿⣿⣿⣿⣻⣿⣿⣿⣷⣿⣿⣿⣿⣿⣿⣿⣿⣾⣿⣿⣿⣿⣿⣕⣿⣿⣶⣿⣦⡿⣿⢻⡿⣪⣷⠤\n",
       "⣽⣿⣇⣭⣿⣿⣿⣯⣿⣿⣿⡿⣿⡿⢻⣿⣿⣿⣽⣽⣿⣾⣿⡟⢿⣯⣵⣯⣧⢿⣫⣾⣽⣴⣧⣬⡅⣅⢤⢀\n",
       "⢿⣿⣧⣭⣷⣿⣿⣿⣿⣿⣿⣶⣿⣿⣽⣿⣿⢿⣿⣯⣽⣯⣯⡫⣼⢿⠿⢧⣿⣫⢜⡿⣛⣚⡏⡇⡖⢫⠞⠆\n",
       "⣿⣿⣿⣿⣿⣿⣿⣿⣿⣿⣿⣿⣿⣿⣿⣿⣟⣿⣿⣿⣿⣿⣾⣝⣿⣿⣧⣯⡗⣻⣓⣷⣸⣾⣷⣾⣭⣠⣵⠵\n",
       "⣻⣿⣿⣿⣿⣿⣿⣿⣿⣿⣿⣿⣿⣿⣿⣿⣿⣿⣿⣷⣿⣿⣿⣿⣿⣿⣿⡟⣟⣧⣺⣿⣿⣿⣷⡧⣾⢼⣶⠴\n",
       "⣿⣿⣿⣿⣿⣿⣿⣿⣷⣿⣿⣿⣿⣿⣿⣾⣷⣿⣿⣿⣿⣿⣿⣟⣿⣿⣿⣿⣿⣿⡯⣽⢾⣿⣿⢭⣷⢮⣗⠏\n",
       "⣿⣿⣏⣻⣿⣿⣿⣿⣿⣿⣿⣿⣿⣿⣝⣿⣿⣿⣻⣻⣿⣿⣯⣻⣿⣿⣿⣿⣯⣿⣫⣻⡿⣷⣿⣿⣻⣷⣲⡾\n",
       "⣿⣿⣿⣿⣿⣿⣿⣿⣿⣿⣿⣿⣿⣿⣿⣿⣿⣿⣿⣿⣿⣿⣿⣿⣿⣿⣿⣿⣧⣿⣿⣟⣿⣽⣿⣻⡿⡻⣮⠅\n",
       "⣿⣿⣿⣿⣿⣿⣿⣿⣿⣿⣿⣿⣿⣿⣿⣿⣿⣿⣿⣿⣿⣿⣿⣷⣿⣿⣿⣿⣿⢿⣿⣿⣿⣿⣿⣾⣿⣿⣿⠽\n",
       "⣿⣿⣿⣿⣿⣿⣿⣿⣿⣿⣿⣿⣿⣿⣿⣿⣿⣿⣿⣿⣿⣿⣿⣿⣿⣿⣿⣿⣿⣿⣿⣿⣽⣽⣿⣯⣿⣽⣽⡮\n",
       "⣿⣿⣿⣿⣿⣿⣿⣿⣿⣿⣿⣿⣿⣿⣿⣿⣿⣿⣿⣿⣿⣿⣿⣿⣿⣿⣿⣿⣿⣿⡟⣽⣿⣿⣯⣽⣿⣿⣿⡤\n",
       "⣿⣿⣿⣿⣿⣿⣿⣿⣿⣿⣿⣿⣿⣿⣿⣿⣿⣿⣿⣿⣿⣿⣿⣿⣿⣿⣿⣿⡯⣿⣟⢿⣷⣷⣿⣿⣷⣟⡲⣟\n",
       "⣿⣿⣿⣿⣿⣿⣿⣿⣿⣿⣿⣿⣿⣿⣿⣿⣿⣿⣿⣿⣿⣿⣿⣿⣿⣿⣿⣿⣿⣿⣿⣿⣿⣿⣿⣿⣿⣿⣿⡿\n",
       "⣿⣿⣿⣿⣿⣿⣿⣿⣿⣿⣿⣿⣿⣿⣿⣿⣿⣿⣿⣿⣿⣿⣿⣿⣿⣿⣿⣿⣿⣿⣿⣿⣿⣿⣾⣿⣿⣿⣿⢗\n",
       "⣿⣿⣿⣿⣿⣿⣿⣿⣿⣿⣿⣿⣿⣿⣿⣿⣿⣿⣿⣿⣿⣿⣿⣿⣿⣿⣿⣿⣿⣿⣿⣟⣿⣿⣿⣿⣻⣯⣿⣿\n",
       "⣿⣿⣿⣿⣿⣿⣿⣿⣿⣿⣿⣿⣿⣿⣿⣿⣿⣿⣿⣿⣿⣿⣿⣿⣿⣿⣿⣿⣿⣿⣿⣿⣿⣿⣿⣿⣿⣿⣿⣧\n",
       "⣿⣿⣿⣿⣿⣿⣿⣿⣿⣿⣿⣿⣿⣿⣿⣿⣿⣿⣿⣿⣿⣿⣿⣿⣿⣿⣿⣿⣿⣿⣿⣿⣿⣿⣿⣿⣿⣿⣿⣿\n",
       "⣿⣿⣿⣿⣿⣿⣿⣿⣿⣿⣿⣿⣿⢿⣿⣿⣿⣿⣿⣿⣿⣿⡿⣿⣿⡿⣿⣿⣿⣿⣿⣿⢿⢿⢻⣿⣽⣿⣿⣿"
      ]
     },
     "execution_count": 7,
     "metadata": {},
     "output_type": "execute_result"
    }
   ],
   "source": [
    "# P = D^-1 * A matrix\n",
    "matrix computation\n",
    "@info(\"getting P matrix\")\n",
    "@time P = get_sparse_P_matrix(core)"
   ]
  },
  {
   "cell_type": "code",
   "execution_count": 8,
   "metadata": {},
   "outputs": [
    {
     "name": "stderr",
     "output_type": "stream",
     "text": [
      "\u001b[36m\u001b[1m[ \u001b[22m\u001b[39m\u001b[36m\u001b[1mInfo: \u001b[22m\u001b[39mcompute Pagerank (power iteration)\n"
     ]
    },
    {
     "name": "stdout",
     "output_type": "stream",
     "text": [
      "  0.379660 seconds (615.84 k allocations: 57.341 MiB, 5.48% gc time, 95.42% compilation time)\n",
      "  0.065851 seconds (12.13 k allocations: 29.406 MiB, 21.92% gc time, 38.52% compilation time)\n"
     ]
    },
    {
     "name": "stderr",
     "output_type": "stream",
     "text": [
      "\u001b[36m\u001b[1m[ \u001b[22m\u001b[39m\u001b[36m\u001b[1mInfo: \u001b[22m\u001b[39mcomputing personalized Pageranks for node 1 (power iteration)\n",
      "\u001b[36m\u001b[1m┌ \u001b[22m\u001b[39m\u001b[36m\u001b[1mInfo: \u001b[22m\u001b[39mpr_core <-> pr_pi: \n",
      "\u001b[36m\u001b[1m└ \u001b[22m\u001b[39m  chebyshev(pr_core, pr_pi) = 2.7755575615628914e-17\n",
      "\u001b[36m\u001b[1m┌ \u001b[22m\u001b[39m\u001b[36m\u001b[1mInfo: \u001b[22m\u001b[39mpr_s <-> pr_pi_s: \n",
      "\u001b[36m\u001b[1m└ \u001b[22m\u001b[39m  chebyshev(pr_s, pr_pi_s) = 5.3649326516025386e-8\n"
     ]
    }
   ],
   "source": [
    "@info(\"compute Pagerank (power iteration)\")\n",
    "ppr = zeros(Float64,n)\n",
    "ppr[s] = 1.\n",
    "@time pr_pi = PR(P, epsilon=epsilon)\n",
    "\n",
    "@info(\"computing personalized Pageranks for node 1 (power iteration)\")\n",
    "@time pr_pi_s = PR(P, ppr=ppr, epsilon=epsilon)\n",
    "\n",
    "@info(\"pr_core <-> pr_pi: \", chebyshev(pr_core, pr_pi))\n",
    "@info(\"pr_s <-> pr_pi_s: \", chebyshev(pr_s, pr_pi_s))"
   ]
  },
  {
   "cell_type": "code",
   "execution_count": 9,
   "metadata": {},
   "outputs": [
    {
     "name": "stderr",
     "output_type": "stream",
     "text": [
      "\u001b[36m\u001b[1m[ \u001b[22m\u001b[39m\u001b[36m\u001b[1mInfo: \u001b[22m\u001b[39mcompute non-linear Pagerank (power iteration)\n"
     ]
    },
    {
     "name": "stdout",
     "output_type": "stream",
     "text": [
      "  0.279461 seconds (732.08 k allocations: 49.556 MiB, 6.11% gc time, 97.13% compilation time)\n"
     ]
    },
    {
     "name": "stderr",
     "output_type": "stream",
     "text": [
      "\u001b[36m\u001b[1m┌ \u001b[22m\u001b[39m\u001b[36m\u001b[1mInfo: \u001b[22m\u001b[39mpr_pi <-> pr_pi_nl: \n",
      "\u001b[36m\u001b[1m└ \u001b[22m\u001b[39m  chebyshev(pr_pi, pr_pi_nl) = 0.06966279339435628\n"
     ]
    }
   ],
   "source": [
    "@info(\"compute non-linear Pagerank (power iteration)\")\n",
    "ppr = zeros(Float64, n)\n",
    "ppr[s] = 1.\n",
    "# change damping\n",
    "damping = 0.95\n",
    "max_iter = 15\n",
    "\n",
    "@time pr_pi_nl = PR(P, tanh, damping=damping, epsilon=epsilon, max_iter=max_iter)\n",
    "\n",
    "@info(\"pr_pi <-> pr_pi_nl: \", chebyshev(pr_pi, pr_pi_nl))\n"
   ]
  },
  {
   "cell_type": "code",
   "execution_count": 13,
   "metadata": {},
   "outputs": [],
   "source": [
    "using GraphPlot\n",
    "\n",
    "layout=(args...)->spring_layout(args...; C=20)\n",
    "gplot(core, layout=layout)"
   ]
  }
 ],
 "metadata": {
  "kernelspec": {
   "display_name": "Julia 1.7.3",
   "language": "julia",
   "name": "julia-1.7"
  },
  "language_info": {
   "file_extension": ".jl",
   "mimetype": "application/julia",
   "name": "julia",
   "version": "1.7.3"
  }
 },
 "nbformat": 4,
 "nbformat_minor": 2
}
