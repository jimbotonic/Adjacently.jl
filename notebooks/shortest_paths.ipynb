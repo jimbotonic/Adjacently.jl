{
 "cells": [
  {
   "cell_type": "code",
   "execution_count": 5,
   "metadata": {},
   "outputs": [
    {
     "data": {
      "text/plain": [
       "Graphs"
      ]
     },
     "execution_count": 5,
     "metadata": {},
     "output_type": "execute_result"
    }
   ],
   "source": [
    "include(\"../src/util.jl\")\n",
    "include(\"../src/io.jl\")\n",
    "include(\"../src/graph.jl\")\n",
    "include(\"../src/pr.jl\")\n",
    "include(\"../src/rw.jl\")\n",
    "\n",
    "using Statistics\n",
    "using Graphs \n",
    "\n",
    "const G = Graphs"
   ]
  },
  {
   "cell_type": "code",
   "execution_count": 2,
   "metadata": {},
   "outputs": [
    {
     "name": "stderr",
     "output_type": "stream",
     "text": [
      "┌ Info: loading graph\n",
      "└ @ Main In[2]:1\n"
     ]
    }
   ],
   "source": [
    "@info(\"loading graph\")\n",
    "core = adjlist(UInt32, is_directed=true)\n",
    "load_mgs3_graph(core, \"../datasets/Arxiv_HEP-PH/Arxiv_HEP-PH_core.mgs\")\n",
    "#load_mgs4_graph(core, \"../datasets/Arxiv_HEP-PH/Arxiv_HEP-PH_core.mgz\")"
   ]
  },
  {
   "cell_type": "code",
   "execution_count": 3,
   "metadata": {},
   "outputs": [
    {
     "name": "stderr",
     "output_type": "stream",
     "text": [
      "┌ Info: getting rcore\n",
      "└ @ Main In[3]:1\n",
      "┌ Info: transforming core from adj to inc list\n",
      "└ @ Main In[3]:4\n"
     ]
    },
    {
     "data": {
      "text/plain": [
       "Directed Graph (12711 vertices, 139981 edges)"
      ]
     },
     "execution_count": 3,
     "metadata": {},
     "output_type": "execute_result"
    }
   ],
   "source": [
    "@info(\"getting rcore\")\n",
    "rcore = get_reverse_graph(core)\n",
    "\n",
    "@info(\"transforming core from adj to inc list\")\n",
    "core2 = get_inclist_from_adjlist(core)\n",
    "#serialize_to_jld(core2, \"core\", \"Arxiv_HEP-PH_core_inclist\")"
   ]
  },
  {
   "cell_type": "code",
   "execution_count": 6,
   "metadata": {},
   "outputs": [
    {
     "name": "stderr",
     "output_type": "stream",
     "text": [
      "┌ Info: computing Djikstra from vertex 1\n",
      "└ @ Main In[6]:1\n",
      "┌ Warning: `mutable_binary_minheap(::Type{T}) where T` is deprecated, use `MutableBinaryMinHeap{T}()` instead.\n",
      "│   caller = create_dijkstra_states(::GenericIncidenceList{UInt32,Graphs.Edge{UInt32},Array{UInt32,1},Array{Array{Graphs.Edge{UInt32},1},1}}, ::Type{Float64}) at dijkstra_spath.jl:33\n",
      "└ @ Graphs /home/jimmy/.julia/packages/Graphs/GQCid/src/dijkstra_spath.jl:33\n"
     ]
    },
    {
     "name": "stdout",
     "output_type": "stream",
     "text": [
      "  1.354739 seconds (838.46 k allocations: 38.403 MiB, 4.40% gc time)\n"
     ]
    },
    {
     "data": {
      "text/plain": [
       "DijkstraStates{UInt32,Float64,MutableBinaryHeap{Graphs.DijkstraHEntry{UInt32,Float64},DataStructures.LessThan},Int64}(UInt32[0x00000001, 0x00000001, 0x00000001, 0x00000001, 0x00000001, 0x00000001, 0x00000004, 0x00000004, 0x00000003, 0x00000005  …  0x00002f80, 0x000022c2, 0x00002eb5, 0x00000df6, 0x00001501, 0x00001194, 0x00001986, 0x00002ceb, 0x00002da2, 0x000028ad], [1, 1, 1, 1, 1, 1, 4, 4, 3, 5  …  12160, 8898, 11957, 3574, 5377, 4500, 6534, 11499, 11682, 10413], [0.0, 1.0, 1.0, 1.0, 1.0, 1.0, 2.0, 2.0, 2.0, 2.0  …  18.0, 19.0, 17.0, 9.0, 8.0, 15.0, 18.0, 19.0, 22.0, 8.0], [2, 2, 2, 2, 2, 2, 2, 2, 2, 2  …  2, 2, 2, 2, 2, 2, 2, 2, 2, 2], MutableBinaryHeap(), [0, 1, 2, 3, 4, 5, 14, 15, 12, 13  …  10855, 11267, 10286, 4423, 2875, 8515, 11033, 11426, 12138, 3542])"
      ]
     },
     "execution_count": 6,
     "metadata": {},
     "output_type": "execute_result"
    }
   ],
   "source": [
    "@info(\"computing Djikstra from vertex 1\")\n",
    "dists = ones(num_edges(core2))\n",
    "s = convert(UInt32,1)\n",
    "t = convert(UInt32,100)\n",
    "n = num_vertices(core)\n",
    "@time r = G.dijkstra_shortest_paths(core2, dists, s)"
   ]
  },
  {
   "cell_type": "code",
   "execution_count": 9,
   "metadata": {},
   "outputs": [
    {
     "name": "stderr",
     "output_type": "stream",
     "text": [
      "┌ Info: mean distance from vertex 1: \n",
      "│   mean(r.dists) = 12.33286130123515\n",
      "└ @ Main In[9]:1\n",
      "┌ Info: shortest paths from vertex 1 to vertices 10 and 100: \n",
      "│   convert(Array{Array{Int64, 1}, 1}, paths) = Array{Int64,1}[[1, 5, 10], [1, 4, 7, 215, 1359, 100]]\n",
      "└ @ Main In[9]:3\n"
     ]
    }
   ],
   "source": [
    "@info(\"mean distance from vertex 1: \", mean(r.dists))\n",
    "paths = G.enumerate_paths(G.vertices(core2), r.parent_indices, [10,100])\n",
    "@info(\"shortest paths from vertex 1 to vertices 10 and 100: \", convert(Array{Array{Int64,1},1}, paths))\n"
   ]
  },
  {
   "cell_type": "code",
   "execution_count": 11,
   "metadata": {},
   "outputs": [
    {
     "name": "stderr",
     "output_type": "stream",
     "text": [
      "┌ Info: computing Bellman-Ford from vertex 1\n",
      "└ @ Main In[11]:1\n"
     ]
    },
    {
     "name": "stdout",
     "output_type": "stream",
     "text": [
      "  0.596100 seconds (416.00 k allocations: 15.820 MiB)\n"
     ]
    },
    {
     "data": {
      "text/plain": [
       "BellmanFordStates{UInt32,Float64}(UInt32[0x00000001, 0x00000001, 0x00000001, 0x00000001, 0x00000001, 0x00000001, 0x00000004, 0x00000004, 0x00000003, 0x00000005  …  0x00002f80, 0x000022c2, 0x00002eb5, 0x00000df6, 0x00001501, 0x00001194, 0x00001986, 0x00002ceb, 0x00002da2, 0x000028ad], [1, 1, 1, 1, 1, 1, 4, 4, 3, 5  …  12160, 8898, 11957, 3574, 5377, 4500, 6534, 11499, 11682, 10413], [0.0, 1.0, 1.0, 1.0, 1.0, 1.0, 2.0, 2.0, 2.0, 2.0  …  18.0, 19.0, 17.0, 9.0, 8.0, 15.0, 18.0, 19.0, 22.0, 8.0])"
      ]
     },
     "execution_count": 11,
     "metadata": {},
     "output_type": "execute_result"
    }
   ],
   "source": [
    "@info(\"computing Bellman-Ford from vertex 1\")\n",
    "@time r = G.bellman_ford_shortest_paths(core2, dists, UInt32[1])"
   ]
  },
  {
   "cell_type": "code",
   "execution_count": 12,
   "metadata": {},
   "outputs": [
    {
     "name": "stderr",
     "output_type": "stream",
     "text": [
      "┌ Info: mean distance from vertex 1: \n",
      "│   mean(r.dists) = 12.33286130123515\n",
      "└ @ Main In[12]:1\n",
      "┌ Info: shortest paths from vertex 1 to vertices 10 and 100: \n",
      "│   convert(Array{Array{Int64, 1}, 1}, paths) = Array{Int64,1}[[1, 5, 10], [1, 4, 7, 215, 1359, 100]]\n",
      "└ @ Main In[12]:3\n"
     ]
    }
   ],
   "source": [
    "@info(\"mean distance from vertex 1: \", mean(r.dists))\n",
    "paths = G.enumerate_paths(G.vertices(core2), r.parent_indices, [10,100])\n",
    "@info(\"shortest paths from vertex 1 to vertices 10 and 100: \", convert(Array{Array{Int64,1},1}, paths))\n"
   ]
  },
  {
   "cell_type": "code",
   "execution_count": 9,
   "metadata": {},
   "outputs": [],
   "source": [
    "# NB: does not work. Error is 'type UInt32 has no field index'\n",
    "#@info(\"computing A* from node 1 to vertex 100\")\n",
    "#@time r = shortest_path(core2, dists, s, t)\n",
    "#@info(\"shortest path from vertex 1 to vertex 100: \", r)"
   ]
  },
  {
   "cell_type": "code",
   "execution_count": 13,
   "metadata": {},
   "outputs": [
    {
     "name": "stderr",
     "output_type": "stream",
     "text": [
      "┌ Info: getting P matrix for core and rcore\n",
      "└ @ Main In[13]:1\n"
     ]
    },
    {
     "data": {
      "text/plain": [
       "12711×12711 SparseMatrixCSC{Float64,UInt32} with 139981 stored entries:\n",
       "  [2   ,     1]  =  0.125\n",
       "  [3   ,     1]  =  0.0333333\n",
       "  [4   ,     1]  =  0.333333\n",
       "  [5   ,     1]  =  0.125\n",
       "  [6   ,     1]  =  0.111111\n",
       "  [11  ,     2]  =  0.0181818\n",
       "  [12  ,     2]  =  0.0117647\n",
       "  [13  ,     2]  =  0.0384615\n",
       "  [9   ,     3]  =  0.00909091\n",
       "  [2   ,     4]  =  0.125\n",
       "  [7   ,     4]  =  0.0140845\n",
       "  [8   ,     4]  =  1.0\n",
       "  ⋮\n",
       "  [5392, 12709]  =  0.0192308\n",
       "  [5538, 12709]  =  0.0163934\n",
       "  [6579, 12709]  =  0.0322581\n",
       "  [7836, 12709]  =  0.0769231\n",
       "  [7837, 12709]  =  0.0344828\n",
       "  [7838, 12709]  =  0.047619\n",
       "  [7840, 12709]  =  0.0526316\n",
       "  [7849, 12709]  =  0.0588235\n",
       "  [7859, 12709]  =  0.142857\n",
       "  [8326, 12709]  =  0.25\n",
       "  [7367, 12710]  =  0.0833333\n",
       "  [7788, 12710]  =  0.333333\n",
       "  [8642, 12711]  =  0.125"
      ]
     },
     "execution_count": 13,
     "metadata": {},
     "output_type": "execute_result"
    }
   ],
   "source": [
    "@info(\"getting P matrix for core and rcore\")\n",
    "P_core = get_sparse_P_matrix(core)\n",
    "P_rcore = get_sparse_P_matrix(rcore)"
   ]
  },
  {
   "cell_type": "code",
   "execution_count": 14,
   "metadata": {},
   "outputs": [
    {
     "name": "stderr",
     "output_type": "stream",
     "text": [
      "┌ Info: computing Pagerank of core and rcore\n",
      "└ @ Main In[14]:1\n"
     ]
    },
    {
     "name": "stdout",
     "output_type": "stream",
     "text": [
      "  0.544045 seconds (1.11 M allocations: 121.987 MiB, 4.93% gc time)\n",
      "  0.057322 seconds (442 allocations: 62.923 MiB, 7.96% gc time)\n"
     ]
    },
    {
     "data": {
      "text/plain": [
       "12711-element Array{Float64,1}:\n",
       " 2.3506964650411283e-5 \n",
       " 1.3191413443360207e-5 \n",
       " 1.2708125781439715e-5 \n",
       " 2.458289022013108e-5  \n",
       " 1.3946375784855819e-5 \n",
       " 1.585286447402359e-5  \n",
       " 1.3228512296329774e-5 \n",
       " 1.3202423281355177e-5 \n",
       " 0.00011675083360173247\n",
       " 1.4702379825133946e-5 \n",
       " 1.5560337979231746e-5 \n",
       " 1.3615841593588844e-5 \n",
       " 3.100862587783376e-5  \n",
       " ⋮                     \n",
       " 2.7115581298810245e-5 \n",
       " 1.2899968839647104e-5 \n",
       " 5.617321927161728e-5  \n",
       " 1.2350273743955862e-5 \n",
       " 1.896742702826373e-5  \n",
       " 2.410345302407722e-5  \n",
       " 7.770864623129471e-5  \n",
       " 1.3970388111074435e-5 \n",
       " 1.4415255470883909e-5 \n",
       " 2.273973208510039e-5  \n",
       " 1.736890154128226e-5  \n",
       " 1.3206918517903125e-5 "
      ]
     },
     "execution_count": 14,
     "metadata": {},
     "output_type": "execute_result"
    }
   ],
   "source": [
    "@info(\"computing Pagerank of core and rcore\")\n",
    "eps = 1e-4\n",
    "#@time pr_core = PR(core, rcore, epsilon=eps)\n",
    "#@time pr_rcore = PR(rcore, core, epsilon=eps)\n",
    "@time pr_core = PR(P_core, epsilon=eps)\n",
    "@time pr_rcore = PR(P_rcore, epsilon=eps)"
   ]
  },
  {
   "cell_type": "code",
   "execution_count": 15,
   "metadata": {},
   "outputs": [
    {
     "name": "stderr",
     "output_type": "stream",
     "text": [
      "┌ Info: computing personalized Pageranks for nodes 1 and 100\n",
      "└ @ Main In[15]:1\n"
     ]
    },
    {
     "name": "stdout",
     "output_type": "stream",
     "text": [
      "  0.216233 seconds (14.31 k allocations: 281.445 MiB, 6.87% gc time)\n",
      "  0.227884 seconds (2.31 k allocations: 339.567 MiB, 2.40% gc time)\n"
     ]
    },
    {
     "data": {
      "text/plain": [
       "12711-element Array{Float64,1}:\n",
       " 1.1788265515358563e-8 \n",
       " 8.072683281701687e-9  \n",
       " 1.6580750143672115e-8 \n",
       " 3.5985528437723655e-8 \n",
       " 1.414443983577478e-9  \n",
       " 1.2131004557771423e-9 \n",
       " 2.8733066538121923e-6 \n",
       " 8.577225986868396e-10 \n",
       " 2.1457441361247574e-6 \n",
       " 7.779520517177703e-9  \n",
       " 7.310123732551845e-12 \n",
       " 1.141723445703547e-13 \n",
       " 2.4692564505614307e-7 \n",
       " ⋮                     \n",
       " 3.686105154360519e-8  \n",
       " 2.394202281468971e-9  \n",
       " 1.8935007586698442e-8 \n",
       " 1.3592252785873656e-13\n",
       " 7.858348221012546e-11 \n",
       " 2.0176700331222436e-7 \n",
       " 5.20747614897535e-10  \n",
       " 1.4714645441595853e-8 \n",
       " 4.8877227293150425e-8 \n",
       " 2.163904669296991e-9  \n",
       " 9.425332763297654e-7  \n",
       " 2.0628076663653054e-18"
      ]
     },
     "execution_count": 15,
     "metadata": {},
     "output_type": "execute_result"
    }
   ],
   "source": [
    "@info(\"computing personalized Pageranks for nodes 1 and 100\")\n",
    "#@time pr_s = PPR(s, core, rcore, epsilon=eps)\n",
    "#@time pr_t = PPR(t, rcore, core, epsilon=eps)\n",
    "ppr_s = zeros(Float64,n)\n",
    "ppr_s[s] = 1.\n",
    "@time pr_s = PR(P_core, ppr=ppr_s, epsilon=1e-10)\n",
    "ppr_t = zeros(Float64,n)\n",
    "ppr_t[t] = 1.\n",
    "@time pr_t = PR(P_rcore, ppr=ppr_t, epsilon=1e-10)"
   ]
  },
  {
   "cell_type": "code",
   "execution_count": 16,
   "metadata": {},
   "outputs": [
    {
     "name": "stderr",
     "output_type": "stream",
     "text": [
      "┌ Info: computing diffusion fingerprints\n",
      "└ @ Main In[16]:1\n"
     ]
    },
    {
     "data": {
      "text/plain": [
       "12711-element Array{Float64,1}:\n",
       " 6.175579439588858     \n",
       " 0.4264694104968008    \n",
       " 0.43029102217018755   \n",
       " 1.9841322848590288    \n",
       " 0.11241826120938118   \n",
       " 0.0645886707977994    \n",
       " 1.367708429272806     \n",
       " 0.027399489696976847  \n",
       " 0.4070095397477239    \n",
       " 0.16677431317126673   \n",
       " 6.078528099619864e-6  \n",
       " 1.2244525025940415e-7 \n",
       " 0.6122671009066754    \n",
       " ⋮                     \n",
       " 5.3335299319671955e-21\n",
       " 2.670420141079053e-22 \n",
       " 5.723645350213881e-21 \n",
       " 5.6003403799701095e-27\n",
       " 2.2491104283117916e-21\n",
       " 3.2568150151026073e-7 \n",
       " 2.4002968795242596e-8 \n",
       " 4.732754564957352e-17 \n",
       " 1.0088513139408395e-21\n",
       " 1.5691388131444544e-22\n",
       " 9.594110258527804e-21 \n",
       " 8.103246055303954e-16 "
      ]
     },
     "execution_count": 16,
     "metadata": {},
     "output_type": "execute_result"
    }
   ],
   "source": [
    "@info(\"computing diffusion fingerprints\")\n",
    "df = pr_s .* pr_t\n",
    "pr_boost = pr_core .* pr_rcore\n",
    "df_boost = df ./ pr_boost"
   ]
  },
  {
   "cell_type": "code",
   "execution_count": 17,
   "metadata": {},
   "outputs": [
    {
     "name": "stderr",
     "output_type": "stream",
     "text": [
      "┌ Info: finding shortest path (greedy approach)\n",
      "└ @ Main In[17]:8\n",
      "┌ Info: path found: \n",
      "│   sp = UInt32[0x00000001, 0x00000004, 0x00000007, 0x000000d7, 0x0000054f]\n",
      "└ @ Main In[17]:31\n",
      "┌ Info: shortest path: \n",
      "│   convert(Array{Int64, 1}, sp) = [1, 4, 7, 215, 1359, 100]\n",
      "└ @ Main In[17]:37\n"
     ]
    }
   ],
   "source": [
    "# max length\n",
    "ml = log(length(G.vertices(core)))\n",
    "# current vertex\n",
    "cv = s\n",
    "# current path\n",
    "sp = UInt32[]\n",
    "\n",
    "@info(\"finding shortest path (greedy approach)\")\n",
    "\n",
    "# greedy approach\n",
    "while length(sp) < ml\n",
    "\tglobal cv\n",
    "\t@debug(\"adding vertex: \", cv)\n",
    "\t# add new vertex to the path\n",
    "\tpush!(sp,cv)\n",
    "\t# get neighbors not already in the path\n",
    "\tnei = out_neighbors(cv,core)\n",
    "\tnnei = setdiff(nei,sp)\n",
    "\t# we reached a dead end...\n",
    "\tif length(nnei) == 0\n",
    "\t\t@info(\"--- exploration reached a dead end\")\n",
    "\t\t@info(\"--- explored path: \", sp)\n",
    "\t\tbreak\n",
    "\tend\n",
    "\t# find the neighbor with highest DF value\n",
    "\tcv = nnei[findmax(df[nnei])[2]]\n",
    "\t#cv = nei[findmax(df_boost[nnei])[2]]\n",
    "\n",
    "\t# we found a path\n",
    "\tif cv == t\n",
    "\t\t@info(\"path found: \", sp)\n",
    "\t\tpush!(sp,t)\n",
    "\t\tbreak\n",
    "\tend\n",
    "end\n",
    "\n",
    "@info(\"shortest path: \", convert(Array{Int64,1}, sp))\n"
   ]
  },
  {
   "cell_type": "code",
   "execution_count": 18,
   "metadata": {},
   "outputs": [
    {
     "name": "stderr",
     "output_type": "stream",
     "text": [
      "┌ Info: finding shortest path (probabilistic approach)\n",
      "└ @ Main In[18]:1\n",
      "┌ Info: shortest paths: \n",
      "│   convert(Array{Array{Int64, 1}, 1}, sps) = Array{Int64,1}[[1, 4, 7, 215, 1359, 100], [1, 2, 13, 105, 215, 1359, 100]]\n",
      "└ @ Main In[18]:46\n"
     ]
    }
   ],
   "source": [
    "@info(\"finding shortest path (probabilistic approach)\")\n",
    "\n",
    "# array of paths\n",
    "sps = Array{Array{UInt32,1},1}()\n",
    "# current path\n",
    "sp = UInt32[]\n",
    "cv = s\n",
    "\n",
    "# search in a probabilistic way shortest paths between s and t\n",
    "c = 0\n",
    "max_iter = 1e3\n",
    "\n",
    "while c < max_iter\n",
    "\tglobal c\n",
    "\twhile length(sp) < ml \n",
    "\t\tglobal sp, cv\n",
    "\t\t@debug(\"adding vertex: \", cv)\n",
    "\t\tpush!(sp,cv)\n",
    "\t\tnei = out_neighbors(cv,core)\n",
    "\t\tnnei = setdiff(nei,sp)\n",
    "\t\tif length(nnei) == 0\n",
    "\t\t\t@debug(\"--- exploration reached a dead end\")\n",
    "\t\t\t@debug(\"--- explored path: \", sp)\n",
    "\t\t\tsp = UInt32[]\n",
    "\t\t\tcv = s\n",
    "\t\t\tbreak\n",
    "\t\tend\n",
    "\t\tpos = get_flying_index(df[nnei] / sum(df[nnei]))\n",
    "\t\tcv = nnei[pos]\n",
    "\n",
    "\t\t# we found a path\n",
    "\t\tif cv == t\n",
    "\t\t\t@debug(\"path found: \", sp)\n",
    "\t\t\tpush!(sp,t)\n",
    "\t\t\tif !(sp in sps)\n",
    "\t\t\t\tpush!(sps,sp)\n",
    "\t\t\tend\n",
    "\t\t\tsp = UInt32[]\n",
    "\t\t\tcv = s\n",
    "\t\t\tbreak\n",
    "\t\tend\n",
    "\tend\n",
    "\tc += 1\n",
    "end\n",
    "\n",
    "@info(\"shortest paths: \", convert(Array{Array{Int64,1},1}, sps))\n"
   ]
  },
  {
   "cell_type": "code",
   "execution_count": null,
   "metadata": {},
   "outputs": [],
   "source": []
  }
 ],
 "metadata": {
  "kernelspec": {
   "display_name": "Julia 1.3.0",
   "language": "julia",
   "name": "julia-1.3"
  },
  "language_info": {
   "file_extension": ".jl",
   "mimetype": "application/julia",
   "name": "julia",
   "version": "1.3.0"
  }
 },
 "nbformat": 4,
 "nbformat_minor": 2
}
