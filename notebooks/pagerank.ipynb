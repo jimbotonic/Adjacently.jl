{
 "cells": [
  {
   "cell_type": "code",
   "execution_count": 21,
   "metadata": {},
   "outputs": [
    {
     "data": {
      "text/plain": [
       "PR (generic function with 5 methods)"
      ]
     },
     "execution_count": 21,
     "metadata": {},
     "output_type": "execute_result"
    }
   ],
   "source": [
    "include(\"../graph.jl\")\n",
    "include(\"../io.jl\")\n",
    "include(\"../pr.jl\")"
   ]
  },
  {
   "cell_type": "code",
   "execution_count": 6,
   "metadata": {},
   "outputs": [
    {
     "data": {
      "text/plain": [
       "0x00000064"
      ]
     },
     "execution_count": 6,
     "metadata": {},
     "output_type": "execute_result"
    }
   ],
   "source": [
    "@info(\"loading graph\")\n",
    "core = adjlist(UInt32, is_directed=true)\n",
    "load_mgs3_graph(core, \"../datasets/Arxiv_HEP-PH/Arxiv_HEP-PH_core.mgs\")\n",
    "#load_mgs4_graph(core, \"../datasets/Arxiv_HEP-PH/Arxiv_HEP-PH_core.mgz\")\n",
    "\n",
    "# define constants\n",
    "n = num_vertices(core)\n",
    "damping = .85\n",
    "epsilon = 1e-8\n",
    "\n",
    "# source and target node to be used in the graph\n",
    "s = convert(UInt32,1)\n",
    "t = convert(UInt32,100)"
   ]
  },
  {
   "cell_type": "code",
   "execution_count": 11,
   "metadata": {},
   "outputs": [
    {
     "name": "stderr",
     "output_type": "stream",
     "text": [
      "┌ Info: getting rcore\n",
      "└ @ Main In[11]:1\n"
     ]
    },
    {
     "data": {
      "text/plain": [
       "Directed Graph (12711 vertices, 139981 edges)"
      ]
     },
     "execution_count": 11,
     "metadata": {},
     "output_type": "execute_result"
    }
   ],
   "source": [
    "@info(\"getting rcore\")\n",
    "rcore = get_reverse_graph(core)"
   ]
  },
  {
   "cell_type": "code",
   "execution_count": 12,
   "metadata": {},
   "outputs": [
    {
     "name": "stderr",
     "output_type": "stream",
     "text": [
      "┌ Info: computing Pagerank of core and rcore\n",
      "└ @ Main In[12]:1\n",
      "┌ Info: computing Pagerank (size of graph 12711)\n",
      "└ @ Main /home/jimmy/Documents/projects/JCNL/pr.jl:31\n"
     ]
    },
    {
     "name": "stdout",
     "output_type": "stream",
     "text": [
      " 34.390666 seconds (7.20 M allocations: 120.632 MiB, 0.05% gc time)\n"
     ]
    },
    {
     "data": {
      "text/plain": [
       "12711-element Array{Float64,1}:\n",
       " 1.2180426083332923e-5 \n",
       " 5.576958680721473e-5  \n",
       " 0.0001523018183933433 \n",
       " 1.881325654228591e-5  \n",
       " 2.6916039325516338e-5 \n",
       " 3.021143080036028e-5  \n",
       " 0.002712795282615076  \n",
       " 1.7131225142005417e-5 \n",
       " 0.002050165700823033  \n",
       " 4.4210978352731306e-5 \n",
       " 0.0014305859177234886 \n",
       " 0.0008125784974850691 \n",
       " 0.00014323071476047894\n",
       " ⋮                     \n",
       " 2.41192412710315e-5   \n",
       " 1.863458748135917e-5  \n",
       " 1.2181834342831553e-5 \n",
       " 1.29865309587917e-5   \n",
       " 1.4277488989680935e-5 \n",
       " 1.3850475578385906e-5 \n",
       " 1.2342431035639167e-5 \n",
       " 1.4356399707917643e-5 \n",
       " 1.211041703709851e-5  \n",
       " 1.3283364288518863e-5 \n",
       " 1.3274575973293074e-5 \n",
       " 1.598313331166969e-5  "
      ]
     },
     "execution_count": 12,
     "metadata": {},
     "output_type": "execute_result"
    }
   ],
   "source": [
    "@info(\"computing Pagerank of core and rcore\")\n",
    "@time pr_core = PR(core, rcore, epsilon=epsilon)\n",
    "#@time pr_rcore = PR(rcore, core, epsilon=epsilon)"
   ]
  },
  {
   "cell_type": "code",
   "execution_count": 14,
   "metadata": {},
   "outputs": [
    {
     "name": "stderr",
     "output_type": "stream",
     "text": [
      "┌ Info: computing personalized Pageranks for nodes 1 and 100\n",
      "└ @ Main In[14]:1\n",
      "┌ Info: computing personalized Pagerank (size of graph 12711, source 1)\n",
      "└ @ Main /home/jimmy/Documents/projects/JCNL/pr.jl:112\n"
     ]
    },
    {
     "name": "stdout",
     "output_type": "stream",
     "text": [
      " 38.855532 seconds (8.23 M allocations: 138.874 MiB, 0.03% gc time)\n"
     ]
    },
    {
     "data": {
      "text/plain": [
       "12711-element Array{Float64,1}:\n",
       " 0.15000003731617217   \n",
       " 0.03886675940776586   \n",
       " 0.050230378864137455  \n",
       " 0.025500006346721265  \n",
       " 0.029835053246013862  \n",
       " 0.025500045509412397  \n",
       " 0.017128009924146623  \n",
       " 0.007225001798238081  \n",
       " 0.04550645808618301   \n",
       " 0.013936024708081415  \n",
       " 0.01852803880126476   \n",
       " 0.011869258242420914  \n",
       " 0.01101338748178447   \n",
       " ⋮                     \n",
       " 9.463316603290713e-23 \n",
       " 2.681298118225403e-23 \n",
       " 2.0685033052419324e-22\n",
       " 6.608469564754296e-24 \n",
       " 7.75077605921725e-21  \n",
       " 5.388743109387597e-10 \n",
       " 4.420936212067362e-8  \n",
       " 6.450921883670794e-19 \n",
       " 3.603377132829556e-24 \n",
       " 2.190412794090886e-23 \n",
       " 2.3470375731396953e-24\n",
       " 8.29226903090909e-8   "
      ]
     },
     "execution_count": 14,
     "metadata": {},
     "output_type": "execute_result"
    }
   ],
   "source": [
    "@info(\"computing personalized Pageranks for nodes 1 and 100\")\n",
    "@time pr_s = PPR(s, core, rcore, epsilon=epsilon)\n",
    "#@time pr_t = PPR(t, rcore, core, epsilon=epsilon)"
   ]
  },
  {
   "cell_type": "code",
   "execution_count": 13,
   "metadata": {},
   "outputs": [
    {
     "name": "stderr",
     "output_type": "stream",
     "text": [
      "┌ Info: compute Pagerank (Monte Carlo)\n",
      "└ @ Main In[13]:3\n",
      "┌ Info: computing Monte-Carlo Pagerank (size of graph 12711)\n",
      "└ @ Main /home/jimmy/Documents/projects/JCNL/pr.jl:155\n"
     ]
    },
    {
     "name": "stdout",
     "output_type": "stream",
     "text": [
      " 51.619783 seconds (11.60 M allocations: 180.933 GiB, 10.13% gc time)\n"
     ]
    },
    {
     "name": "stderr",
     "output_type": "stream",
     "text": [
      "┌ Info: pr_core <-> pr_mc: \n",
      "│   chebyshev(pr_core, pr_mc) = 5.3649904890323494e-5\n",
      "└ @ Main In[13]:6\n"
     ]
    }
   ],
   "source": [
    "# compute Monte Carlo PR\n",
    "niter = 100\n",
    "@info(\"compute Pagerank (Monte Carlo)\")\n",
    "@time pr_mc = PR(core, niter)\n",
    "\n",
    "@info(\"pr_core <-> pr_mc: \", chebyshev(pr_core, pr_mc))"
   ]
  },
  {
   "cell_type": "code",
   "execution_count": 7,
   "metadata": {},
   "outputs": [
    {
     "name": "stderr",
     "output_type": "stream",
     "text": [
      "┌ Info: getting P matrix\n",
      "└ @ Main In[7]:2\n"
     ]
    },
    {
     "name": "stdout",
     "output_type": "stream",
     "text": [
      "  0.580496 seconds (1.34 M allocations: 77.741 MiB, 3.66% gc time)\n"
     ]
    },
    {
     "data": {
      "text/plain": [
       "12711×12711 SparseMatrixCSC{Float64,UInt32} with 139981 stored entries:\n",
       "  [6206 ,     1]  =  0.0285714\n",
       "  [1    ,     2]  =  0.2\n",
       "  [4    ,     2]  =  0.333333\n",
       "  [8    ,     2]  =  1.0\n",
       "  [6224 ,     2]  =  0.166667\n",
       "  [7764 ,     2]  =  0.166667\n",
       "  [7836 ,     2]  =  0.2\n",
       "  [11502,     2]  =  0.125\n",
       "  [11641,     2]  =  0.25\n",
       "  [1    ,     3]  =  0.2\n",
       "  [5    ,     3]  =  0.5\n",
       "  [6    ,     3]  =  0.2\n",
       "  ⋮\n",
       "  [12700, 12701]  =  0.333333\n",
       "  [12160, 12702]  =  0.0322581\n",
       "  [8898 , 12703]  =  0.111111\n",
       "  [11957, 12704]  =  0.2\n",
       "  [12160, 12704]  =  0.0322581\n",
       "  [3574 , 12705]  =  0.166667\n",
       "  [5377 , 12706]  =  0.05\n",
       "  [4500 , 12707]  =  0.25\n",
       "  [6534 , 12708]  =  0.0294118\n",
       "  [11499, 12709]  =  0.142857\n",
       "  [11682, 12710]  =  0.142857\n",
       "  [10413, 12711]  =  0.333333"
      ]
     },
     "execution_count": 7,
     "metadata": {},
     "output_type": "execute_result"
    }
   ],
   "source": [
    "# matrix computation\n",
    "@info(\"getting P matrix\")\n",
    "@time P = get_sparse_P_matrix(core)"
   ]
  },
  {
   "cell_type": "code",
   "execution_count": 15,
   "metadata": {},
   "outputs": [
    {
     "name": "stderr",
     "output_type": "stream",
     "text": [
      "┌ Info: compute Pagerank (power iteration)\n",
      "└ @ Main In[15]:1\n"
     ]
    },
    {
     "name": "stdout",
     "output_type": "stream",
     "text": [
      "  0.135502 seconds (1.45 k allocations: 188.382 MiB, 5.79% gc time)\n"
     ]
    },
    {
     "name": "stderr",
     "output_type": "stream",
     "text": [
      "┌ Info: computing personalized Pageranks for node 1 (power iteration)\n",
      "└ @ Main In[15]:6\n"
     ]
    },
    {
     "name": "stdout",
     "output_type": "stream",
     "text": [
      "  0.149270 seconds (1.67 k allocations: 217.804 MiB, 5.08% gc time)\n"
     ]
    },
    {
     "name": "stderr",
     "output_type": "stream",
     "text": [
      "┌ Info: pr_core <-> pr_pi: \n",
      "│   chebyshev(pr_core, pr_pi) = 2.7755575615628914e-17\n",
      "└ @ Main In[15]:9\n",
      "┌ Info: pr_s <-> pr_pi_s: \n",
      "│   chebyshev(pr_s, pr_pi_s) = 5.3649326516025386e-8\n",
      "└ @ Main In[15]:10\n"
     ]
    }
   ],
   "source": [
    "@info(\"compute Pagerank (power iteration)\")\n",
    "ppr = zeros(Float64,n)\n",
    "ppr[s] = 1.\n",
    "@time pr_pi = PR(P, epsilon=epsilon)\n",
    "\n",
    "@info(\"computing personalized Pageranks for node 1 (power iteration)\")\n",
    "@time pr_pi_s = PR(P, ppr=ppr, epsilon=epsilon)\n",
    "\n",
    "@info(\"pr_core <-> pr_pi: \", chebyshev(pr_core, pr_pi))\n",
    "@info(\"pr_s <-> pr_pi_s: \", chebyshev(pr_s, pr_pi_s))"
   ]
  },
  {
   "cell_type": "code",
   "execution_count": 27,
   "metadata": {},
   "outputs": [
    {
     "name": "stdout",
     "output_type": "stream",
     "text": [
      "  0.045595 seconds (498 allocations: 57.097 MiB, 3.77% gc time)\n"
     ]
    },
    {
     "name": "stderr",
     "output_type": "stream",
     "text": [
      "┌ Info: compute non-linear Pagerank (power iteration)\n",
      "└ @ Main In[27]:1\n",
      "┌ Info: pr_pi <-> pr_pi_nl: \n",
      "│   chebyshev(pr_pi, pr_pi_nl) = 0.06966279339435626\n",
      "└ @ Main In[27]:10\n"
     ]
    }
   ],
   "source": [
    "@info(\"compute non-linear Pagerank (power iteration)\")\n",
    "ppr = zeros(Float64, n)\n",
    "ppr[s] = 1.\n",
    "# change damping\n",
    "damping = 0.95\n",
    "max_iter = 15\n",
    "\n",
    "@time pr_pi_nl = PR(P, tanh, damping=damping, epsilon=epsilon, max_iter=max_iter)\n",
    "\n",
    "@info(\"pr_pi <-> pr_pi_nl: \", chebyshev(pr_pi, pr_pi_nl))\n"
   ]
  }
 ],
 "metadata": {
  "kernelspec": {
   "display_name": "Julia 1.0.3",
   "language": "julia",
   "name": "julia-1.0"
  },
  "language_info": {
   "file_extension": ".jl",
   "mimetype": "application/julia",
   "name": "julia",
   "version": "1.0.3"
  }
 },
 "nbformat": 4,
 "nbformat_minor": 2
}
