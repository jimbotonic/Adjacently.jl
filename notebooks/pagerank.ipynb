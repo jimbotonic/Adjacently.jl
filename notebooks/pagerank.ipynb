{
 "cells": [
  {
   "cell_type": "code",
   "execution_count": null,
   "metadata": {},
   "outputs": [],
   "source": [
    "include(\"../src/graph.jl\")\n",
    "include(\"../src/io.jl\")\n",
    "include(\"../src/pr.jl\")"
   ]
  },
  {
   "cell_type": "code",
   "execution_count": null,
   "metadata": {},
   "outputs": [],
   "source": [
    "@info(\"loading graph\")\n",
    "\n",
    "core = SimpleDiGraph(UInt32)\n",
    "\n",
    "load_mgs3_graph(core, \"../datasets/Arxiv_HEP-PH/Arxiv_HEP-PH_core.mgs\")\n",
    "#load_mgs4_graph(core, \"../datasets/Arxiv_HEP-PH/Arxiv_HEP-PH_core.mgz\")\n",
    "\n",
    "# define constants\n",
    "n = nv(core)\n",
    "damping = .85\n",
    "epsilon = 1e-8\n",
    "\n",
    "# source and target node to be used in the graph\n",
    "s = convert(UInt32,1)\n",
    "t = convert(UInt32,100)"
   ]
  },
  {
   "cell_type": "code",
   "execution_count": null,
   "metadata": {},
   "outputs": [],
   "source": [
    "@info(\"getting rcore\")\n",
    "rcore = get_reverse_graph(core)"
   ]
  },
  {
   "cell_type": "code",
   "execution_count": null,
   "metadata": {},
   "outputs": [],
   "source": [
    "@info(\"computing Pagerank of core and rcore\")\n",
    "\n",
    "@time pr_core = PR(core, rcore, epsilon=epsilon)\n",
    "#@time pr_rcore = PR(rcore, core, epsilon=epsilon)"
   ]
  },
  {
   "cell_type": "code",
   "execution_count": null,
   "metadata": {},
   "outputs": [],
   "source": [
    "@info(\"computing personalized Pageranks for nodes 1 and 100\")\n",
    "@time pr_s = PPR(s, core, rcore, epsilon=epsilon)\n",
    "#@time pr_t = PPR(t, rcore, core, epsilon=epsilon)"
   ]
  },
  {
   "cell_type": "code",
   "execution_count": null,
   "metadata": {
    "scrolled": true
   },
   "outputs": [],
   "source": [
    "# compute Monte Carlo PR\n",
    "niter = 100\n",
    "@info(\"compute Pagerank (Monte Carlo)\")\n",
    "@time pr_mc = PR(core, niter)\n",
    "\n",
    "@info(\"pr_core <-> pr_mc: \", chebyshev(pr_core, pr_mc))"
   ]
  },
  {
   "cell_type": "code",
   "execution_count": null,
   "metadata": {},
   "outputs": [],
   "source": [
    "# matrix computation\n",
    "@info(\"getting P matrix\")\n",
    "@time P = get_sparse_P_matrix(core)"
   ]
  },
  {
   "cell_type": "code",
   "execution_count": null,
   "metadata": {},
   "outputs": [],
   "source": [
    "@info(\"compute Pagerank (power iteration)\")\n",
    "ppr = zeros(Float64,n)\n",
    "ppr[s] = 1.\n",
    "@time pr_pi = PR(P, epsilon=epsilon)\n",
    "\n",
    "@info(\"computing personalized Pageranks for node 1 (power iteration)\")\n",
    "@time pr_pi_s = PR(P, ppr=ppr, epsilon=epsilon)\n",
    "\n",
    "@info(\"pr_core <-> pr_pi: \", chebyshev(pr_core, pr_pi))\n",
    "@info(\"pr_s <-> pr_pi_s: \", chebyshev(pr_s, pr_pi_s))"
   ]
  },
  {
   "cell_type": "code",
   "execution_count": null,
   "metadata": {},
   "outputs": [],
   "source": [
    "@info(\"compute non-linear Pagerank (power iteration)\")\n",
    "ppr = zeros(Float64, n)\n",
    "ppr[s] = 1.\n",
    "# change damping\n",
    "damping = 0.95\n",
    "max_iter = 15\n",
    "\n",
    "@time pr_pi_nl = PR(P, tanh, damping=damping, epsilon=epsilon, max_iter=max_iter)\n",
    "\n",
    "@info(\"pr_pi <-> pr_pi_nl: \", chebyshev(pr_pi, pr_pi_nl))\n"
   ]
  },
  {
   "cell_type": "code",
   "execution_count": null,
   "metadata": {},
   "outputs": [],
   "source": [
    "using GraphPlot\n",
    "\n",
    "layout=(args...)->spring_layout(args...; C=20)\n",
    "gplot(core, layout=layout)\n"
   ]
  },
  {
   "cell_type": "code",
   "execution_count": null,
   "metadata": {},
   "outputs": [],
   "source": []
  }
 ],
 "metadata": {
  "kernelspec": {
   "display_name": "Julia 1.3.0",
   "language": "julia",
   "name": "julia-1.3"
  },
  "language_info": {
   "file_extension": ".jl",
   "mimetype": "application/julia",
   "name": "julia",
   "version": "1.3.0"
  }
 },
 "nbformat": 4,
 "nbformat_minor": 2
}
